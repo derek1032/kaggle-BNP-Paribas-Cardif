{
 "cells": [
  {
   "cell_type": "code",
   "execution_count": 1,
   "metadata": {
    "collapsed": false,
    "deletable": true,
    "editable": true
   },
   "outputs": [],
   "source": [
    "import pandas as pd\n",
    "import numpy as np\n",
    "import scipy.stats as stats\n",
    "import matplotlib.pyplot as plt\n",
    "import seaborn as sns\n",
    "import statsmodels.formula.api as smf\n",
    "import statsmodels.api as sm\n",
    "import prince\n",
    "from sklearn import preprocessing, ensemble\n",
    "from sklearn.linear_model import LinearRegression\n",
    "from sklearn.decomposition import PCA\n",
    "from collections import Counter # R's table\n",
    "from scipy import optimize\n",
    "%matplotlib inline"
   ]
  },
  {
   "cell_type": "code",
   "execution_count": 2,
   "metadata": {
    "collapsed": false,
    "deletable": true,
    "editable": true
   },
   "outputs": [],
   "source": [
    "# Loading training set\n",
    "train = pd.read_csv('train.csv')"
   ]
  },
  {
   "cell_type": "markdown",
   "metadata": {
    "deletable": true,
    "editable": true
   },
   "source": [
    "## Exploratory Data Analysis (EDA)"
   ]
  },
  {
   "cell_type": "code",
   "execution_count": 3,
   "metadata": {
    "collapsed": false,
    "deletable": true,
    "editable": true
   },
   "outputs": [
    {
     "name": "stdout",
     "output_type": "stream",
     "text": [
      "114321 rows and 133 columns.\n"
     ]
    }
   ],
   "source": [
    "print('{} rows and {} columns.'. format(train.shape[0], train.shape[1]))"
   ]
  },
  {
   "cell_type": "code",
   "execution_count": 4,
   "metadata": {
    "collapsed": false,
    "deletable": true,
    "editable": true
   },
   "outputs": [
    {
     "name": "stderr",
     "output_type": "stream",
     "text": [
      "/Library/Frameworks/Python.framework/Versions/3.5/lib/python3.5/site-packages/numpy/lib/function_base.py:4269: RuntimeWarning: Invalid value encountered in percentile\n",
      "  interpolation=interpolation)\n"
     ]
    },
    {
     "data": {
      "text/html": [
       "<div>\n",
       "<table border=\"1\" class=\"dataframe\">\n",
       "  <thead>\n",
       "    <tr style=\"text-align: right;\">\n",
       "      <th></th>\n",
       "      <th>ID</th>\n",
       "      <th>target</th>\n",
       "      <th>v1</th>\n",
       "      <th>v2</th>\n",
       "      <th>v4</th>\n",
       "      <th>v5</th>\n",
       "      <th>v6</th>\n",
       "      <th>v7</th>\n",
       "      <th>v8</th>\n",
       "      <th>v9</th>\n",
       "      <th>...</th>\n",
       "      <th>v121</th>\n",
       "      <th>v122</th>\n",
       "      <th>v123</th>\n",
       "      <th>v124</th>\n",
       "      <th>v126</th>\n",
       "      <th>v127</th>\n",
       "      <th>v128</th>\n",
       "      <th>v129</th>\n",
       "      <th>v130</th>\n",
       "      <th>v131</th>\n",
       "    </tr>\n",
       "  </thead>\n",
       "  <tbody>\n",
       "    <tr>\n",
       "      <th>count</th>\n",
       "      <td>114321.000000</td>\n",
       "      <td>114321.000000</td>\n",
       "      <td>6.448900e+04</td>\n",
       "      <td>6.452500e+04</td>\n",
       "      <td>6.452500e+04</td>\n",
       "      <td>6.569700e+04</td>\n",
       "      <td>6.448900e+04</td>\n",
       "      <td>6.448900e+04</td>\n",
       "      <td>6.570200e+04</td>\n",
       "      <td>6.447000e+04</td>\n",
       "      <td>...</td>\n",
       "      <td>6.448100e+04</td>\n",
       "      <td>6.447000e+04</td>\n",
       "      <td>63643.000000</td>\n",
       "      <td>6.570200e+04</td>\n",
       "      <td>6.448900e+04</td>\n",
       "      <td>6.448900e+04</td>\n",
       "      <td>6.569700e+04</td>\n",
       "      <td>114321.000000</td>\n",
       "      <td>6.447800e+04</td>\n",
       "      <td>6.442600e+04</td>\n",
       "    </tr>\n",
       "    <tr>\n",
       "      <th>mean</th>\n",
       "      <td>114228.928228</td>\n",
       "      <td>0.761199</td>\n",
       "      <td>1.630686e+00</td>\n",
       "      <td>7.464411e+00</td>\n",
       "      <td>4.145098e+00</td>\n",
       "      <td>8.742359e+00</td>\n",
       "      <td>2.436402e+00</td>\n",
       "      <td>2.483921e+00</td>\n",
       "      <td>1.496569e+00</td>\n",
       "      <td>9.031859e+00</td>\n",
       "      <td>...</td>\n",
       "      <td>2.737596e+00</td>\n",
       "      <td>6.822439e+00</td>\n",
       "      <td>3.549938</td>\n",
       "      <td>9.198120e-01</td>\n",
       "      <td>1.672658e+00</td>\n",
       "      <td>3.239542e+00</td>\n",
       "      <td>2.030373e+00</td>\n",
       "      <td>0.310144</td>\n",
       "      <td>1.925763e+00</td>\n",
       "      <td>1.739389e+00</td>\n",
       "    </tr>\n",
       "    <tr>\n",
       "      <th>std</th>\n",
       "      <td>65934.487362</td>\n",
       "      <td>0.426353</td>\n",
       "      <td>1.082813e+00</td>\n",
       "      <td>2.961676e+00</td>\n",
       "      <td>1.148263e+00</td>\n",
       "      <td>2.036018e+00</td>\n",
       "      <td>5.999653e-01</td>\n",
       "      <td>5.894485e-01</td>\n",
       "      <td>2.783003e+00</td>\n",
       "      <td>1.930262e+00</td>\n",
       "      <td>...</td>\n",
       "      <td>1.356294e+00</td>\n",
       "      <td>1.795978e+00</td>\n",
       "      <td>2.604704</td>\n",
       "      <td>2.099407e+00</td>\n",
       "      <td>5.031683e-01</td>\n",
       "      <td>1.625988e+00</td>\n",
       "      <td>1.074232e+00</td>\n",
       "      <td>0.693262</td>\n",
       "      <td>1.264497e+00</td>\n",
       "      <td>1.134702e+00</td>\n",
       "    </tr>\n",
       "    <tr>\n",
       "      <th>min</th>\n",
       "      <td>3.000000</td>\n",
       "      <td>0.000000</td>\n",
       "      <td>-9.996497e-07</td>\n",
       "      <td>-9.817614e-07</td>\n",
       "      <td>-6.475929e-07</td>\n",
       "      <td>-5.287068e-07</td>\n",
       "      <td>-9.055091e-07</td>\n",
       "      <td>-9.468765e-07</td>\n",
       "      <td>-7.783778e-07</td>\n",
       "      <td>-9.828757e-07</td>\n",
       "      <td>...</td>\n",
       "      <td>-9.820642e-07</td>\n",
       "      <td>-9.978497e-07</td>\n",
       "      <td>0.019139</td>\n",
       "      <td>-9.994953e-07</td>\n",
       "      <td>-9.564174e-07</td>\n",
       "      <td>-9.223798e-07</td>\n",
       "      <td>8.197812e-07</td>\n",
       "      <td>0.000000</td>\n",
       "      <td>-9.901257e-07</td>\n",
       "      <td>-9.999134e-07</td>\n",
       "    </tr>\n",
       "    <tr>\n",
       "      <th>25%</th>\n",
       "      <td>57280.000000</td>\n",
       "      <td>1.000000</td>\n",
       "      <td>NaN</td>\n",
       "      <td>NaN</td>\n",
       "      <td>NaN</td>\n",
       "      <td>NaN</td>\n",
       "      <td>NaN</td>\n",
       "      <td>NaN</td>\n",
       "      <td>NaN</td>\n",
       "      <td>NaN</td>\n",
       "      <td>...</td>\n",
       "      <td>NaN</td>\n",
       "      <td>NaN</td>\n",
       "      <td>NaN</td>\n",
       "      <td>NaN</td>\n",
       "      <td>NaN</td>\n",
       "      <td>NaN</td>\n",
       "      <td>NaN</td>\n",
       "      <td>0.000000</td>\n",
       "      <td>NaN</td>\n",
       "      <td>NaN</td>\n",
       "    </tr>\n",
       "    <tr>\n",
       "      <th>50%</th>\n",
       "      <td>114189.000000</td>\n",
       "      <td>1.000000</td>\n",
       "      <td>NaN</td>\n",
       "      <td>NaN</td>\n",
       "      <td>NaN</td>\n",
       "      <td>NaN</td>\n",
       "      <td>NaN</td>\n",
       "      <td>NaN</td>\n",
       "      <td>NaN</td>\n",
       "      <td>NaN</td>\n",
       "      <td>...</td>\n",
       "      <td>NaN</td>\n",
       "      <td>NaN</td>\n",
       "      <td>NaN</td>\n",
       "      <td>NaN</td>\n",
       "      <td>NaN</td>\n",
       "      <td>NaN</td>\n",
       "      <td>NaN</td>\n",
       "      <td>0.000000</td>\n",
       "      <td>NaN</td>\n",
       "      <td>NaN</td>\n",
       "    </tr>\n",
       "    <tr>\n",
       "      <th>75%</th>\n",
       "      <td>171206.000000</td>\n",
       "      <td>1.000000</td>\n",
       "      <td>NaN</td>\n",
       "      <td>NaN</td>\n",
       "      <td>NaN</td>\n",
       "      <td>NaN</td>\n",
       "      <td>NaN</td>\n",
       "      <td>NaN</td>\n",
       "      <td>NaN</td>\n",
       "      <td>NaN</td>\n",
       "      <td>...</td>\n",
       "      <td>NaN</td>\n",
       "      <td>NaN</td>\n",
       "      <td>NaN</td>\n",
       "      <td>NaN</td>\n",
       "      <td>NaN</td>\n",
       "      <td>NaN</td>\n",
       "      <td>NaN</td>\n",
       "      <td>0.000000</td>\n",
       "      <td>NaN</td>\n",
       "      <td>NaN</td>\n",
       "    </tr>\n",
       "    <tr>\n",
       "      <th>max</th>\n",
       "      <td>228713.000000</td>\n",
       "      <td>1.000000</td>\n",
       "      <td>2.000000e+01</td>\n",
       "      <td>2.000000e+01</td>\n",
       "      <td>2.000000e+01</td>\n",
       "      <td>2.000000e+01</td>\n",
       "      <td>2.000000e+01</td>\n",
       "      <td>2.000000e+01</td>\n",
       "      <td>2.000000e+01</td>\n",
       "      <td>2.000000e+01</td>\n",
       "      <td>...</td>\n",
       "      <td>2.000000e+01</td>\n",
       "      <td>2.000000e+01</td>\n",
       "      <td>19.686069</td>\n",
       "      <td>2.000000e+01</td>\n",
       "      <td>1.563161e+01</td>\n",
       "      <td>2.000000e+01</td>\n",
       "      <td>2.000000e+01</td>\n",
       "      <td>11.000000</td>\n",
       "      <td>2.000000e+01</td>\n",
       "      <td>2.000000e+01</td>\n",
       "    </tr>\n",
       "  </tbody>\n",
       "</table>\n",
       "<p>8 rows × 114 columns</p>\n",
       "</div>"
      ],
      "text/plain": [
       "                  ID         target            v1            v2            v4  \\\n",
       "count  114321.000000  114321.000000  6.448900e+04  6.452500e+04  6.452500e+04   \n",
       "mean   114228.928228       0.761199  1.630686e+00  7.464411e+00  4.145098e+00   \n",
       "std     65934.487362       0.426353  1.082813e+00  2.961676e+00  1.148263e+00   \n",
       "min         3.000000       0.000000 -9.996497e-07 -9.817614e-07 -6.475929e-07   \n",
       "25%     57280.000000       1.000000           NaN           NaN           NaN   \n",
       "50%    114189.000000       1.000000           NaN           NaN           NaN   \n",
       "75%    171206.000000       1.000000           NaN           NaN           NaN   \n",
       "max    228713.000000       1.000000  2.000000e+01  2.000000e+01  2.000000e+01   \n",
       "\n",
       "                 v5            v6            v7            v8            v9  \\\n",
       "count  6.569700e+04  6.448900e+04  6.448900e+04  6.570200e+04  6.447000e+04   \n",
       "mean   8.742359e+00  2.436402e+00  2.483921e+00  1.496569e+00  9.031859e+00   \n",
       "std    2.036018e+00  5.999653e-01  5.894485e-01  2.783003e+00  1.930262e+00   \n",
       "min   -5.287068e-07 -9.055091e-07 -9.468765e-07 -7.783778e-07 -9.828757e-07   \n",
       "25%             NaN           NaN           NaN           NaN           NaN   \n",
       "50%             NaN           NaN           NaN           NaN           NaN   \n",
       "75%             NaN           NaN           NaN           NaN           NaN   \n",
       "max    2.000000e+01  2.000000e+01  2.000000e+01  2.000000e+01  2.000000e+01   \n",
       "\n",
       "           ...               v121          v122          v123          v124  \\\n",
       "count      ...       6.448100e+04  6.447000e+04  63643.000000  6.570200e+04   \n",
       "mean       ...       2.737596e+00  6.822439e+00      3.549938  9.198120e-01   \n",
       "std        ...       1.356294e+00  1.795978e+00      2.604704  2.099407e+00   \n",
       "min        ...      -9.820642e-07 -9.978497e-07      0.019139 -9.994953e-07   \n",
       "25%        ...                NaN           NaN           NaN           NaN   \n",
       "50%        ...                NaN           NaN           NaN           NaN   \n",
       "75%        ...                NaN           NaN           NaN           NaN   \n",
       "max        ...       2.000000e+01  2.000000e+01     19.686069  2.000000e+01   \n",
       "\n",
       "               v126          v127          v128           v129          v130  \\\n",
       "count  6.448900e+04  6.448900e+04  6.569700e+04  114321.000000  6.447800e+04   \n",
       "mean   1.672658e+00  3.239542e+00  2.030373e+00       0.310144  1.925763e+00   \n",
       "std    5.031683e-01  1.625988e+00  1.074232e+00       0.693262  1.264497e+00   \n",
       "min   -9.564174e-07 -9.223798e-07  8.197812e-07       0.000000 -9.901257e-07   \n",
       "25%             NaN           NaN           NaN       0.000000           NaN   \n",
       "50%             NaN           NaN           NaN       0.000000           NaN   \n",
       "75%             NaN           NaN           NaN       0.000000           NaN   \n",
       "max    1.563161e+01  2.000000e+01  2.000000e+01      11.000000  2.000000e+01   \n",
       "\n",
       "               v131  \n",
       "count  6.442600e+04  \n",
       "mean   1.739389e+00  \n",
       "std    1.134702e+00  \n",
       "min   -9.999134e-07  \n",
       "25%             NaN  \n",
       "50%             NaN  \n",
       "75%             NaN  \n",
       "max    2.000000e+01  \n",
       "\n",
       "[8 rows x 114 columns]"
      ]
     },
     "execution_count": 4,
     "metadata": {},
     "output_type": "execute_result"
    }
   ],
   "source": [
    "train.describe() # Statistics summary"
   ]
  },
  {
   "cell_type": "code",
   "execution_count": 5,
   "metadata": {
    "collapsed": false,
    "deletable": true,
    "editable": true,
    "scrolled": false
   },
   "outputs": [
    {
     "data": {
      "text/html": [
       "<div>\n",
       "<table border=\"1\" class=\"dataframe\">\n",
       "  <thead>\n",
       "    <tr style=\"text-align: right;\">\n",
       "      <th></th>\n",
       "      <th>v3</th>\n",
       "      <th>v22</th>\n",
       "      <th>v24</th>\n",
       "      <th>v30</th>\n",
       "      <th>v31</th>\n",
       "      <th>v47</th>\n",
       "      <th>v52</th>\n",
       "      <th>v56</th>\n",
       "      <th>v66</th>\n",
       "      <th>v71</th>\n",
       "      <th>v74</th>\n",
       "      <th>v75</th>\n",
       "      <th>v79</th>\n",
       "      <th>v91</th>\n",
       "      <th>v107</th>\n",
       "      <th>v110</th>\n",
       "      <th>v112</th>\n",
       "      <th>v113</th>\n",
       "      <th>v125</th>\n",
       "    </tr>\n",
       "  </thead>\n",
       "  <tbody>\n",
       "    <tr>\n",
       "      <th>0</th>\n",
       "      <td>C</td>\n",
       "      <td>XDX</td>\n",
       "      <td>C</td>\n",
       "      <td>C</td>\n",
       "      <td>A</td>\n",
       "      <td>C</td>\n",
       "      <td>G</td>\n",
       "      <td>DI</td>\n",
       "      <td>C</td>\n",
       "      <td>F</td>\n",
       "      <td>B</td>\n",
       "      <td>D</td>\n",
       "      <td>E</td>\n",
       "      <td>A</td>\n",
       "      <td>E</td>\n",
       "      <td>B</td>\n",
       "      <td>O</td>\n",
       "      <td>NaN</td>\n",
       "      <td>AU</td>\n",
       "    </tr>\n",
       "    <tr>\n",
       "      <th>1</th>\n",
       "      <td>C</td>\n",
       "      <td>GUV</td>\n",
       "      <td>C</td>\n",
       "      <td>C</td>\n",
       "      <td>A</td>\n",
       "      <td>E</td>\n",
       "      <td>G</td>\n",
       "      <td>DY</td>\n",
       "      <td>A</td>\n",
       "      <td>F</td>\n",
       "      <td>B</td>\n",
       "      <td>D</td>\n",
       "      <td>D</td>\n",
       "      <td>B</td>\n",
       "      <td>B</td>\n",
       "      <td>A</td>\n",
       "      <td>U</td>\n",
       "      <td>G</td>\n",
       "      <td>AF</td>\n",
       "    </tr>\n",
       "    <tr>\n",
       "      <th>2</th>\n",
       "      <td>C</td>\n",
       "      <td>FQ</td>\n",
       "      <td>E</td>\n",
       "      <td>NaN</td>\n",
       "      <td>A</td>\n",
       "      <td>C</td>\n",
       "      <td>F</td>\n",
       "      <td>AS</td>\n",
       "      <td>A</td>\n",
       "      <td>B</td>\n",
       "      <td>B</td>\n",
       "      <td>B</td>\n",
       "      <td>E</td>\n",
       "      <td>G</td>\n",
       "      <td>C</td>\n",
       "      <td>B</td>\n",
       "      <td>S</td>\n",
       "      <td>NaN</td>\n",
       "      <td>AE</td>\n",
       "    </tr>\n",
       "    <tr>\n",
       "      <th>3</th>\n",
       "      <td>C</td>\n",
       "      <td>ACUE</td>\n",
       "      <td>D</td>\n",
       "      <td>C</td>\n",
       "      <td>B</td>\n",
       "      <td>C</td>\n",
       "      <td>H</td>\n",
       "      <td>BW</td>\n",
       "      <td>A</td>\n",
       "      <td>F</td>\n",
       "      <td>B</td>\n",
       "      <td>D</td>\n",
       "      <td>B</td>\n",
       "      <td>B</td>\n",
       "      <td>B</td>\n",
       "      <td>B</td>\n",
       "      <td>J</td>\n",
       "      <td>NaN</td>\n",
       "      <td>CJ</td>\n",
       "    </tr>\n",
       "    <tr>\n",
       "      <th>4</th>\n",
       "      <td>C</td>\n",
       "      <td>HIT</td>\n",
       "      <td>E</td>\n",
       "      <td>NaN</td>\n",
       "      <td>A</td>\n",
       "      <td>I</td>\n",
       "      <td>H</td>\n",
       "      <td>NaN</td>\n",
       "      <td>C</td>\n",
       "      <td>F</td>\n",
       "      <td>B</td>\n",
       "      <td>D</td>\n",
       "      <td>C</td>\n",
       "      <td>G</td>\n",
       "      <td>C</td>\n",
       "      <td>A</td>\n",
       "      <td>T</td>\n",
       "      <td>G</td>\n",
       "      <td>Z</td>\n",
       "    </tr>\n",
       "  </tbody>\n",
       "</table>\n",
       "</div>"
      ],
      "text/plain": [
       "  v3   v22 v24  v30 v31 v47 v52  v56 v66 v71 v74 v75 v79 v91 v107 v110 v112  \\\n",
       "0  C   XDX   C    C   A   C   G   DI   C   F   B   D   E   A    E    B    O   \n",
       "1  C   GUV   C    C   A   E   G   DY   A   F   B   D   D   B    B    A    U   \n",
       "2  C    FQ   E  NaN   A   C   F   AS   A   B   B   B   E   G    C    B    S   \n",
       "3  C  ACUE   D    C   B   C   H   BW   A   F   B   D   B   B    B    B    J   \n",
       "4  C   HIT   E  NaN   A   I   H  NaN   C   F   B   D   C   G    C    A    T   \n",
       "\n",
       "  v113 v125  \n",
       "0  NaN   AU  \n",
       "1    G   AF  \n",
       "2  NaN   AE  \n",
       "3  NaN   CJ  \n",
       "4    G    Z  "
      ]
     },
     "execution_count": 5,
     "metadata": {},
     "output_type": "execute_result"
    }
   ],
   "source": [
    "categoricals = train.select_dtypes(include=['O']); categoricals.head() # Categorical variable"
   ]
  },
  {
   "cell_type": "code",
   "execution_count": 6,
   "metadata": {
    "collapsed": false,
    "deletable": true,
    "editable": true
   },
   "outputs": [
    {
     "data": {
      "text/html": [
       "<div>\n",
       "<table border=\"1\" class=\"dataframe\">\n",
       "  <thead>\n",
       "    <tr style=\"text-align: right;\">\n",
       "      <th></th>\n",
       "      <th>v1</th>\n",
       "      <th>v2</th>\n",
       "      <th>v4</th>\n",
       "      <th>v5</th>\n",
       "      <th>v6</th>\n",
       "      <th>v7</th>\n",
       "      <th>v8</th>\n",
       "      <th>v9</th>\n",
       "      <th>v10</th>\n",
       "      <th>v11</th>\n",
       "      <th>...</th>\n",
       "      <th>v121</th>\n",
       "      <th>v122</th>\n",
       "      <th>v123</th>\n",
       "      <th>v124</th>\n",
       "      <th>v126</th>\n",
       "      <th>v127</th>\n",
       "      <th>v128</th>\n",
       "      <th>v129</th>\n",
       "      <th>v130</th>\n",
       "      <th>v131</th>\n",
       "    </tr>\n",
       "  </thead>\n",
       "  <tbody>\n",
       "    <tr>\n",
       "      <th>0</th>\n",
       "      <td>1.335739</td>\n",
       "      <td>8.727474</td>\n",
       "      <td>3.921026</td>\n",
       "      <td>7.915266</td>\n",
       "      <td>2.599278</td>\n",
       "      <td>3.176895</td>\n",
       "      <td>0.012941</td>\n",
       "      <td>9.999999</td>\n",
       "      <td>0.503281</td>\n",
       "      <td>16.434108</td>\n",
       "      <td>...</td>\n",
       "      <td>0.803572</td>\n",
       "      <td>8.000000</td>\n",
       "      <td>1.989780</td>\n",
       "      <td>0.035754</td>\n",
       "      <td>1.804126</td>\n",
       "      <td>3.113719</td>\n",
       "      <td>2.024285</td>\n",
       "      <td>0</td>\n",
       "      <td>0.636365</td>\n",
       "      <td>2.857144</td>\n",
       "    </tr>\n",
       "    <tr>\n",
       "      <th>1</th>\n",
       "      <td>NaN</td>\n",
       "      <td>NaN</td>\n",
       "      <td>NaN</td>\n",
       "      <td>9.191265</td>\n",
       "      <td>NaN</td>\n",
       "      <td>NaN</td>\n",
       "      <td>2.301630</td>\n",
       "      <td>NaN</td>\n",
       "      <td>1.312910</td>\n",
       "      <td>NaN</td>\n",
       "      <td>...</td>\n",
       "      <td>NaN</td>\n",
       "      <td>NaN</td>\n",
       "      <td>NaN</td>\n",
       "      <td>0.598896</td>\n",
       "      <td>NaN</td>\n",
       "      <td>NaN</td>\n",
       "      <td>1.957825</td>\n",
       "      <td>0</td>\n",
       "      <td>NaN</td>\n",
       "      <td>NaN</td>\n",
       "    </tr>\n",
       "    <tr>\n",
       "      <th>2</th>\n",
       "      <td>0.943877</td>\n",
       "      <td>5.310079</td>\n",
       "      <td>4.410969</td>\n",
       "      <td>5.326159</td>\n",
       "      <td>3.979592</td>\n",
       "      <td>3.928571</td>\n",
       "      <td>0.019645</td>\n",
       "      <td>12.666667</td>\n",
       "      <td>0.765864</td>\n",
       "      <td>14.756098</td>\n",
       "      <td>...</td>\n",
       "      <td>2.238806</td>\n",
       "      <td>9.333333</td>\n",
       "      <td>2.477596</td>\n",
       "      <td>0.013452</td>\n",
       "      <td>1.773709</td>\n",
       "      <td>3.922193</td>\n",
       "      <td>1.120468</td>\n",
       "      <td>2</td>\n",
       "      <td>0.883118</td>\n",
       "      <td>1.176472</td>\n",
       "    </tr>\n",
       "    <tr>\n",
       "      <th>3</th>\n",
       "      <td>0.797415</td>\n",
       "      <td>8.304757</td>\n",
       "      <td>4.225930</td>\n",
       "      <td>11.627438</td>\n",
       "      <td>2.097700</td>\n",
       "      <td>1.987549</td>\n",
       "      <td>0.171947</td>\n",
       "      <td>8.965516</td>\n",
       "      <td>6.542669</td>\n",
       "      <td>16.347483</td>\n",
       "      <td>...</td>\n",
       "      <td>1.956521</td>\n",
       "      <td>7.018256</td>\n",
       "      <td>1.812795</td>\n",
       "      <td>0.002267</td>\n",
       "      <td>1.415230</td>\n",
       "      <td>2.954381</td>\n",
       "      <td>1.990847</td>\n",
       "      <td>1</td>\n",
       "      <td>1.677108</td>\n",
       "      <td>1.034483</td>\n",
       "    </tr>\n",
       "    <tr>\n",
       "      <th>4</th>\n",
       "      <td>NaN</td>\n",
       "      <td>NaN</td>\n",
       "      <td>NaN</td>\n",
       "      <td>NaN</td>\n",
       "      <td>NaN</td>\n",
       "      <td>NaN</td>\n",
       "      <td>NaN</td>\n",
       "      <td>NaN</td>\n",
       "      <td>1.050328</td>\n",
       "      <td>NaN</td>\n",
       "      <td>...</td>\n",
       "      <td>NaN</td>\n",
       "      <td>NaN</td>\n",
       "      <td>NaN</td>\n",
       "      <td>NaN</td>\n",
       "      <td>NaN</td>\n",
       "      <td>NaN</td>\n",
       "      <td>NaN</td>\n",
       "      <td>0</td>\n",
       "      <td>NaN</td>\n",
       "      <td>NaN</td>\n",
       "    </tr>\n",
       "  </tbody>\n",
       "</table>\n",
       "<p>5 rows × 112 columns</p>\n",
       "</div>"
      ],
      "text/plain": [
       "         v1        v2        v4         v5        v6        v7        v8  \\\n",
       "0  1.335739  8.727474  3.921026   7.915266  2.599278  3.176895  0.012941   \n",
       "1       NaN       NaN       NaN   9.191265       NaN       NaN  2.301630   \n",
       "2  0.943877  5.310079  4.410969   5.326159  3.979592  3.928571  0.019645   \n",
       "3  0.797415  8.304757  4.225930  11.627438  2.097700  1.987549  0.171947   \n",
       "4       NaN       NaN       NaN        NaN       NaN       NaN       NaN   \n",
       "\n",
       "          v9       v10        v11    ...         v121      v122      v123  \\\n",
       "0   9.999999  0.503281  16.434108    ...     0.803572  8.000000  1.989780   \n",
       "1        NaN  1.312910        NaN    ...          NaN       NaN       NaN   \n",
       "2  12.666667  0.765864  14.756098    ...     2.238806  9.333333  2.477596   \n",
       "3   8.965516  6.542669  16.347483    ...     1.956521  7.018256  1.812795   \n",
       "4        NaN  1.050328        NaN    ...          NaN       NaN       NaN   \n",
       "\n",
       "       v124      v126      v127      v128  v129      v130      v131  \n",
       "0  0.035754  1.804126  3.113719  2.024285     0  0.636365  2.857144  \n",
       "1  0.598896       NaN       NaN  1.957825     0       NaN       NaN  \n",
       "2  0.013452  1.773709  3.922193  1.120468     2  0.883118  1.176472  \n",
       "3  0.002267  1.415230  2.954381  1.990847     1  1.677108  1.034483  \n",
       "4       NaN       NaN       NaN       NaN     0       NaN       NaN  \n",
       "\n",
       "[5 rows x 112 columns]"
      ]
     },
     "execution_count": 6,
     "metadata": {},
     "output_type": "execute_result"
    }
   ],
   "source": [
    "numericals = train.select_dtypes(include=['float','int']).drop(['ID','target'], axis=1); numericals.head() # Numerical variable"
   ]
  },
  {
   "cell_type": "markdown",
   "metadata": {},
   "source": [
    "### PCA"
   ]
  },
  {
   "cell_type": "code",
   "execution_count": 7,
   "metadata": {
    "collapsed": false,
    "deletable": true,
    "editable": true
   },
   "outputs": [
    {
     "data": {
      "text/plain": [
       "PCA(copy=True, iterated_power='auto', n_components=10, random_state=None,\n",
       "  svd_solver='auto', tol=0.0, whiten=False)"
      ]
     },
     "execution_count": 7,
     "metadata": {},
     "output_type": "execute_result"
    }
   ],
   "source": [
    "pca = PCA(n_components=10)\n",
    "pca.fit(numericals.dropna(axis=0))"
   ]
  },
  {
   "cell_type": "code",
   "execution_count": 8,
   "metadata": {
    "collapsed": false,
    "deletable": true,
    "editable": true
   },
   "outputs": [
    {
     "data": {
      "text/plain": [
       "array([ 0.34406282,  0.53828087,  0.60890184,  0.66077008,  0.70189153,\n",
       "        0.73918304,  0.77001744,  0.79449638,  0.81477355,  0.83190154])"
      ]
     },
     "execution_count": 8,
     "metadata": {},
     "output_type": "execute_result"
    }
   ],
   "source": [
    "np.cumsum(pca.explained_variance_ratio_)"
   ]
  },
  {
   "cell_type": "markdown",
   "metadata": {
    "deletable": true,
    "editable": true
   },
   "source": [
    "### Correlation of Categorical Variables"
   ]
  },
  {
   "cell_type": "code",
   "execution_count": 9,
   "metadata": {
    "collapsed": false,
    "deletable": true,
    "editable": true
   },
   "outputs": [],
   "source": [
    "mapped_categoricals = categoricals.copy()\n",
    "for c in categoricals:\n",
    "    mapping = Counter(categoricals[c])\n",
    "    mapped_categoricals[c] = categoricals[c].map(mapping)"
   ]
  },
  {
   "cell_type": "code",
   "execution_count": 10,
   "metadata": {
    "collapsed": false,
    "deletable": true,
    "editable": true,
    "scrolled": true
   },
   "outputs": [],
   "source": [
    "categorical_corr = mapped_categoricals.corr()"
   ]
  },
  {
   "cell_type": "code",
   "execution_count": 11,
   "metadata": {
    "collapsed": false,
    "deletable": true,
    "editable": true,
    "scrolled": true
   },
   "outputs": [
    {
     "data": {
      "text/plain": [
       "<matplotlib.axes._subplots.AxesSubplot at 0x114110240>"
      ]
     },
     "execution_count": 11,
     "metadata": {},
     "output_type": "execute_result"
    },
    {
     "data": {
      "image/png": "[encoded data removed]",
      "text/plain": [
       "<matplotlib.figure.Figure at 0x1140e3668>"
      ]
     },
     "metadata": {},
     "output_type": "display_data"
    }
   ],
   "source": [
    "mask = np.zeros_like(categorical_corr, dtype=np.bool)\n",
    "mask[np.triu_indices_from(mask)] = True\n",
    "# Generate a custom diverging colormap\n",
    "cmap = sns.diverging_palette(220, 10, as_cmap=True)\n",
    "f, ax = plt.subplots(figsize=(12, 9))\n",
    "# Draw the heatmap with the mask and correct aspect ratio\n",
    "sns.heatmap(categorical_corr, mask=mask, cmap=cmap, vmax=.9, center=0,\n",
    "            square=True, linewidths=.5, cbar_kws={\"shrink\": .7})"
   ]
  },
  {
   "cell_type": "markdown",
   "metadata": {
    "deletable": true,
    "editable": true
   },
   "source": [
    "### Categorical variable: v91 - v107"
   ]
  },
  {
   "cell_type": "code",
   "execution_count": 12,
   "metadata": {
    "collapsed": false,
    "deletable": true,
    "editable": true
   },
   "outputs": [
    {
     "data": {
      "text/html": [
       "<div>\n",
       "<table border=\"1\" class=\"dataframe\">\n",
       "  <thead>\n",
       "    <tr style=\"text-align: right;\">\n",
       "      <th>col_0</th>\n",
       "      <th>counter</th>\n",
       "    </tr>\n",
       "    <tr>\n",
       "      <th>v91</th>\n",
       "      <th></th>\n",
       "    </tr>\n",
       "  </thead>\n",
       "  <tbody>\n",
       "    <tr>\n",
       "      <th>D</th>\n",
       "      <td>230</td>\n",
       "    </tr>\n",
       "    <tr>\n",
       "      <th>E</th>\n",
       "      <td>3206</td>\n",
       "    </tr>\n",
       "    <tr>\n",
       "      <th>F</th>\n",
       "      <td>13418</td>\n",
       "    </tr>\n",
       "    <tr>\n",
       "      <th>B</th>\n",
       "      <td>22683</td>\n",
       "    </tr>\n",
       "    <tr>\n",
       "      <th>C</th>\n",
       "      <td>23157</td>\n",
       "    </tr>\n",
       "    <tr>\n",
       "      <th>G</th>\n",
       "      <td>24545</td>\n",
       "    </tr>\n",
       "    <tr>\n",
       "      <th>A</th>\n",
       "      <td>27079</td>\n",
       "    </tr>\n",
       "  </tbody>\n",
       "</table>\n",
       "</div>"
      ],
      "text/plain": [
       "col_0  counter\n",
       "v91           \n",
       "D          230\n",
       "E         3206\n",
       "F        13418\n",
       "B        22683\n",
       "C        23157\n",
       "G        24545\n",
       "A        27079"
      ]
     },
     "execution_count": 12,
     "metadata": {},
     "output_type": "execute_result"
    }
   ],
   "source": [
    "v91 = pd.crosstab(index=train['v91'], columns='counter').sort_values('counter'); v91"
   ]
  },
  {
   "cell_type": "code",
   "execution_count": 13,
   "metadata": {
    "collapsed": false,
    "deletable": true,
    "editable": true,
    "scrolled": false
   },
   "outputs": [
    {
     "data": {
      "text/html": [
       "<div>\n",
       "<table border=\"1\" class=\"dataframe\">\n",
       "  <thead>\n",
       "    <tr style=\"text-align: right;\">\n",
       "      <th>col_0</th>\n",
       "      <th>counter</th>\n",
       "    </tr>\n",
       "    <tr>\n",
       "      <th>v107</th>\n",
       "      <th></th>\n",
       "    </tr>\n",
       "  </thead>\n",
       "  <tbody>\n",
       "    <tr>\n",
       "      <th>G</th>\n",
       "      <td>230</td>\n",
       "    </tr>\n",
       "    <tr>\n",
       "      <th>F</th>\n",
       "      <td>3206</td>\n",
       "    </tr>\n",
       "    <tr>\n",
       "      <th>A</th>\n",
       "      <td>13418</td>\n",
       "    </tr>\n",
       "    <tr>\n",
       "      <th>B</th>\n",
       "      <td>22683</td>\n",
       "    </tr>\n",
       "    <tr>\n",
       "      <th>D</th>\n",
       "      <td>23157</td>\n",
       "    </tr>\n",
       "    <tr>\n",
       "      <th>C</th>\n",
       "      <td>24545</td>\n",
       "    </tr>\n",
       "    <tr>\n",
       "      <th>E</th>\n",
       "      <td>27079</td>\n",
       "    </tr>\n",
       "  </tbody>\n",
       "</table>\n",
       "</div>"
      ],
      "text/plain": [
       "col_0  counter\n",
       "v107          \n",
       "G          230\n",
       "F         3206\n",
       "A        13418\n",
       "B        22683\n",
       "D        23157\n",
       "C        24545\n",
       "E        27079"
      ]
     },
     "execution_count": 13,
     "metadata": {},
     "output_type": "execute_result"
    }
   ],
   "source": [
    "v107 = pd.crosstab(index=train['v107'], columns='counter').sort_values('counter'); v107"
   ]
  },
  {
   "cell_type": "code",
   "execution_count": 14,
   "metadata": {
    "collapsed": false,
    "deletable": true,
    "editable": true
   },
   "outputs": [
    {
     "data": {
      "text/html": [
       "<div>\n",
       "<table border=\"1\" class=\"dataframe\">\n",
       "  <thead>\n",
       "    <tr style=\"text-align: right;\">\n",
       "      <th>v107</th>\n",
       "      <th>A</th>\n",
       "      <th>B</th>\n",
       "      <th>C</th>\n",
       "      <th>D</th>\n",
       "      <th>E</th>\n",
       "      <th>F</th>\n",
       "      <th>G</th>\n",
       "    </tr>\n",
       "    <tr>\n",
       "      <th>v91</th>\n",
       "      <th></th>\n",
       "      <th></th>\n",
       "      <th></th>\n",
       "      <th></th>\n",
       "      <th></th>\n",
       "      <th></th>\n",
       "      <th></th>\n",
       "    </tr>\n",
       "  </thead>\n",
       "  <tbody>\n",
       "    <tr>\n",
       "      <th>A</th>\n",
       "      <td>0</td>\n",
       "      <td>0</td>\n",
       "      <td>0</td>\n",
       "      <td>0</td>\n",
       "      <td>27079</td>\n",
       "      <td>0</td>\n",
       "      <td>0</td>\n",
       "    </tr>\n",
       "    <tr>\n",
       "      <th>B</th>\n",
       "      <td>0</td>\n",
       "      <td>22683</td>\n",
       "      <td>0</td>\n",
       "      <td>0</td>\n",
       "      <td>0</td>\n",
       "      <td>0</td>\n",
       "      <td>0</td>\n",
       "    </tr>\n",
       "    <tr>\n",
       "      <th>C</th>\n",
       "      <td>0</td>\n",
       "      <td>0</td>\n",
       "      <td>0</td>\n",
       "      <td>23157</td>\n",
       "      <td>0</td>\n",
       "      <td>0</td>\n",
       "      <td>0</td>\n",
       "    </tr>\n",
       "    <tr>\n",
       "      <th>D</th>\n",
       "      <td>0</td>\n",
       "      <td>0</td>\n",
       "      <td>0</td>\n",
       "      <td>0</td>\n",
       "      <td>0</td>\n",
       "      <td>0</td>\n",
       "      <td>230</td>\n",
       "    </tr>\n",
       "    <tr>\n",
       "      <th>E</th>\n",
       "      <td>0</td>\n",
       "      <td>0</td>\n",
       "      <td>0</td>\n",
       "      <td>0</td>\n",
       "      <td>0</td>\n",
       "      <td>3206</td>\n",
       "      <td>0</td>\n",
       "    </tr>\n",
       "    <tr>\n",
       "      <th>F</th>\n",
       "      <td>13418</td>\n",
       "      <td>0</td>\n",
       "      <td>0</td>\n",
       "      <td>0</td>\n",
       "      <td>0</td>\n",
       "      <td>0</td>\n",
       "      <td>0</td>\n",
       "    </tr>\n",
       "    <tr>\n",
       "      <th>G</th>\n",
       "      <td>0</td>\n",
       "      <td>0</td>\n",
       "      <td>24545</td>\n",
       "      <td>0</td>\n",
       "      <td>0</td>\n",
       "      <td>0</td>\n",
       "      <td>0</td>\n",
       "    </tr>\n",
       "  </tbody>\n",
       "</table>\n",
       "</div>"
      ],
      "text/plain": [
       "v107      A      B      C      D      E     F    G\n",
       "v91                                               \n",
       "A         0      0      0      0  27079     0    0\n",
       "B         0  22683      0      0      0     0    0\n",
       "C         0      0      0  23157      0     0    0\n",
       "D         0      0      0      0      0     0  230\n",
       "E         0      0      0      0      0  3206    0\n",
       "F     13418      0      0      0      0     0    0\n",
       "G         0      0  24545      0      0     0    0"
      ]
     },
     "execution_count": 14,
     "metadata": {},
     "output_type": "execute_result"
    }
   ],
   "source": [
    "v91_v107 = pd.crosstab(index=train['v91'], columns=train['v107']); v91_v107"
   ]
  },
  {
   "cell_type": "code",
   "execution_count": 15,
   "metadata": {
    "collapsed": false,
    "deletable": true,
    "editable": true
   },
   "outputs": [
    {
     "data": {
      "text/plain": [
       "Power_divergenceResult(statistic=array([ 0.]), pvalue=array([ 1.]))"
      ]
     },
     "execution_count": 15,
     "metadata": {},
     "output_type": "execute_result"
    }
   ],
   "source": [
    "stats.chisquare(f_obs= v91,   # Array of observed counts\n",
    "                f_exp= v107)   # Array of expected counts"
   ]
  },
  {
   "cell_type": "markdown",
   "metadata": {
    "deletable": true,
    "editable": true
   },
   "source": [
    "The two variables are duplicates based on the frequency tables and chi-squared test(the null hypothesis that the categorical data has the given frequencies). v107 could\n",
    "be deleted. "
   ]
  },
  {
   "cell_type": "markdown",
   "metadata": {
    "deletable": true,
    "editable": true
   },
   "source": [
    "### Categorical variable: v71 - v75"
   ]
  },
  {
   "cell_type": "code",
   "execution_count": 16,
   "metadata": {
    "collapsed": false,
    "deletable": true,
    "editable": true,
    "scrolled": true
   },
   "outputs": [
    {
     "data": {
      "text/html": [
       "<div>\n",
       "<table border=\"1\" class=\"dataframe\">\n",
       "  <thead>\n",
       "    <tr style=\"text-align: right;\">\n",
       "      <th>col_0</th>\n",
       "      <th>counter</th>\n",
       "    </tr>\n",
       "    <tr>\n",
       "      <th>v71</th>\n",
       "      <th></th>\n",
       "    </tr>\n",
       "  </thead>\n",
       "  <tbody>\n",
       "    <tr>\n",
       "      <th>A</th>\n",
       "      <td>1</td>\n",
       "    </tr>\n",
       "    <tr>\n",
       "      <th>D</th>\n",
       "      <td>1</td>\n",
       "    </tr>\n",
       "    <tr>\n",
       "      <th>K</th>\n",
       "      <td>1</td>\n",
       "    </tr>\n",
       "    <tr>\n",
       "      <th>L</th>\n",
       "      <td>1</td>\n",
       "    </tr>\n",
       "    <tr>\n",
       "      <th>G</th>\n",
       "      <td>5</td>\n",
       "    </tr>\n",
       "    <tr>\n",
       "      <th>I</th>\n",
       "      <td>16</td>\n",
       "    </tr>\n",
       "    <tr>\n",
       "      <th>C</th>\n",
       "      <td>8947</td>\n",
       "    </tr>\n",
       "    <tr>\n",
       "      <th>B</th>\n",
       "      <td>30255</td>\n",
       "    </tr>\n",
       "    <tr>\n",
       "      <th>F</th>\n",
       "      <td>75094</td>\n",
       "    </tr>\n",
       "  </tbody>\n",
       "</table>\n",
       "</div>"
      ],
      "text/plain": [
       "col_0  counter\n",
       "v71           \n",
       "A            1\n",
       "D            1\n",
       "K            1\n",
       "L            1\n",
       "G            5\n",
       "I           16\n",
       "C         8947\n",
       "B        30255\n",
       "F        75094"
      ]
     },
     "execution_count": 16,
     "metadata": {},
     "output_type": "execute_result"
    }
   ],
   "source": [
    "v71 = pd.crosstab(index=train['v71'], columns='counter').sort_values('counter'); v71"
   ]
  },
  {
   "cell_type": "code",
   "execution_count": 17,
   "metadata": {
    "collapsed": false,
    "deletable": true,
    "editable": true
   },
   "outputs": [
    {
     "data": {
      "text/html": [
       "<div>\n",
       "<table border=\"1\" class=\"dataframe\">\n",
       "  <thead>\n",
       "    <tr style=\"text-align: right;\">\n",
       "      <th>col_0</th>\n",
       "      <th>counter</th>\n",
       "    </tr>\n",
       "    <tr>\n",
       "      <th>v75</th>\n",
       "      <th></th>\n",
       "    </tr>\n",
       "  </thead>\n",
       "  <tbody>\n",
       "    <tr>\n",
       "      <th>A</th>\n",
       "      <td>18</td>\n",
       "    </tr>\n",
       "    <tr>\n",
       "      <th>C</th>\n",
       "      <td>24</td>\n",
       "    </tr>\n",
       "    <tr>\n",
       "      <th>B</th>\n",
       "      <td>39192</td>\n",
       "    </tr>\n",
       "    <tr>\n",
       "      <th>D</th>\n",
       "      <td>75087</td>\n",
       "    </tr>\n",
       "  </tbody>\n",
       "</table>\n",
       "</div>"
      ],
      "text/plain": [
       "col_0  counter\n",
       "v75           \n",
       "A           18\n",
       "C           24\n",
       "B        39192\n",
       "D        75087"
      ]
     },
     "execution_count": 17,
     "metadata": {},
     "output_type": "execute_result"
    }
   ],
   "source": [
    "v75 = pd.crosstab(index=train['v75'], columns='counter').sort_values('counter'); v75"
   ]
  },
  {
   "cell_type": "code",
   "execution_count": 18,
   "metadata": {
    "collapsed": false,
    "deletable": true,
    "editable": true
   },
   "outputs": [
    {
     "data": {
      "text/html": [
       "<div>\n",
       "<table border=\"1\" class=\"dataframe\">\n",
       "  <thead>\n",
       "    <tr style=\"text-align: right;\">\n",
       "      <th>v75</th>\n",
       "      <th>A</th>\n",
       "      <th>B</th>\n",
       "      <th>C</th>\n",
       "      <th>D</th>\n",
       "    </tr>\n",
       "    <tr>\n",
       "      <th>v71</th>\n",
       "      <th></th>\n",
       "      <th></th>\n",
       "      <th></th>\n",
       "      <th></th>\n",
       "    </tr>\n",
       "  </thead>\n",
       "  <tbody>\n",
       "    <tr>\n",
       "      <th>A</th>\n",
       "      <td>1</td>\n",
       "      <td>0</td>\n",
       "      <td>0</td>\n",
       "      <td>0</td>\n",
       "    </tr>\n",
       "    <tr>\n",
       "      <th>B</th>\n",
       "      <td>4</td>\n",
       "      <td>30247</td>\n",
       "      <td>4</td>\n",
       "      <td>0</td>\n",
       "    </tr>\n",
       "    <tr>\n",
       "      <th>C</th>\n",
       "      <td>1</td>\n",
       "      <td>8944</td>\n",
       "      <td>1</td>\n",
       "      <td>1</td>\n",
       "    </tr>\n",
       "    <tr>\n",
       "      <th>D</th>\n",
       "      <td>0</td>\n",
       "      <td>0</td>\n",
       "      <td>1</td>\n",
       "      <td>0</td>\n",
       "    </tr>\n",
       "    <tr>\n",
       "      <th>F</th>\n",
       "      <td>1</td>\n",
       "      <td>1</td>\n",
       "      <td>6</td>\n",
       "      <td>75086</td>\n",
       "    </tr>\n",
       "    <tr>\n",
       "      <th>G</th>\n",
       "      <td>3</td>\n",
       "      <td>0</td>\n",
       "      <td>2</td>\n",
       "      <td>0</td>\n",
       "    </tr>\n",
       "    <tr>\n",
       "      <th>I</th>\n",
       "      <td>7</td>\n",
       "      <td>0</td>\n",
       "      <td>9</td>\n",
       "      <td>0</td>\n",
       "    </tr>\n",
       "    <tr>\n",
       "      <th>K</th>\n",
       "      <td>1</td>\n",
       "      <td>0</td>\n",
       "      <td>0</td>\n",
       "      <td>0</td>\n",
       "    </tr>\n",
       "    <tr>\n",
       "      <th>L</th>\n",
       "      <td>0</td>\n",
       "      <td>0</td>\n",
       "      <td>1</td>\n",
       "      <td>0</td>\n",
       "    </tr>\n",
       "  </tbody>\n",
       "</table>\n",
       "</div>"
      ],
      "text/plain": [
       "v75  A      B  C      D\n",
       "v71                    \n",
       "A    1      0  0      0\n",
       "B    4  30247  4      0\n",
       "C    1   8944  1      1\n",
       "D    0      0  1      0\n",
       "F    1      1  6  75086\n",
       "G    3      0  2      0\n",
       "I    7      0  9      0\n",
       "K    1      0  0      0\n",
       "L    0      0  1      0"
      ]
     },
     "execution_count": 18,
     "metadata": {},
     "output_type": "execute_result"
    }
   ],
   "source": [
    "v71_v75 = pd.crosstab(index=train['v71'], columns=train['v75']); v71_v75"
   ]
  },
  {
   "cell_type": "code",
   "execution_count": 19,
   "metadata": {
    "collapsed": false,
    "deletable": true,
    "editable": true
   },
   "outputs": [
    {
     "data": {
      "text/html": [
       "<div>\n",
       "<table border=\"1\" class=\"dataframe\">\n",
       "  <thead>\n",
       "    <tr style=\"text-align: right;\">\n",
       "      <th>v75</th>\n",
       "      <th>A</th>\n",
       "      <th>B</th>\n",
       "      <th>C</th>\n",
       "      <th>D</th>\n",
       "    </tr>\n",
       "    <tr>\n",
       "      <th>v71</th>\n",
       "      <th></th>\n",
       "      <th></th>\n",
       "      <th></th>\n",
       "      <th></th>\n",
       "    </tr>\n",
       "  </thead>\n",
       "  <tbody>\n",
       "    <tr>\n",
       "      <th>A</th>\n",
       "      <td>3808.300590</td>\n",
       "      <td>0.271518</td>\n",
       "      <td>333.325309</td>\n",
       "      <td>1.097122</td>\n",
       "    </tr>\n",
       "    <tr>\n",
       "      <th>B</th>\n",
       "      <td>0.355105</td>\n",
       "      <td>38083.810333</td>\n",
       "      <td>1.226850</td>\n",
       "      <td>19870.115865</td>\n",
       "    </tr>\n",
       "    <tr>\n",
       "      <th>C</th>\n",
       "      <td>0.038687</td>\n",
       "      <td>11257.429970</td>\n",
       "      <td>0.239306</td>\n",
       "      <td>5874.206179</td>\n",
       "    </tr>\n",
       "    <tr>\n",
       "      <th>D</th>\n",
       "      <td>422.478368</td>\n",
       "      <td>0.271518</td>\n",
       "      <td>3005.921800</td>\n",
       "      <td>1.097122</td>\n",
       "    </tr>\n",
       "    <tr>\n",
       "      <th>F</th>\n",
       "      <td>11.929892</td>\n",
       "      <td>25740.625307</td>\n",
       "      <td>7.975482</td>\n",
       "      <td>13462.802034</td>\n",
       "    </tr>\n",
       "    <tr>\n",
       "      <th>G</th>\n",
       "      <td>8886.034711</td>\n",
       "      <td>1.503848</td>\n",
       "      <td>3577.050617</td>\n",
       "      <td>3.651592</td>\n",
       "    </tr>\n",
       "    <tr>\n",
       "      <th>I</th>\n",
       "      <td>15865.420209</td>\n",
       "      <td>5.211087</td>\n",
       "      <td>20096.198931</td>\n",
       "      <td>10.842548</td>\n",
       "    </tr>\n",
       "    <tr>\n",
       "      <th>K</th>\n",
       "      <td>3808.300590</td>\n",
       "      <td>0.271518</td>\n",
       "      <td>333.325309</td>\n",
       "      <td>1.097122</td>\n",
       "    </tr>\n",
       "    <tr>\n",
       "      <th>L</th>\n",
       "      <td>422.478368</td>\n",
       "      <td>0.271518</td>\n",
       "      <td>3005.921800</td>\n",
       "      <td>1.097122</td>\n",
       "    </tr>\n",
       "  </tbody>\n",
       "</table>\n",
       "</div>"
      ],
      "text/plain": [
       "v75             A             B             C             D\n",
       "v71                                                        \n",
       "A     3808.300590      0.271518    333.325309      1.097122\n",
       "B        0.355105  38083.810333      1.226850  19870.115865\n",
       "C        0.038687  11257.429970      0.239306   5874.206179\n",
       "D      422.478368      0.271518   3005.921800      1.097122\n",
       "F       11.929892  25740.625307      7.975482  13462.802034\n",
       "G     8886.034711      1.503848   3577.050617      3.651592\n",
       "I    15865.420209      5.211087  20096.198931     10.842548\n",
       "K     3808.300590      0.271518    333.325309      1.097122\n",
       "L      422.478368      0.271518   3005.921800      1.097122"
      ]
     },
     "execution_count": 19,
     "metadata": {},
     "output_type": "execute_result"
    }
   ],
   "source": [
    "# Using statsmodels' Table to analyze the contingency table\n",
    "t_v71_v75 = sm.stats.Table(v71_v75)\n",
    "t_v71_v75.chi2_contribs"
   ]
  },
  {
   "cell_type": "code",
   "execution_count": 20,
   "metadata": {
    "collapsed": false,
    "deletable": true,
    "editable": true
   },
   "outputs": [
    {
     "data": {
      "text/plain": [
       "0.0"
      ]
     },
     "execution_count": 20,
     "metadata": {},
     "output_type": "execute_result"
    }
   ],
   "source": [
    "t_v71_v75.test_nominal_association().pvalue "
   ]
  },
  {
   "cell_type": "markdown",
   "metadata": {
    "deletable": true,
    "editable": true
   },
   "source": [
    "Based on the p-value and correlation, categorical variable v71 and v75 are highly correlated. We can just pick the one which provides more information."
   ]
  },
  {
   "cell_type": "code",
   "execution_count": 21,
   "metadata": {
    "collapsed": false,
    "deletable": true,
    "editable": true
   },
   "outputs": [
    {
     "data": {
      "image/png": "[encoded data removed]",
      "text/plain": [
       "<matplotlib.figure.Figure at 0x114110e48>"
      ]
     },
     "metadata": {},
     "output_type": "display_data"
    },
    {
     "data": {
      "image/png": "[encoded data removed]",
      "text/plain": [
       "<matplotlib.figure.Figure at 0x11801c710>"
      ]
     },
     "metadata": {},
     "output_type": "display_data"
    }
   ],
   "source": [
    "ca_v71_v75 = prince.CA(v71_v75)\n",
    "fig1, ax1 = ca_v71_v75.plot_cumulative_inertia()\n",
    "fig2, ax2 = ca_v71_v75.plot_rows_columns()\n",
    "plt.show();"
   ]
  },
  {
   "cell_type": "code",
   "execution_count": 22,
   "metadata": {
    "collapsed": false,
    "deletable": true,
    "editable": true
   },
   "outputs": [
    {
     "data": {
      "text/html": [
       "<div>\n",
       "<table border=\"1\" class=\"dataframe\">\n",
       "  <thead>\n",
       "    <tr style=\"text-align: right;\">\n",
       "      <th>col_0</th>\n",
       "      <th>counter</th>\n",
       "    </tr>\n",
       "    <tr>\n",
       "      <th>v3</th>\n",
       "      <th></th>\n",
       "    </tr>\n",
       "  </thead>\n",
       "  <tbody>\n",
       "    <tr>\n",
       "      <th>A</th>\n",
       "      <td>227</td>\n",
       "    </tr>\n",
       "    <tr>\n",
       "      <th>B</th>\n",
       "      <td>53</td>\n",
       "    </tr>\n",
       "    <tr>\n",
       "      <th>C</th>\n",
       "      <td>110584</td>\n",
       "    </tr>\n",
       "  </tbody>\n",
       "</table>\n",
       "</div>"
      ],
      "text/plain": [
       "col_0  counter\n",
       "v3            \n",
       "A          227\n",
       "B           53\n",
       "C       110584"
      ]
     },
     "execution_count": 22,
     "metadata": {},
     "output_type": "execute_result"
    }
   ],
   "source": [
    "v3 = pd.crosstab(index=train['v3'], columns='counter'); v3"
   ]
  },
  {
   "cell_type": "code",
   "execution_count": 23,
   "metadata": {
    "collapsed": false,
    "deletable": true,
    "editable": true
   },
   "outputs": [
    {
     "data": {
      "text/html": [
       "<div>\n",
       "<table border=\"1\" class=\"dataframe\">\n",
       "  <thead>\n",
       "    <tr style=\"text-align: right;\">\n",
       "      <th>col_0</th>\n",
       "      <th>counter</th>\n",
       "    </tr>\n",
       "    <tr>\n",
       "      <th>v110</th>\n",
       "      <th></th>\n",
       "    </tr>\n",
       "  </thead>\n",
       "  <tbody>\n",
       "    <tr>\n",
       "      <th>A</th>\n",
       "      <td>55688</td>\n",
       "    </tr>\n",
       "    <tr>\n",
       "      <th>B</th>\n",
       "      <td>55426</td>\n",
       "    </tr>\n",
       "    <tr>\n",
       "      <th>C</th>\n",
       "      <td>3207</td>\n",
       "    </tr>\n",
       "  </tbody>\n",
       "</table>\n",
       "</div>"
      ],
      "text/plain": [
       "col_0  counter\n",
       "v110          \n",
       "A        55688\n",
       "B        55426\n",
       "C         3207"
      ]
     },
     "execution_count": 23,
     "metadata": {},
     "output_type": "execute_result"
    }
   ],
   "source": [
    "v110 = pd.crosstab(index=train['v110'], columns='counter'); v110"
   ]
  },
  {
   "cell_type": "code",
   "execution_count": 24,
   "metadata": {
    "collapsed": false,
    "deletable": true,
    "editable": true
   },
   "outputs": [
    {
     "data": {
      "text/html": [
       "<div>\n",
       "<table border=\"1\" class=\"dataframe\">\n",
       "  <thead>\n",
       "    <tr style=\"text-align: right;\">\n",
       "      <th>v110</th>\n",
       "      <th>A</th>\n",
       "      <th>B</th>\n",
       "      <th>C</th>\n",
       "    </tr>\n",
       "    <tr>\n",
       "      <th>v3</th>\n",
       "      <th></th>\n",
       "      <th></th>\n",
       "      <th></th>\n",
       "    </tr>\n",
       "  </thead>\n",
       "  <tbody>\n",
       "    <tr>\n",
       "      <th>A</th>\n",
       "      <td>0</td>\n",
       "      <td>227</td>\n",
       "      <td>0</td>\n",
       "    </tr>\n",
       "    <tr>\n",
       "      <th>B</th>\n",
       "      <td>0</td>\n",
       "      <td>53</td>\n",
       "      <td>0</td>\n",
       "    </tr>\n",
       "    <tr>\n",
       "      <th>C</th>\n",
       "      <td>55688</td>\n",
       "      <td>54896</td>\n",
       "      <td>0</td>\n",
       "    </tr>\n",
       "  </tbody>\n",
       "</table>\n",
       "</div>"
      ],
      "text/plain": [
       "v110      A      B  C\n",
       "v3                   \n",
       "A         0    227  0\n",
       "B         0     53  0\n",
       "C     55688  54896  0"
      ]
     },
     "execution_count": 24,
     "metadata": {},
     "output_type": "execute_result"
    }
   ],
   "source": [
    "v3_v110 = pd.crosstab(index=train['v3'], columns=train['v110'], dropna=False); v3_v110"
   ]
  },
  {
   "cell_type": "code",
   "execution_count": 25,
   "metadata": {
    "collapsed": false,
    "deletable": true,
    "editable": true
   },
   "outputs": [
    {
     "name": "stdout",
     "output_type": "stream",
     "text": [
      "(3207, 133)\n",
      "(3457, 133)\n"
     ]
    }
   ],
   "source": [
    "print(train[train['v110']=='C'].shape)\n",
    "print(train[train['v3'].isnull()].shape)"
   ]
  },
  {
   "cell_type": "markdown",
   "metadata": {
    "deletable": true,
    "editable": true
   },
   "source": [
    "From the contingency tables, we can notice that v110's C has similar distribution against v3's NaN. Also, v3's C could be divided into two categories based on v110's A and B. It might be able to merge the two variables into a single variable."
   ]
  },
  {
   "cell_type": "markdown",
   "metadata": {
    "deletable": true,
    "editable": true
   },
   "source": [
    "### Numerical variables"
   ]
  },
  {
   "cell_type": "markdown",
   "metadata": {
    "deletable": true,
    "editable": true
   },
   "source": [
    "### Correlation of Numerical Variables"
   ]
  },
  {
   "cell_type": "code",
   "execution_count": 26,
   "metadata": {
    "collapsed": false,
    "deletable": true,
    "editable": true,
    "scrolled": false
   },
   "outputs": [],
   "source": [
    "numerical_corr = numericals.corr()"
   ]
  },
  {
   "cell_type": "code",
   "execution_count": 27,
   "metadata": {
    "collapsed": false,
    "deletable": true,
    "editable": true
   },
   "outputs": [
    {
     "data": {
      "text/plain": [
       "<matplotlib.axes._subplots.AxesSubplot at 0x118096a20>"
      ]
     },
     "execution_count": 27,
     "metadata": {},
     "output_type": "execute_result"
    },
    {
     "data": {
      "image/png": "[encoded data removed]",
      "text/plain": [
       "<matplotlib.figure.Figure at 0x1180bd828>"
      ]
     },
     "metadata": {},
     "output_type": "display_data"
    }
   ],
   "source": [
    "mask = np.zeros_like(numerical_corr, dtype=np.bool)\n",
    "mask[np.triu_indices_from(mask)] = True\n",
    "# Generate a custom diverging colormap\n",
    "cmap = sns.diverging_palette(220, 10, as_cmap=True)\n",
    "f, ax = plt.subplots(figsize=(25, 23))\n",
    "# Draw the heatmap with the mask and correct aspect ratio\n",
    "sns.heatmap(numerical_corr, mask=mask, cmap=cmap, vmax=.9, center=0,\n",
    "            square=True, linewidths=.5, cbar_kws={\"shrink\": .7})"
   ]
  },
  {
   "cell_type": "code",
   "execution_count": 28,
   "metadata": {
    "collapsed": false,
    "deletable": true,
    "editable": true
   },
   "outputs": [],
   "source": [
    "# Compute mean square error and r square for each paired numerical features\n",
    "association = pd.DataFrame(columns=['VAR1', 'VAR2', 'MSE', 'R2'])\n",
    "numerical_cols = list(numericals)\n",
    "for i in range(len(numerical_cols)):\n",
    "    col1 = numerical_cols[i]\n",
    "    for j in range(i+1, len(numerical_cols)):\n",
    "        col2 = numerical_cols[j]\n",
    "        est = smf.ols(formula=col1+'~'+col2, data=train).fit()\n",
    "        r2 = est.rsquared\n",
    "        mse = est.mse_resid\n",
    "        row = pd.DataFrame(np.array([[col1, col2, mse, r2]]), columns=['VAR1', 'VAR2', 'MSE', 'R2'])\n",
    "        association = association.append(row, ignore_index=True)"
   ]
  },
  {
   "cell_type": "code",
   "execution_count": 29,
   "metadata": {
    "collapsed": false,
    "deletable": true,
    "editable": true
   },
   "outputs": [
    {
     "data": {
      "text/html": [
       "<div>\n",
       "<table border=\"1\" class=\"dataframe\">\n",
       "  <thead>\n",
       "    <tr style=\"text-align: right;\">\n",
       "      <th></th>\n",
       "      <th>VAR1</th>\n",
       "      <th>VAR2</th>\n",
       "      <th>MSE</th>\n",
       "      <th>R2</th>\n",
       "    </tr>\n",
       "  </thead>\n",
       "  <tbody>\n",
       "    <tr>\n",
       "      <th>4298</th>\n",
       "      <td>v58</td>\n",
       "      <td>v100</td>\n",
       "      <td>0.218309135379</td>\n",
       "      <td>0.995335599752</td>\n",
       "    </tr>\n",
       "    <tr>\n",
       "      <th>4874</th>\n",
       "      <td>v69</td>\n",
       "      <td>v115</td>\n",
       "      <td>0.0454313266859</td>\n",
       "      <td>0.987421900909</td>\n",
       "    </tr>\n",
       "    <tr>\n",
       "      <th>1607</th>\n",
       "      <td>v17</td>\n",
       "      <td>v76</td>\n",
       "      <td>0.0533608086314</td>\n",
       "      <td>0.985396220743</td>\n",
       "    </tr>\n",
       "    <tr>\n",
       "      <th>3673</th>\n",
       "      <td>v46</td>\n",
       "      <td>v63</td>\n",
       "      <td>0.140138117662</td>\n",
       "      <td>0.983288974703</td>\n",
       "    </tr>\n",
       "    <tr>\n",
       "      <th>1599</th>\n",
       "      <td>v17</td>\n",
       "      <td>v64</td>\n",
       "      <td>0.125861912941</td>\n",
       "      <td>0.965554127823</td>\n",
       "    </tr>\n",
       "    <tr>\n",
       "      <th>2139</th>\n",
       "      <td>v25</td>\n",
       "      <td>v46</td>\n",
       "      <td>0.308221007727</td>\n",
       "      <td>0.964747018336</td>\n",
       "    </tr>\n",
       "    <tr>\n",
       "      <th>2153</th>\n",
       "      <td>v25</td>\n",
       "      <td>v63</td>\n",
       "      <td>0.328394374662</td>\n",
       "      <td>0.962439676147</td>\n",
       "    </tr>\n",
       "    <tr>\n",
       "      <th>2239</th>\n",
       "      <td>v26</td>\n",
       "      <td>v60</td>\n",
       "      <td>0.0115863044064</td>\n",
       "      <td>0.96186475362</td>\n",
       "    </tr>\n",
       "    <tr>\n",
       "      <th>3780</th>\n",
       "      <td>v48</td>\n",
       "      <td>v106</td>\n",
       "      <td>0.184130699735</td>\n",
       "      <td>0.961824056548</td>\n",
       "    </tr>\n",
       "    <tr>\n",
       "      <th>3500</th>\n",
       "      <td>v43</td>\n",
       "      <td>v116</td>\n",
       "      <td>0.0183755998121</td>\n",
       "      <td>0.956238055709</td>\n",
       "    </tr>\n",
       "    <tr>\n",
       "      <th>5623</th>\n",
       "      <td>v92</td>\n",
       "      <td>v95</td>\n",
       "      <td>0.00261371760375</td>\n",
       "      <td>0.954703056494</td>\n",
       "    </tr>\n",
       "    <tr>\n",
       "      <th>698</th>\n",
       "      <td>v8</td>\n",
       "      <td>v63</td>\n",
       "      <td>0.367702504501</td>\n",
       "      <td>0.952525240495</td>\n",
       "    </tr>\n",
       "    <tr>\n",
       "      <th>684</th>\n",
       "      <td>v8</td>\n",
       "      <td>v46</td>\n",
       "      <td>0.379524048631</td>\n",
       "      <td>0.950998938777</td>\n",
       "    </tr>\n",
       "    <tr>\n",
       "      <th>2145</th>\n",
       "      <td>v25</td>\n",
       "      <td>v54</td>\n",
       "      <td>0.551868182326</td>\n",
       "      <td>0.936879711556</td>\n",
       "    </tr>\n",
       "    <tr>\n",
       "      <th>3273</th>\n",
       "      <td>v40</td>\n",
       "      <td>v114</td>\n",
       "      <td>0.653648850716</td>\n",
       "      <td>0.934921291029</td>\n",
       "    </tr>\n",
       "    <tr>\n",
       "      <th>5345</th>\n",
       "      <td>v83</td>\n",
       "      <td>v121</td>\n",
       "      <td>0.0748842257007</td>\n",
       "      <td>0.933615036149</td>\n",
       "    </tr>\n",
       "    <tr>\n",
       "      <th>2174</th>\n",
       "      <td>v25</td>\n",
       "      <td>v89</td>\n",
       "      <td>0.607956054921</td>\n",
       "      <td>0.930464624022</td>\n",
       "    </tr>\n",
       "    <tr>\n",
       "      <th>2687</th>\n",
       "      <td>v33</td>\n",
       "      <td>v83</td>\n",
       "      <td>0.0680155802703</td>\n",
       "      <td>0.929878238951</td>\n",
       "    </tr>\n",
       "    <tr>\n",
       "      <th>3744</th>\n",
       "      <td>v48</td>\n",
       "      <td>v64</td>\n",
       "      <td>0.354762489938</td>\n",
       "      <td>0.926446851208</td>\n",
       "    </tr>\n",
       "    <tr>\n",
       "      <th>5797</th>\n",
       "      <td>v97</td>\n",
       "      <td>v118</td>\n",
       "      <td>0.272730473354</td>\n",
       "      <td>0.926331236996</td>\n",
       "    </tr>\n",
       "    <tr>\n",
       "      <th>2189</th>\n",
       "      <td>v25</td>\n",
       "      <td>v105</td>\n",
       "      <td>0.647945381242</td>\n",
       "      <td>0.925921746244</td>\n",
       "    </tr>\n",
       "    <tr>\n",
       "      <th>6041</th>\n",
       "      <td>v108</td>\n",
       "      <td>v128</td>\n",
       "      <td>0.0696899667833</td>\n",
       "      <td>0.916421274729</td>\n",
       "    </tr>\n",
       "    <tr>\n",
       "      <th>2530</th>\n",
       "      <td>v29</td>\n",
       "      <td>v96</td>\n",
       "      <td>0.138957477812</td>\n",
       "      <td>0.91590371792</td>\n",
       "    </tr>\n",
       "    <tr>\n",
       "      <th>4099</th>\n",
       "      <td>v54</td>\n",
       "      <td>v89</td>\n",
       "      <td>0.457889460884</td>\n",
       "      <td>0.914523143333</td>\n",
       "    </tr>\n",
       "    <tr>\n",
       "      <th>998</th>\n",
       "      <td>v11</td>\n",
       "      <td>v53</td>\n",
       "      <td>0.0540136761466</td>\n",
       "      <td>0.913472129933</td>\n",
       "    </tr>\n",
       "    <tr>\n",
       "      <th>4627</th>\n",
       "      <td>v64</td>\n",
       "      <td>v76</td>\n",
       "      <td>0.57500669916</td>\n",
       "      <td>0.909855518891</td>\n",
       "    </tr>\n",
       "    <tr>\n",
       "      <th>3335</th>\n",
       "      <td>v41</td>\n",
       "      <td>v96</td>\n",
       "      <td>0.0974868888735</td>\n",
       "      <td>0.903380808598</td>\n",
       "    </tr>\n",
       "    <tr>\n",
       "      <th>2720</th>\n",
       "      <td>v33</td>\n",
       "      <td>v121</td>\n",
       "      <td>0.0967634364714</td>\n",
       "      <td>0.900192893797</td>\n",
       "    </tr>\n",
       "  </tbody>\n",
       "</table>\n",
       "</div>"
      ],
      "text/plain": [
       "      VAR1  VAR2               MSE              R2\n",
       "4298   v58  v100    0.218309135379  0.995335599752\n",
       "4874   v69  v115   0.0454313266859  0.987421900909\n",
       "1607   v17   v76   0.0533608086314  0.985396220743\n",
       "3673   v46   v63    0.140138117662  0.983288974703\n",
       "1599   v17   v64    0.125861912941  0.965554127823\n",
       "2139   v25   v46    0.308221007727  0.964747018336\n",
       "2153   v25   v63    0.328394374662  0.962439676147\n",
       "2239   v26   v60   0.0115863044064   0.96186475362\n",
       "3780   v48  v106    0.184130699735  0.961824056548\n",
       "3500   v43  v116   0.0183755998121  0.956238055709\n",
       "5623   v92   v95  0.00261371760375  0.954703056494\n",
       "698     v8   v63    0.367702504501  0.952525240495\n",
       "684     v8   v46    0.379524048631  0.950998938777\n",
       "2145   v25   v54    0.551868182326  0.936879711556\n",
       "3273   v40  v114    0.653648850716  0.934921291029\n",
       "5345   v83  v121   0.0748842257007  0.933615036149\n",
       "2174   v25   v89    0.607956054921  0.930464624022\n",
       "2687   v33   v83   0.0680155802703  0.929878238951\n",
       "3744   v48   v64    0.354762489938  0.926446851208\n",
       "5797   v97  v118    0.272730473354  0.926331236996\n",
       "2189   v25  v105    0.647945381242  0.925921746244\n",
       "6041  v108  v128   0.0696899667833  0.916421274729\n",
       "2530   v29   v96    0.138957477812   0.91590371792\n",
       "4099   v54   v89    0.457889460884  0.914523143333\n",
       "998    v11   v53   0.0540136761466  0.913472129933\n",
       "4627   v64   v76     0.57500669916  0.909855518891\n",
       "3335   v41   v96   0.0974868888735  0.903380808598\n",
       "2720   v33  v121   0.0967634364714  0.900192893797"
      ]
     },
     "execution_count": 29,
     "metadata": {},
     "output_type": "execute_result"
    }
   ],
   "source": [
    "# Extract paired variables with R2 greater than 0.9\n",
    "association[association['R2'].astype(float) > 0.9].sort_values('R2', ascending=False)"
   ]
  },
  {
   "cell_type": "code",
   "execution_count": 30,
   "metadata": {
    "collapsed": false,
    "deletable": true,
    "editable": true,
    "scrolled": true
   },
   "outputs": [
    {
     "data": {
      "text/html": [
       "<table class=\"simpletable\">\n",
       "<caption>OLS Regression Results</caption>\n",
       "<tr>\n",
       "  <th>Dep. Variable:</th>          <td>v129</td>       <th>  R-squared:         </th>  <td>   1.000</td> \n",
       "</tr>\n",
       "<tr>\n",
       "  <th>Model:</th>                   <td>OLS</td>       <th>  Adj. R-squared:    </th>  <td>   1.000</td> \n",
       "</tr>\n",
       "<tr>\n",
       "  <th>Method:</th>             <td>Least Squares</td>  <th>  F-statistic:       </th>  <td>7.514e+28</td>\n",
       "</tr>\n",
       "<tr>\n",
       "  <th>Date:</th>             <td>Sat, 30 Dec 2017</td> <th>  Prob (F-statistic):</th>   <td>  0.00</td>  \n",
       "</tr>\n",
       "<tr>\n",
       "  <th>Time:</th>                 <td>00:00:42</td>     <th>  Log-Likelihood:    </th> <td>3.0773e+06</td>\n",
       "</tr>\n",
       "<tr>\n",
       "  <th>No. Observations:</th>      <td>114321</td>      <th>  AIC:               </th> <td>-6.155e+06</td>\n",
       "</tr>\n",
       "<tr>\n",
       "  <th>Df Residuals:</th>          <td>114317</td>      <th>  BIC:               </th> <td>-6.155e+06</td>\n",
       "</tr>\n",
       "<tr>\n",
       "  <th>Df Model:</th>              <td>     3</td>      <th>                     </th>      <td> </td>    \n",
       "</tr>\n",
       "<tr>\n",
       "  <th>Covariance Type:</th>      <td>nonrobust</td>    <th>                     </th>      <td> </td>    \n",
       "</tr>\n",
       "</table>\n",
       "<table class=\"simpletable\">\n",
       "<tr>\n",
       "      <td></td>         <th>coef</th>     <th>std err</th>      <th>t</th>      <th>P>|t|</th>  <th>[0.025</th>    <th>0.975]</th>  \n",
       "</tr>\n",
       "<tr>\n",
       "  <th>Intercept</th> <td>-4.256e-13</td> <td> 3.09e-15</td> <td> -137.687</td> <td> 0.000</td> <td>-4.32e-13</td> <td> -4.2e-13</td>\n",
       "</tr>\n",
       "<tr>\n",
       "  <th>v38</th>       <td>   -1.0000</td> <td> 3.34e-15</td> <td>   -3e+14</td> <td> 0.000</td> <td>   -1.000</td> <td>   -1.000</td>\n",
       "</tr>\n",
       "<tr>\n",
       "  <th>v62</th>       <td>   -1.0000</td> <td> 2.56e-15</td> <td> -3.9e+14</td> <td> 0.000</td> <td>   -1.000</td> <td>   -1.000</td>\n",
       "</tr>\n",
       "<tr>\n",
       "  <th>v72</th>       <td>    1.0000</td> <td> 2.26e-15</td> <td> 4.43e+14</td> <td> 0.000</td> <td>    1.000</td> <td>    1.000</td>\n",
       "</tr>\n",
       "</table>\n",
       "<table class=\"simpletable\">\n",
       "<tr>\n",
       "  <th>Omnibus:</th>       <td>51886.060</td> <th>  Durbin-Watson:     </th>  <td>   0.622</td> \n",
       "</tr>\n",
       "<tr>\n",
       "  <th>Prob(Omnibus):</th>  <td> 0.000</td>   <th>  Jarque-Bera (JB):  </th> <td>307966.179</td>\n",
       "</tr>\n",
       "<tr>\n",
       "  <th>Skew:</th>           <td> 2.134</td>   <th>  Prob(JB):          </th>  <td>    0.00</td> \n",
       "</tr>\n",
       "<tr>\n",
       "  <th>Kurtosis:</th>       <td> 9.814</td>   <th>  Cond. No.          </th>  <td>    6.27</td> \n",
       "</tr>\n",
       "</table>"
      ],
      "text/plain": [
       "<class 'statsmodels.iolib.summary.Summary'>\n",
       "\"\"\"\n",
       "                            OLS Regression Results                            \n",
       "==============================================================================\n",
       "Dep. Variable:                   v129   R-squared:                       1.000\n",
       "Model:                            OLS   Adj. R-squared:                  1.000\n",
       "Method:                 Least Squares   F-statistic:                 7.514e+28\n",
       "Date:                Sat, 30 Dec 2017   Prob (F-statistic):               0.00\n",
       "Time:                        00:00:42   Log-Likelihood:             3.0773e+06\n",
       "No. Observations:              114321   AIC:                        -6.155e+06\n",
       "Df Residuals:                  114317   BIC:                        -6.155e+06\n",
       "Df Model:                           3                                         \n",
       "Covariance Type:            nonrobust                                         \n",
       "==============================================================================\n",
       "                 coef    std err          t      P>|t|      [0.025      0.975]\n",
       "------------------------------------------------------------------------------\n",
       "Intercept  -4.256e-13   3.09e-15   -137.687      0.000   -4.32e-13    -4.2e-13\n",
       "v38           -1.0000   3.34e-15     -3e+14      0.000      -1.000      -1.000\n",
       "v62           -1.0000   2.56e-15   -3.9e+14      0.000      -1.000      -1.000\n",
       "v72            1.0000   2.26e-15   4.43e+14      0.000       1.000       1.000\n",
       "==============================================================================\n",
       "Omnibus:                    51886.060   Durbin-Watson:                   0.622\n",
       "Prob(Omnibus):                  0.000   Jarque-Bera (JB):           307966.179\n",
       "Skew:                           2.134   Prob(JB):                         0.00\n",
       "Kurtosis:                       9.814   Cond. No.                         6.27\n",
       "==============================================================================\n",
       "\n",
       "Warnings:\n",
       "[1] Standard Errors assume that the covariance matrix of the errors is correctly specified.\n",
       "\"\"\""
      ]
     },
     "execution_count": 30,
     "metadata": {},
     "output_type": "execute_result"
    }
   ],
   "source": [
    "est = smf.ols(formula='v129~v38+v62+v72', data=train).fit()\n",
    "est.summary()"
   ]
  },
  {
   "cell_type": "markdown",
   "metadata": {
    "deletable": true,
    "editable": true
   },
   "source": [
    "v129 is exactly a linear combination of v38, v62, and v72. Hence, v129 can be removed without losing any information."
   ]
  },
  {
   "cell_type": "code",
   "execution_count": 31,
   "metadata": {
    "collapsed": false,
    "deletable": true,
    "editable": true,
    "scrolled": true
   },
   "outputs": [
    {
     "data": {
      "text/html": [
       "<table class=\"simpletable\">\n",
       "<caption>OLS Regression Results</caption>\n",
       "<tr>\n",
       "  <th>Dep. Variable:</th>           <td>v34</td>       <th>  R-squared:         </th>  <td>   1.000</td> \n",
       "</tr>\n",
       "<tr>\n",
       "  <th>Model:</th>                   <td>OLS</td>       <th>  Adj. R-squared:    </th>  <td>   1.000</td> \n",
       "</tr>\n",
       "<tr>\n",
       "  <th>Method:</th>             <td>Least Squares</td>  <th>  F-statistic:       </th>  <td>3.884e+17</td>\n",
       "</tr>\n",
       "<tr>\n",
       "  <th>Date:</th>             <td>Sat, 30 Dec 2017</td> <th>  Prob (F-statistic):</th>   <td>  0.00</td>  \n",
       "</tr>\n",
       "<tr>\n",
       "  <th>Time:</th>                 <td>00:00:42</td>     <th>  Log-Likelihood:    </th> <td>1.4447e+06</td>\n",
       "</tr>\n",
       "<tr>\n",
       "  <th>No. Observations:</th>      <td>114210</td>      <th>  AIC:               </th> <td>-2.889e+06</td>\n",
       "</tr>\n",
       "<tr>\n",
       "  <th>Df Residuals:</th>          <td>114207</td>      <th>  BIC:               </th> <td>-2.889e+06</td>\n",
       "</tr>\n",
       "<tr>\n",
       "  <th>Df Model:</th>              <td>     2</td>      <th>                     </th>      <td> </td>    \n",
       "</tr>\n",
       "<tr>\n",
       "  <th>Covariance Type:</th>      <td>nonrobust</td>    <th>                     </th>      <td> </td>    \n",
       "</tr>\n",
       "</table>\n",
       "<table class=\"simpletable\">\n",
       "<tr>\n",
       "      <td></td>         <th>coef</th>     <th>std err</th>      <th>t</th>      <th>P>|t|</th>  <th>[0.025</th>    <th>0.975]</th>  \n",
       "</tr>\n",
       "<tr>\n",
       "  <th>Intercept</th> <td>   11.8267</td> <td>  8.1e-09</td> <td> 1.46e+09</td> <td> 0.000</td> <td>   11.827</td> <td>   11.827</td>\n",
       "</tr>\n",
       "<tr>\n",
       "  <th>v40</th>       <td>   -0.6324</td> <td>  7.4e-10</td> <td>-8.55e+08</td> <td> 0.000</td> <td>   -0.632</td> <td>   -0.632</td>\n",
       "</tr>\n",
       "<tr>\n",
       "  <th>v10</th>       <td>    0.6365</td> <td> 1.68e-09</td> <td> 3.78e+08</td> <td> 0.000</td> <td>    0.636</td> <td>    0.636</td>\n",
       "</tr>\n",
       "</table>\n",
       "<table class=\"simpletable\">\n",
       "<tr>\n",
       "  <th>Omnibus:</th>       <td>2091.887</td> <th>  Durbin-Watson:     </th> <td>   1.993</td> \n",
       "</tr>\n",
       "<tr>\n",
       "  <th>Prob(Omnibus):</th>  <td> 0.000</td>  <th>  Jarque-Bera (JB):  </th> <td>1151.134</td> \n",
       "</tr>\n",
       "<tr>\n",
       "  <th>Skew:</th>           <td>-0.004</td>  <th>  Prob(JB):          </th> <td>1.08e-250</td>\n",
       "</tr>\n",
       "<tr>\n",
       "  <th>Kurtosis:</th>       <td> 2.508</td>  <th>  Cond. No.          </th> <td>    39.4</td> \n",
       "</tr>\n",
       "</table>"
      ],
      "text/plain": [
       "<class 'statsmodels.iolib.summary.Summary'>\n",
       "\"\"\"\n",
       "                            OLS Regression Results                            \n",
       "==============================================================================\n",
       "Dep. Variable:                    v34   R-squared:                       1.000\n",
       "Model:                            OLS   Adj. R-squared:                  1.000\n",
       "Method:                 Least Squares   F-statistic:                 3.884e+17\n",
       "Date:                Sat, 30 Dec 2017   Prob (F-statistic):               0.00\n",
       "Time:                        00:00:42   Log-Likelihood:             1.4447e+06\n",
       "No. Observations:              114210   AIC:                        -2.889e+06\n",
       "Df Residuals:                  114207   BIC:                        -2.889e+06\n",
       "Df Model:                           2                                         \n",
       "Covariance Type:            nonrobust                                         \n",
       "==============================================================================\n",
       "                 coef    std err          t      P>|t|      [0.025      0.975]\n",
       "------------------------------------------------------------------------------\n",
       "Intercept     11.8267    8.1e-09   1.46e+09      0.000      11.827      11.827\n",
       "v40           -0.6324    7.4e-10  -8.55e+08      0.000      -0.632      -0.632\n",
       "v10            0.6365   1.68e-09   3.78e+08      0.000       0.636       0.636\n",
       "==============================================================================\n",
       "Omnibus:                     2091.887   Durbin-Watson:                   1.993\n",
       "Prob(Omnibus):                  0.000   Jarque-Bera (JB):             1151.134\n",
       "Skew:                          -0.004   Prob(JB):                    1.08e-250\n",
       "Kurtosis:                       2.508   Cond. No.                         39.4\n",
       "==============================================================================\n",
       "\n",
       "Warnings:\n",
       "[1] Standard Errors assume that the covariance matrix of the errors is correctly specified.\n",
       "\"\"\""
      ]
     },
     "execution_count": 31,
     "metadata": {},
     "output_type": "execute_result"
    }
   ],
   "source": [
    "est = smf.ols(formula='v34~v40+v10', data=train).fit()\n",
    "est.summary()"
   ]
  },
  {
   "cell_type": "markdown",
   "metadata": {
    "deletable": true,
    "editable": true
   },
   "source": [
    "### Finding the denominator for numerical variables in order to convert them back to integers"
   ]
  },
  {
   "cell_type": "code",
   "execution_count": 32,
   "metadata": {
    "collapsed": true,
    "deletable": true,
    "editable": true
   },
   "outputs": [],
   "source": [
    "def f(x, col):\n",
    "    return np.sum(round(train[col] / x, 2) % 1)"
   ]
  },
  {
   "cell_type": "markdown",
   "metadata": {
    "deletable": true,
    "editable": true
   },
   "source": [
    "### v10"
   ]
  },
  {
   "cell_type": "code",
   "execution_count": 33,
   "metadata": {
    "collapsed": false,
    "deletable": true,
    "editable": true
   },
   "outputs": [
    {
     "data": {
      "text/plain": [
       "0.021880    1\n",
       "0.021880    1\n",
       "0.021880    1\n",
       "0.021881    1\n",
       "0.021881    1\n",
       "0.021881    1\n",
       "0.021882    1\n",
       "0.021880    1\n",
       "0.021880    1\n",
       "0.021881    1\n",
       "Name: v10, dtype: int64"
      ]
     },
     "execution_count": 33,
     "metadata": {},
     "output_type": "execute_result"
    }
   ],
   "source": [
    "v10 = train['v10'].dropna().sort_values()\n",
    "v10_diff = v10.rolling(2).apply(lambda x: x[1]-x[0])\n",
    "v10_diff[v10_diff>0.000001].value_counts().head(10)"
   ]
  },
  {
   "cell_type": "code",
   "execution_count": 34,
   "metadata": {
    "collapsed": false,
    "deletable": true,
    "editable": true
   },
   "outputs": [
    {
     "data": {
      "image/png": "[encoded data removed]",
      "text/plain": [
       "<matplotlib.figure.Figure at 0x11e520be0>"
      ]
     },
     "metadata": {},
     "output_type": "display_data"
    }
   ],
   "source": [
    "p = plt.hist(v10_diff[1:], range=[0.02188, 0.02189], bins=1000)"
   ]
  },
  {
   "cell_type": "code",
   "execution_count": 35,
   "metadata": {
    "collapsed": false,
    "deletable": true,
    "editable": true,
    "scrolled": false
   },
   "outputs": [
    {
     "data": {
      "text/plain": [
       "0.02188170970970971"
      ]
     },
     "execution_count": 35,
     "metadata": {},
     "output_type": "execute_result"
    }
   ],
   "source": [
    "res_v10 = optimize.brute(f, args=('v10', ), ranges=((0.02188, 0.021882), ), Ns=1000) ; res_v10[0]"
   ]
  },
  {
   "cell_type": "markdown",
   "metadata": {
    "deletable": true,
    "editable": true
   },
   "source": [
    "### v40"
   ]
  },
  {
   "cell_type": "code",
   "execution_count": 36,
   "metadata": {
    "collapsed": false,
    "deletable": true,
    "editable": true,
    "scrolled": false
   },
   "outputs": [
    {
     "data": {
      "text/plain": [
       "0.000722    5\n",
       "0.000722    5\n",
       "0.000722    4\n",
       "0.000722    4\n",
       "0.000722    4\n",
       "0.000722    4\n",
       "0.000722    4\n",
       "0.000722    4\n",
       "0.000722    4\n",
       "0.000722    4\n",
       "Name: v40, dtype: int64"
      ]
     },
     "execution_count": 36,
     "metadata": {},
     "output_type": "execute_result"
    }
   ],
   "source": [
    "v40 = train['v40'].dropna().sort_values()\n",
    "v40_diff = v40.rolling(2).apply(lambda x: x[1]-x[0])\n",
    "v40_diff[v40_diff>0.000001].value_counts().head(10)"
   ]
  },
  {
   "cell_type": "code",
   "execution_count": 37,
   "metadata": {
    "collapsed": false,
    "deletable": true,
    "editable": true
   },
   "outputs": [
    {
     "data": {
      "image/png": "[encoded data removed]",
      "text/plain": [
       "<matplotlib.figure.Figure at 0x11451ad30>"
      ]
     },
     "metadata": {},
     "output_type": "display_data"
    }
   ],
   "source": [
    "p = plt.hist(v40_diff[1:], range=[0.00072, 0.00073], bins=1000)"
   ]
  },
  {
   "cell_type": "code",
   "execution_count": 38,
   "metadata": {
    "collapsed": false,
    "deletable": true,
    "editable": true,
    "scrolled": true
   },
   "outputs": [
    {
     "data": {
      "text/plain": [
       "0.00072353656960106455"
      ]
     },
     "execution_count": 38,
     "metadata": {},
     "output_type": "execute_result"
    }
   ],
   "source": [
    "res_v40 = optimize.brute(f, args=('v40', ), ranges=((0.00072, 0.000725), ), Ns=1000) ; res_v40[0]"
   ]
  },
  {
   "cell_type": "markdown",
   "metadata": {
    "deletable": true,
    "editable": true
   },
   "source": [
    "### v50"
   ]
  },
  {
   "cell_type": "code",
   "execution_count": 39,
   "metadata": {
    "collapsed": false,
    "deletable": true,
    "editable": true
   },
   "outputs": [],
   "source": [
    "v50 = train['v50'].dropna().sort_values()\n",
    "v50_diff = v50.rolling(2).apply(lambda x: x[1]-x[0])"
   ]
  },
  {
   "cell_type": "code",
   "execution_count": 40,
   "metadata": {
    "collapsed": false,
    "deletable": true,
    "editable": true,
    "scrolled": true
   },
   "outputs": [
    {
     "data": {
      "text/plain": [
       "0.001465    3\n",
       "0.001465    2\n",
       "0.001465    2\n",
       "0.001465    2\n",
       "0.001466    2\n",
       "0.001465    2\n",
       "0.001466    2\n",
       "0.001465    2\n",
       "0.001465    2\n",
       "0.001465    2\n",
       "Name: v50, dtype: int64"
      ]
     },
     "execution_count": 40,
     "metadata": {},
     "output_type": "execute_result"
    }
   ],
   "source": [
    "v50_diff[v50_diff>0.00001].value_counts().head(10)"
   ]
  },
  {
   "cell_type": "code",
   "execution_count": 41,
   "metadata": {
    "collapsed": false,
    "deletable": true,
    "editable": true
   },
   "outputs": [
    {
     "data": {
      "image/png": "[encoded data removed]",
      "text/plain": [
       "<matplotlib.figure.Figure at 0x11e2ddac8>"
      ]
     },
     "metadata": {},
     "output_type": "display_data"
    }
   ],
   "source": [
    "p = plt.hist(v50_diff[1:], range=[0.00146, 0.00147], bins=1000)"
   ]
  },
  {
   "cell_type": "code",
   "execution_count": 42,
   "metadata": {
    "collapsed": false,
    "deletable": true,
    "editable": true,
    "scrolled": true
   },
   "outputs": [
    {
     "data": {
      "text/plain": [
       "0.0014672432432432431"
      ]
     },
     "execution_count": 42,
     "metadata": {},
     "output_type": "execute_result"
    }
   ],
   "source": [
    "res_v50 = optimize.brute(f, args=('v50', ), ranges=((0.001465, 0.001468), ), Ns=1000); res_v50[0]"
   ]
  },
  {
   "cell_type": "code",
   "execution_count": 43,
   "metadata": {
    "collapsed": false,
    "deletable": true,
    "editable": true,
    "scrolled": true
   },
   "outputs": [
    {
     "data": {
      "text/plain": [
       "0     613.0\n",
       "1     940.0\n",
       "2     412.0\n",
       "3    2269.0\n",
       "4     930.0\n",
       "5    1127.0\n",
       "6      91.0\n",
       "7    1828.0\n",
       "8    1142.0\n",
       "9     677.0\n",
       "Name: v50, dtype: float64"
      ]
     },
     "execution_count": 43,
     "metadata": {},
     "output_type": "execute_result"
    }
   ],
   "source": [
    "round((train['v50']/ res_v50[0]), 2).head(10)"
   ]
  },
  {
   "cell_type": "code",
   "execution_count": 44,
   "metadata": {
    "collapsed": false,
    "deletable": true,
    "editable": true
   },
   "outputs": [
    {
     "name": "stdout",
     "output_type": "stream",
     "text": [
      "0.0218817097097 0.000723536569601 0.00146724324324\n"
     ]
    }
   ],
   "source": [
    "# denominators for variables v10, v40, v50\n",
    "print(res_v10[0], res_v40[0], res_v50[0]) "
   ]
  },
  {
   "cell_type": "code",
   "execution_count": 45,
   "metadata": {
    "collapsed": true,
    "deletable": true,
    "editable": true
   },
   "outputs": [],
   "source": [
    "train['v40-v50'] = round(train['v40']/res_v40[0], 2) - round(train['v50']/res_v50[0], 2)"
   ]
  },
  {
   "cell_type": "code",
   "execution_count": 46,
   "metadata": {
    "collapsed": false,
    "deletable": true,
    "editable": true,
    "scrolled": true
   },
   "outputs": [
    {
     "data": {
      "text/html": [
       "<div>\n",
       "<table border=\"1\" class=\"dataframe\">\n",
       "  <thead>\n",
       "    <tr style=\"text-align: right;\">\n",
       "      <th></th>\n",
       "      <th>v22</th>\n",
       "      <th>v40-v50</th>\n",
       "      <th>v50</th>\n",
       "      <th>target</th>\n",
       "    </tr>\n",
       "  </thead>\n",
       "  <tbody>\n",
       "    <tr>\n",
       "      <th>111484</th>\n",
       "      <td>ZLS</td>\n",
       "      <td>6281.0</td>\n",
       "      <td>0.583962</td>\n",
       "      <td>1</td>\n",
       "    </tr>\n",
       "    <tr>\n",
       "      <th>104707</th>\n",
       "      <td>ZLS</td>\n",
       "      <td>7003.0</td>\n",
       "      <td>4.340108</td>\n",
       "      <td>1</td>\n",
       "    </tr>\n",
       "    <tr>\n",
       "      <th>24194</th>\n",
       "      <td>ZLS</td>\n",
       "      <td>7422.0</td>\n",
       "      <td>2.039468</td>\n",
       "      <td>1</td>\n",
       "    </tr>\n",
       "    <tr>\n",
       "      <th>35911</th>\n",
       "      <td>ZLS</td>\n",
       "      <td>7424.0</td>\n",
       "      <td>4.492701</td>\n",
       "      <td>1</td>\n",
       "    </tr>\n",
       "    <tr>\n",
       "      <th>62306</th>\n",
       "      <td>ZLS</td>\n",
       "      <td>7471.0</td>\n",
       "      <td>0.488592</td>\n",
       "      <td>1</td>\n",
       "    </tr>\n",
       "    <tr>\n",
       "      <th>38526</th>\n",
       "      <td>ZLS</td>\n",
       "      <td>9790.0</td>\n",
       "      <td>1.637444</td>\n",
       "      <td>1</td>\n",
       "    </tr>\n",
       "    <tr>\n",
       "      <th>98326</th>\n",
       "      <td>ZLS</td>\n",
       "      <td>10229.0</td>\n",
       "      <td>2.968234</td>\n",
       "      <td>1</td>\n",
       "    </tr>\n",
       "    <tr>\n",
       "      <th>96814</th>\n",
       "      <td>ZLS</td>\n",
       "      <td>10524.0</td>\n",
       "      <td>1.656519</td>\n",
       "      <td>0</td>\n",
       "    </tr>\n",
       "    <tr>\n",
       "      <th>46214</th>\n",
       "      <td>ZLS</td>\n",
       "      <td>10524.0</td>\n",
       "      <td>2.165651</td>\n",
       "      <td>0</td>\n",
       "    </tr>\n",
       "    <tr>\n",
       "      <th>10074</th>\n",
       "      <td>ZLS</td>\n",
       "      <td>12840.0</td>\n",
       "      <td>0.289047</td>\n",
       "      <td>1</td>\n",
       "    </tr>\n",
       "    <tr>\n",
       "      <th>42851</th>\n",
       "      <td>ZLS</td>\n",
       "      <td>12840.0</td>\n",
       "      <td>1.411488</td>\n",
       "      <td>1</td>\n",
       "    </tr>\n",
       "    <tr>\n",
       "      <th>18971</th>\n",
       "      <td>ZLS</td>\n",
       "      <td>12840.0</td>\n",
       "      <td>2.108430</td>\n",
       "      <td>1</td>\n",
       "    </tr>\n",
       "    <tr>\n",
       "      <th>104124</th>\n",
       "      <td>ZLS</td>\n",
       "      <td>12840.0</td>\n",
       "      <td>2.202333</td>\n",
       "      <td>1</td>\n",
       "    </tr>\n",
       "    <tr>\n",
       "      <th>97304</th>\n",
       "      <td>ZLS</td>\n",
       "      <td>12840.0</td>\n",
       "      <td>2.532462</td>\n",
       "      <td>1</td>\n",
       "    </tr>\n",
       "    <tr>\n",
       "      <th>5724</th>\n",
       "      <td>ZLS</td>\n",
       "      <td>12840.0</td>\n",
       "      <td>3.547795</td>\n",
       "      <td>1</td>\n",
       "    </tr>\n",
       "    <tr>\n",
       "      <th>37771</th>\n",
       "      <td>ZLS</td>\n",
       "      <td>14308.0</td>\n",
       "      <td>1.225149</td>\n",
       "      <td>0</td>\n",
       "    </tr>\n",
       "    <tr>\n",
       "      <th>39039</th>\n",
       "      <td>ZLS</td>\n",
       "      <td>14433.0</td>\n",
       "      <td>0.124716</td>\n",
       "      <td>0</td>\n",
       "    </tr>\n",
       "    <tr>\n",
       "      <th>38502</th>\n",
       "      <td>ZLS</td>\n",
       "      <td>14955.0</td>\n",
       "      <td>0.275841</td>\n",
       "      <td>1</td>\n",
       "    </tr>\n",
       "    <tr>\n",
       "      <th>107523</th>\n",
       "      <td>ZLS</td>\n",
       "      <td>15461.0</td>\n",
       "      <td>2.522192</td>\n",
       "      <td>1</td>\n",
       "    </tr>\n",
       "    <tr>\n",
       "      <th>66853</th>\n",
       "      <td>ZLS</td>\n",
       "      <td>15657.0</td>\n",
       "      <td>0.636784</td>\n",
       "      <td>0</td>\n",
       "    </tr>\n",
       "    <tr>\n",
       "      <th>23217</th>\n",
       "      <td>ZLS</td>\n",
       "      <td>15693.0</td>\n",
       "      <td>1.854596</td>\n",
       "      <td>0</td>\n",
       "    </tr>\n",
       "    <tr>\n",
       "      <th>28310</th>\n",
       "      <td>ZLS</td>\n",
       "      <td>16242.0</td>\n",
       "      <td>1.049079</td>\n",
       "      <td>1</td>\n",
       "    </tr>\n",
       "    <tr>\n",
       "      <th>54576</th>\n",
       "      <td>ZLS</td>\n",
       "      <td>17113.0</td>\n",
       "      <td>0.677866</td>\n",
       "      <td>1</td>\n",
       "    </tr>\n",
       "    <tr>\n",
       "      <th>17016</th>\n",
       "      <td>ZLS</td>\n",
       "      <td>17186.0</td>\n",
       "      <td>0.917027</td>\n",
       "      <td>0</td>\n",
       "    </tr>\n",
       "    <tr>\n",
       "      <th>82338</th>\n",
       "      <td>ZLS</td>\n",
       "      <td>17306.0</td>\n",
       "      <td>0.173134</td>\n",
       "      <td>1</td>\n",
       "    </tr>\n",
       "    <tr>\n",
       "      <th>110588</th>\n",
       "      <td>ZLS</td>\n",
       "      <td>17306.0</td>\n",
       "      <td>2.780428</td>\n",
       "      <td>1</td>\n",
       "    </tr>\n",
       "    <tr>\n",
       "      <th>64010</th>\n",
       "      <td>ZLS</td>\n",
       "      <td>19226.0</td>\n",
       "      <td>0.834861</td>\n",
       "      <td>1</td>\n",
       "    </tr>\n",
       "    <tr>\n",
       "      <th>22152</th>\n",
       "      <td>ZLS</td>\n",
       "      <td>20023.0</td>\n",
       "      <td>1.757758</td>\n",
       "      <td>0</td>\n",
       "    </tr>\n",
       "    <tr>\n",
       "      <th>98110</th>\n",
       "      <td>ZLS</td>\n",
       "      <td>22459.0</td>\n",
       "      <td>0.196610</td>\n",
       "      <td>0</td>\n",
       "    </tr>\n",
       "    <tr>\n",
       "      <th>43878</th>\n",
       "      <td>ZLS</td>\n",
       "      <td>22459.0</td>\n",
       "      <td>0.413763</td>\n",
       "      <td>1</td>\n",
       "    </tr>\n",
       "    <tr>\n",
       "      <th>93322</th>\n",
       "      <td>ZLS</td>\n",
       "      <td>22459.0</td>\n",
       "      <td>1.091629</td>\n",
       "      <td>1</td>\n",
       "    </tr>\n",
       "  </tbody>\n",
       "</table>\n",
       "</div>"
      ],
      "text/plain": [
       "        v22  v40-v50       v50  target\n",
       "111484  ZLS   6281.0  0.583962       1\n",
       "104707  ZLS   7003.0  4.340108       1\n",
       "24194   ZLS   7422.0  2.039468       1\n",
       "35911   ZLS   7424.0  4.492701       1\n",
       "62306   ZLS   7471.0  0.488592       1\n",
       "38526   ZLS   9790.0  1.637444       1\n",
       "98326   ZLS  10229.0  2.968234       1\n",
       "96814   ZLS  10524.0  1.656519       0\n",
       "46214   ZLS  10524.0  2.165651       0\n",
       "10074   ZLS  12840.0  0.289047       1\n",
       "42851   ZLS  12840.0  1.411488       1\n",
       "18971   ZLS  12840.0  2.108430       1\n",
       "104124  ZLS  12840.0  2.202333       1\n",
       "97304   ZLS  12840.0  2.532462       1\n",
       "5724    ZLS  12840.0  3.547795       1\n",
       "37771   ZLS  14308.0  1.225149       0\n",
       "39039   ZLS  14433.0  0.124716       0\n",
       "38502   ZLS  14955.0  0.275841       1\n",
       "107523  ZLS  15461.0  2.522192       1\n",
       "66853   ZLS  15657.0  0.636784       0\n",
       "23217   ZLS  15693.0  1.854596       0\n",
       "28310   ZLS  16242.0  1.049079       1\n",
       "54576   ZLS  17113.0  0.677866       1\n",
       "17016   ZLS  17186.0  0.917027       0\n",
       "82338   ZLS  17306.0  0.173134       1\n",
       "110588  ZLS  17306.0  2.780428       1\n",
       "64010   ZLS  19226.0  0.834861       1\n",
       "22152   ZLS  20023.0  1.757758       0\n",
       "98110   ZLS  22459.0  0.196610       0\n",
       "43878   ZLS  22459.0  0.413763       1\n",
       "93322   ZLS  22459.0  1.091629       1"
      ]
     },
     "execution_count": 46,
     "metadata": {},
     "output_type": "execute_result"
    }
   ],
   "source": [
    "train[train['v22']=='ZLS'][['v22', 'v40-v50', 'v50', 'target']].sort_values(['v40-v50','v50'])"
   ]
  },
  {
   "cell_type": "code",
   "execution_count": 47,
   "metadata": {
    "collapsed": false,
    "deletable": true,
    "editable": true
   },
   "outputs": [
    {
     "data": {
      "text/plain": [
       "v22   v40-v50\n",
       "AA    10759.0    1.0\n",
       "      14667.0    1.0\n",
       "      18561.0    1.0\n",
       "      19045.0    0.0\n",
       "AAA   8136.0     1.0\n",
       "      14226.0    1.0\n",
       "      14860.0    1.0\n",
       "AAAA  7832.0     1.0\n",
       "AAAB  9086.0     0.0\n",
       "      9526.0     1.0\n",
       "      10598.0    1.0\n",
       "      12804.0    1.0\n",
       "      13345.0    1.0\n",
       "      14482.0    1.0\n",
       "      16153.0    1.0\n",
       "      16957.0    1.0\n",
       "      17316.0    1.0\n",
       "      17373.0    1.0\n",
       "      18384.0    1.0\n",
       "      19668.0    1.0\n",
       "AAAC  11476.0    1.0\n",
       "      12267.0    1.0\n",
       "AAAE  13909.0    1.0\n",
       "      20517.0    1.0\n",
       "AAAF  11649.0    1.0\n",
       "AAAG  14272.0    0.0\n",
       "AAAH  16853.0    0.0\n",
       "AAAK  1697.0     1.0\n",
       "      3017.0     1.0\n",
       "      5014.0     0.0\n",
       "                ... \n",
       "ZZW   12280.0    1.0\n",
       "      12286.0    1.0\n",
       "      12693.0    1.0\n",
       "      12700.0    1.0\n",
       "      13347.0    1.0\n",
       "      13677.0    1.0\n",
       "      14092.0    1.0\n",
       "      14393.0    1.0\n",
       "      14607.0    0.0\n",
       "      14807.0    1.0\n",
       "      14858.0    1.0\n",
       "      14920.0    1.0\n",
       "      14967.0    1.0\n",
       "      15546.0    1.0\n",
       "      15804.0    1.0\n",
       "      15841.0    0.0\n",
       "      16191.0    1.0\n",
       "      16209.0    1.0\n",
       "      16751.0    1.0\n",
       "      17096.0    0.0\n",
       "      17149.0    1.0\n",
       "      17583.0    1.0\n",
       "      17951.0    1.0\n",
       "      17989.0    1.0\n",
       "      19009.0    1.0\n",
       "      19424.0    1.0\n",
       "      22616.0    1.0\n",
       "ZZZ   10661.0    1.0\n",
       "      13781.0    0.0\n",
       "      15034.0    1.0\n",
       "Name: target, dtype: float64"
      ]
     },
     "execution_count": 47,
     "metadata": {},
     "output_type": "execute_result"
    }
   ],
   "source": [
    "train.groupby(['v22', 'v40-v50'])['target'].mean()"
   ]
  },
  {
   "cell_type": "code",
   "execution_count": 48,
   "metadata": {
    "collapsed": false,
    "deletable": true,
    "editable": true
   },
   "outputs": [
    {
     "data": {
      "text/html": [
       "<div>\n",
       "<table border=\"1\" class=\"dataframe\">\n",
       "  <thead>\n",
       "    <tr style=\"text-align: right;\">\n",
       "      <th></th>\n",
       "      <th>target</th>\n",
       "      <th>v22</th>\n",
       "      <th>v40-v50</th>\n",
       "    </tr>\n",
       "  </thead>\n",
       "  <tbody>\n",
       "    <tr>\n",
       "      <th>111484</th>\n",
       "      <td>1</td>\n",
       "      <td>ZLS</td>\n",
       "      <td>6281.0</td>\n",
       "    </tr>\n",
       "    <tr>\n",
       "      <th>104707</th>\n",
       "      <td>1</td>\n",
       "      <td>ZLS</td>\n",
       "      <td>7003.0</td>\n",
       "    </tr>\n",
       "    <tr>\n",
       "      <th>24194</th>\n",
       "      <td>1</td>\n",
       "      <td>ZLS</td>\n",
       "      <td>7422.0</td>\n",
       "    </tr>\n",
       "    <tr>\n",
       "      <th>35911</th>\n",
       "      <td>1</td>\n",
       "      <td>ZLS</td>\n",
       "      <td>7424.0</td>\n",
       "    </tr>\n",
       "    <tr>\n",
       "      <th>62306</th>\n",
       "      <td>1</td>\n",
       "      <td>ZLS</td>\n",
       "      <td>7471.0</td>\n",
       "    </tr>\n",
       "    <tr>\n",
       "      <th>38526</th>\n",
       "      <td>1</td>\n",
       "      <td>ZLS</td>\n",
       "      <td>9790.0</td>\n",
       "    </tr>\n",
       "    <tr>\n",
       "      <th>98326</th>\n",
       "      <td>1</td>\n",
       "      <td>ZLS</td>\n",
       "      <td>10229.0</td>\n",
       "    </tr>\n",
       "    <tr>\n",
       "      <th>46214</th>\n",
       "      <td>0</td>\n",
       "      <td>ZLS</td>\n",
       "      <td>10524.0</td>\n",
       "    </tr>\n",
       "    <tr>\n",
       "      <th>96814</th>\n",
       "      <td>0</td>\n",
       "      <td>ZLS</td>\n",
       "      <td>10524.0</td>\n",
       "    </tr>\n",
       "    <tr>\n",
       "      <th>5724</th>\n",
       "      <td>1</td>\n",
       "      <td>ZLS</td>\n",
       "      <td>12840.0</td>\n",
       "    </tr>\n",
       "    <tr>\n",
       "      <th>10074</th>\n",
       "      <td>1</td>\n",
       "      <td>ZLS</td>\n",
       "      <td>12840.0</td>\n",
       "    </tr>\n",
       "    <tr>\n",
       "      <th>18971</th>\n",
       "      <td>1</td>\n",
       "      <td>ZLS</td>\n",
       "      <td>12840.0</td>\n",
       "    </tr>\n",
       "    <tr>\n",
       "      <th>42851</th>\n",
       "      <td>1</td>\n",
       "      <td>ZLS</td>\n",
       "      <td>12840.0</td>\n",
       "    </tr>\n",
       "    <tr>\n",
       "      <th>97304</th>\n",
       "      <td>1</td>\n",
       "      <td>ZLS</td>\n",
       "      <td>12840.0</td>\n",
       "    </tr>\n",
       "    <tr>\n",
       "      <th>104124</th>\n",
       "      <td>1</td>\n",
       "      <td>ZLS</td>\n",
       "      <td>12840.0</td>\n",
       "    </tr>\n",
       "    <tr>\n",
       "      <th>37771</th>\n",
       "      <td>0</td>\n",
       "      <td>ZLS</td>\n",
       "      <td>14308.0</td>\n",
       "    </tr>\n",
       "    <tr>\n",
       "      <th>39039</th>\n",
       "      <td>0</td>\n",
       "      <td>ZLS</td>\n",
       "      <td>14433.0</td>\n",
       "    </tr>\n",
       "    <tr>\n",
       "      <th>38502</th>\n",
       "      <td>1</td>\n",
       "      <td>ZLS</td>\n",
       "      <td>14955.0</td>\n",
       "    </tr>\n",
       "    <tr>\n",
       "      <th>107523</th>\n",
       "      <td>1</td>\n",
       "      <td>ZLS</td>\n",
       "      <td>15461.0</td>\n",
       "    </tr>\n",
       "    <tr>\n",
       "      <th>66853</th>\n",
       "      <td>0</td>\n",
       "      <td>ZLS</td>\n",
       "      <td>15657.0</td>\n",
       "    </tr>\n",
       "    <tr>\n",
       "      <th>23217</th>\n",
       "      <td>0</td>\n",
       "      <td>ZLS</td>\n",
       "      <td>15693.0</td>\n",
       "    </tr>\n",
       "    <tr>\n",
       "      <th>28310</th>\n",
       "      <td>1</td>\n",
       "      <td>ZLS</td>\n",
       "      <td>16242.0</td>\n",
       "    </tr>\n",
       "    <tr>\n",
       "      <th>54576</th>\n",
       "      <td>1</td>\n",
       "      <td>ZLS</td>\n",
       "      <td>17113.0</td>\n",
       "    </tr>\n",
       "    <tr>\n",
       "      <th>17016</th>\n",
       "      <td>0</td>\n",
       "      <td>ZLS</td>\n",
       "      <td>17186.0</td>\n",
       "    </tr>\n",
       "    <tr>\n",
       "      <th>82338</th>\n",
       "      <td>1</td>\n",
       "      <td>ZLS</td>\n",
       "      <td>17306.0</td>\n",
       "    </tr>\n",
       "    <tr>\n",
       "      <th>110588</th>\n",
       "      <td>1</td>\n",
       "      <td>ZLS</td>\n",
       "      <td>17306.0</td>\n",
       "    </tr>\n",
       "    <tr>\n",
       "      <th>64010</th>\n",
       "      <td>1</td>\n",
       "      <td>ZLS</td>\n",
       "      <td>19226.0</td>\n",
       "    </tr>\n",
       "    <tr>\n",
       "      <th>22152</th>\n",
       "      <td>0</td>\n",
       "      <td>ZLS</td>\n",
       "      <td>20023.0</td>\n",
       "    </tr>\n",
       "    <tr>\n",
       "      <th>43878</th>\n",
       "      <td>1</td>\n",
       "      <td>ZLS</td>\n",
       "      <td>22459.0</td>\n",
       "    </tr>\n",
       "    <tr>\n",
       "      <th>93322</th>\n",
       "      <td>1</td>\n",
       "      <td>ZLS</td>\n",
       "      <td>22459.0</td>\n",
       "    </tr>\n",
       "    <tr>\n",
       "      <th>98110</th>\n",
       "      <td>0</td>\n",
       "      <td>ZLS</td>\n",
       "      <td>22459.0</td>\n",
       "    </tr>\n",
       "  </tbody>\n",
       "</table>\n",
       "</div>"
      ],
      "text/plain": [
       "        target  v22  v40-v50\n",
       "111484       1  ZLS   6281.0\n",
       "104707       1  ZLS   7003.0\n",
       "24194        1  ZLS   7422.0\n",
       "35911        1  ZLS   7424.0\n",
       "62306        1  ZLS   7471.0\n",
       "38526        1  ZLS   9790.0\n",
       "98326        1  ZLS  10229.0\n",
       "46214        0  ZLS  10524.0\n",
       "96814        0  ZLS  10524.0\n",
       "5724         1  ZLS  12840.0\n",
       "10074        1  ZLS  12840.0\n",
       "18971        1  ZLS  12840.0\n",
       "42851        1  ZLS  12840.0\n",
       "97304        1  ZLS  12840.0\n",
       "104124       1  ZLS  12840.0\n",
       "37771        0  ZLS  14308.0\n",
       "39039        0  ZLS  14433.0\n",
       "38502        1  ZLS  14955.0\n",
       "107523       1  ZLS  15461.0\n",
       "66853        0  ZLS  15657.0\n",
       "23217        0  ZLS  15693.0\n",
       "28310        1  ZLS  16242.0\n",
       "54576        1  ZLS  17113.0\n",
       "17016        0  ZLS  17186.0\n",
       "82338        1  ZLS  17306.0\n",
       "110588       1  ZLS  17306.0\n",
       "64010        1  ZLS  19226.0\n",
       "22152        0  ZLS  20023.0\n",
       "43878        1  ZLS  22459.0\n",
       "93322        1  ZLS  22459.0\n",
       "98110        0  ZLS  22459.0"
      ]
     },
     "execution_count": 48,
     "metadata": {},
     "output_type": "execute_result"
    }
   ],
   "source": [
    "train.loc[train['v22']=='ZLS'][['target', 'v22', 'v40-v50']].sort_values(['v22', 'v40-v50'])"
   ]
  },
  {
   "cell_type": "markdown",
   "metadata": {
    "deletable": true,
    "editable": true
   },
   "source": [
    "### Correlations with target variable"
   ]
  },
  {
   "cell_type": "code",
   "execution_count": 49,
   "metadata": {
    "collapsed": true,
    "deletable": true,
    "editable": true
   },
   "outputs": [],
   "source": [
    "selected_features = ['v3', 'v10', 'v12', 'v13', 'v14', 'v21', 'v24', 'v33', 'v34', 'v38',\n",
    "       'v40', 'v47', 'v50', 'v55', 'v56', 'v58', 'v62', 'v66', 'v71',\n",
    "       'v72', 'v74', 'v83', 'v84', 'v85', 'v91', 'v100', 'v111', 'v112',\n",
    "       'v113', 'v114', 'v121', 'v129', 'v130', 'v22', 'v125', 'v52', 'v30',\n",
    "       'v5', 'v98', 'v87', 'v70', 'v6', 'v88', 'v57', 'v131', 'v102',\n",
    "       'v28', 'v120', 'v39', 'v1', 'v115', 'v16', 'v45', 'v99', 'v68',\n",
    "       'v126', 'v80', 'v90', 'v18', 'v78', 'v26', 'v2', 'v44', 'v69',\n",
    "       'v101', 'v127', 'v7', 'v35', 'v122', 'v97', 'v9', 'v27', 'v19',\n",
    "       'v20', 'v15', 'v86', 'v60', 'v103', 'v43', 'v4', 'v11', 'v104',\n",
    "       'v59', 'v42', 'v94', 'v61', 'v32', 'v93', 'v65', 'v49', 'v77',\n",
    "       'v48', 'v41']"
   ]
  },
  {
   "cell_type": "code",
   "execution_count": 50,
   "metadata": {
    "collapsed": false,
    "deletable": true,
    "editable": true
   },
   "outputs": [
    {
     "data": {
      "text/plain": [
       "v50     0.241683\n",
       "v10     0.148680\n",
       "v129    0.142141\n",
       "v14     0.130670\n",
       "v34     0.095884\n",
       "v62     0.093709\n",
       "v114    0.075786\n",
       "v72     0.075241\n",
       "v21     0.067634\n",
       "v38     0.061863\n",
       "v4      0.059842\n",
       "v119    0.058578\n",
       "v123    0.055940\n",
       "v48     0.055493\n",
       "v12     0.054710\n",
       "v106    0.054226\n",
       "v93     0.051708\n",
       "v64     0.050931\n",
       "v101    0.050835\n",
       "v85     0.050820\n",
       "v51     0.049183\n",
       "v61     0.047781\n",
       "v17     0.047620\n",
       "v44     0.046616\n",
       "v130    0.046252\n",
       "v33     0.046213\n",
       "v55     0.045500\n",
       "v83     0.045349\n",
       "v76     0.045078\n",
       "v121    0.044467\n",
       "          ...   \n",
       "v90     0.011763\n",
       "v8      0.011442\n",
       "v19     0.010894\n",
       "v97     0.010522\n",
       "v63     0.010366\n",
       "v41     0.010202\n",
       "v94     0.010085\n",
       "v46     0.009907\n",
       "v102    0.009728\n",
       "v92     0.009707\n",
       "v16     0.009692\n",
       "v53     0.008830\n",
       "v78     0.008136\n",
       "v1      0.008114\n",
       "v25     0.008079\n",
       "v124    0.006770\n",
       "v67     0.006418\n",
       "v77     0.006359\n",
       "v89     0.005407\n",
       "v54     0.005125\n",
       "v105    0.004771\n",
       "v118    0.004366\n",
       "v18     0.003965\n",
       "v70     0.003867\n",
       "v122    0.003251\n",
       "v35     0.002863\n",
       "v49     0.002467\n",
       "v42     0.001053\n",
       "v126    0.000537\n",
       "v120    0.000221\n",
       "dtype: float64"
      ]
     },
     "execution_count": 50,
     "metadata": {},
     "output_type": "execute_result"
    }
   ],
   "source": [
    "abs(numericals.corrwith(train.target)).sort_values(ascending=False)"
   ]
  },
  {
   "cell_type": "code",
   "execution_count": 51,
   "metadata": {
    "collapsed": false,
    "deletable": true,
    "editable": true
   },
   "outputs": [],
   "source": [
    "train.loc[:, categoricals.columns] = train.loc[:, categoricals.columns].fillna('99')"
   ]
  },
  {
   "cell_type": "code",
   "execution_count": 52,
   "metadata": {
    "collapsed": false,
    "deletable": true,
    "editable": true,
    "scrolled": true
   },
   "outputs": [],
   "source": [
    "# label encode the categorical variables\n",
    "for c in categoricals.columns:\n",
    "    le = preprocessing.LabelEncoder()\n",
    "    le.fit(train[c])\n",
    "    train[c] = le.transform(train[c])"
   ]
  },
  {
   "cell_type": "code",
   "execution_count": 53,
   "metadata": {
    "collapsed": false,
    "deletable": true,
    "editable": true,
    "scrolled": true
   },
   "outputs": [
    {
     "data": {
      "text/plain": [
       "v110    0.153144\n",
       "v47     0.148274\n",
       "v31     0.148054\n",
       "v113    0.103690\n",
       "v66     0.064888\n",
       "v79     0.032034\n",
       "v56     0.029177\n",
       "v74     0.026532\n",
       "v3      0.021289\n",
       "v30     0.020047\n",
       "v107    0.018077\n",
       "v24     0.014172\n",
       "v112    0.010992\n",
       "v91     0.007168\n",
       "v75     0.004346\n",
       "v71     0.002399\n",
       "v125    0.002279\n",
       "v52     0.002093\n",
       "v22     0.001112\n",
       "dtype: float64"
      ]
     },
     "execution_count": 53,
     "metadata": {},
     "output_type": "execute_result"
    }
   ],
   "source": [
    "abs(train[categoricals.columns].corrwith(train.target)).sort_values(ascending=False)"
   ]
  },
  {
   "cell_type": "code",
   "execution_count": 54,
   "metadata": {
    "collapsed": true,
    "deletable": true,
    "editable": true
   },
   "outputs": [],
   "source": [
    "vars = ['v10', 'v12', 'v14', 'v21', 'v22', 'v24', 'v30', 'v31', 'v34', 'v38', 'v40', 'v47', 'v50', 'v52', 'v56', 'v62', \n",
    "'v66', 'v72', 'v75', 'v79', 'v107','v112', 'v113', 'v114', 'v129']"
   ]
  }
 ],
 "metadata": {
  "kernelspec": {
   "display_name": "Python 3",
   "language": "python",
   "name": "python3"
  },
  "language_info": {
   "codemirror_mode": {
    "name": "ipython",
    "version": 3
   },
   "file_extension": ".py",
   "mimetype": "text/x-python",
   "name": "python",
   "nbconvert_exporter": "python",
   "pygments_lexer": "ipython3",
   "version": "3.5.3"
  }
 },
 "nbformat": 4,
 "nbformat_minor": 0
}
