{
 "cells": [
  {
   "cell_type": "code",
   "execution_count": 2,
   "metadata": {
    "collapsed": false,
    "deletable": true,
    "editable": true
   },
   "outputs": [],
   "source": [
    "import pandas as pd\n",
    "import numpy as np\n",
    "import matplotlib.pyplot as plt\n",
    "import seaborn as sns\n",
    "import xgboost as xgb\n",
    "from collections import Counter\n",
    "from sklearn import preprocessing,metrics,cross_validation\n",
    "from sklearn import ensemble\n",
    "from sklearn.linear_model import RandomizedLogisticRegression\n",
    "from sklearn import linear_model\n",
    "from sklearn.grid_search import GridSearchCV \n",
    "from xgboost.sklearn import XGBClassifier\n",
    "from sklearn.cross_validation import train_test_split\n",
    "from sklearn.cross_validation import StratifiedKFold\n",
    "%matplotlib inline"
   ]
  },
  {
   "cell_type": "code",
   "execution_count": 3,
   "metadata": {
    "collapsed": true,
    "deletable": true,
    "editable": true
   },
   "outputs": [],
   "source": [
    "train = pd.read_csv('train.csv')\n",
    "test= pd.read_csv('test.csv')"
   ]
  },
  {
   "cell_type": "code",
   "execution_count": 4,
   "metadata": {
    "collapsed": false,
    "deletable": true,
    "editable": true
   },
   "outputs": [],
   "source": [
    "# variables to remove(based on Kaggle's script)\n",
    "removal = ['ID','target','v8','v23','v25','v31','v36','v37','v46','v51','v53','v54','v63','v73','v75','v79','v81','v82',\n",
    "           'v89','v92','v95','v105','v107','v108','v109','v110','v116','v117','v118','v119','v123','v124','v128']"
   ]
  },
  {
   "cell_type": "code",
   "execution_count": null,
   "metadata": {
    "collapsed": true,
    "deletable": true,
    "editable": true
   },
   "outputs": [],
   "source": [
    "#'v25','v46','v63','v64','v17','v33','v48','v17','v33','v48','v54','v107','v110'"
   ]
  },
  {
   "cell_type": "code",
   "execution_count": 5,
   "metadata": {
    "collapsed": true,
    "deletable": true,
    "editable": true
   },
   "outputs": [],
   "source": [
    "Y_train = train.target"
   ]
  },
  {
   "cell_type": "code",
   "execution_count": 6,
   "metadata": {
    "collapsed": true,
    "deletable": true,
    "editable": true
   },
   "outputs": [],
   "source": [
    "X_train = train.drop(removal, axis=1)"
   ]
  },
  {
   "cell_type": "code",
   "execution_count": 7,
   "metadata": {
    "collapsed": false,
    "deletable": true,
    "editable": true
   },
   "outputs": [],
   "source": [
    "# categorical columns \n",
    "cat = ['v3','v22','v24','v30','v47','v52','v56','v66','v71','v74','v91','v112','v113','v125'] \n",
    "# numerical columns\n",
    "num = [v for v in list(X_train.columns.values) if v not in cat] "
   ]
  },
  {
   "cell_type": "code",
   "execution_count": 9,
   "metadata": {
    "collapsed": false,
    "deletable": true,
    "editable": true,
    "scrolled": true
   },
   "outputs": [],
   "source": [
    "for c in cat:\n",
    "    X_train[c].replace(np.nan,' ', regex=True, inplace= True)"
   ]
  },
  {
   "cell_type": "code",
   "execution_count": 10,
   "metadata": {
    "collapsed": true,
    "deletable": true,
    "editable": true
   },
   "outputs": [],
   "source": [
    "X_train.fillna(-1, inplace = True)"
   ]
  },
  {
   "cell_type": "code",
   "execution_count": 11,
   "metadata": {
    "collapsed": false,
    "deletable": true,
    "editable": true
   },
   "outputs": [],
   "source": [
    "# label encode the categorical variables\n",
    "for s in cat:\n",
    "    lbl = preprocessing.LabelEncoder()\n",
    "    lbl.fit(X_train[s])\n",
    "    X_train[s] = lbl.transform(X_train[s])"
   ]
  },
  {
   "cell_type": "code",
   "execution_count": 12,
   "metadata": {
    "collapsed": true,
    "deletable": true,
    "editable": true
   },
   "outputs": [],
   "source": [
    "x_train, x_eval, y_train, y_eval= train_test_split(X_train, Y_train, test_size=0.25, train_size=0.75, random_state=123)"
   ]
  },
  {
   "cell_type": "markdown",
   "metadata": {
    "deletable": true,
    "editable": true
   },
   "source": [
    "### Feature Selection"
   ]
  },
  {
   "cell_type": "markdown",
   "metadata": {
    "deletable": true,
    "editable": true
   },
   "source": [
    "#### Randomized Logistic Regression  "
   ]
  },
  {
   "cell_type": "code",
   "execution_count": 139,
   "metadata": {
    "collapsed": true,
    "deletable": true,
    "editable": true
   },
   "outputs": [],
   "source": [
    "randomized_logistic = RandomizedLogisticRegression(n_jobs=1,n_resampling=200,selection_threshold=0.000001,random_state=123)"
   ]
  },
  {
   "cell_type": "code",
   "execution_count": 140,
   "metadata": {
    "collapsed": false,
    "deletable": true,
    "editable": true
   },
   "outputs": [
    {
     "data": {
      "text/plain": [
       "RandomizedLogisticRegression(C=1, fit_intercept=True,\n",
       "               memory=Memory(cachedir=None), n_jobs=1, n_resampling=200,\n",
       "               normalize=True, pre_dispatch='3*n_jobs', random_state=123,\n",
       "               sample_fraction=0.75, scaling=0.5,\n",
       "               selection_threshold=1e-06, tol=0.001, verbose=False)"
      ]
     },
     "execution_count": 140,
     "metadata": {},
     "output_type": "execute_result"
    }
   ],
   "source": [
    "randomized_logistic.fit(x_train,y_train)"
   ]
  },
  {
   "cell_type": "code",
   "execution_count": 141,
   "metadata": {
    "collapsed": true,
    "deletable": true,
    "editable": true
   },
   "outputs": [],
   "source": [
    "idx = randomized_logistic.get_support(indices=False)\n",
    "selected_features1 = x_train.columns.values[idx]"
   ]
  },
  {
   "cell_type": "markdown",
   "metadata": {
    "deletable": true,
    "editable": true
   },
   "source": [
    "#### Random Forest"
   ]
  },
  {
   "cell_type": "code",
   "execution_count": 142,
   "metadata": {
    "collapsed": false,
    "deletable": true,
    "editable": true
   },
   "outputs": [],
   "source": [
    "rf = ensemble.RandomForestClassifier(n_estimators=50,criterion='entropy',n_jobs=-1,random_state=123)"
   ]
  },
  {
   "cell_type": "code",
   "execution_count": 143,
   "metadata": {
    "collapsed": false,
    "deletable": true,
    "editable": true
   },
   "outputs": [
    {
     "name": "stdout",
     "output_type": "stream",
     "text": [
      "Features sorted by their score:\n"
     ]
    }
   ],
   "source": [
    "rf.fit(x_train,y_train)\n",
    "print (\"Features sorted by their score:\")\n",
    "importance = sorted(zip(map(lambda x: round(x, 8), rf.feature_importances_), x_train.columns.values),reverse=True)"
   ]
  },
  {
   "cell_type": "code",
   "execution_count": 172,
   "metadata": {
    "collapsed": false,
    "deletable": true,
    "editable": true
   },
   "outputs": [
    {
     "data": {
      "text/plain": [
       "90"
      ]
     },
     "execution_count": 172,
     "metadata": {},
     "output_type": "execute_result"
    }
   ],
   "source": [
    "# select the features with importance greater than 0.005\n",
    "selected_features2 = [importance[i][1] for i in  range(x_train.shape[1]) if importance[i][0] > 0.005] \n",
    "len(selected_features2)"
   ]
  },
  {
   "cell_type": "code",
   "execution_count": 173,
   "metadata": {
    "collapsed": true,
    "deletable": true,
    "editable": true
   },
   "outputs": [],
   "source": [
    "more_features = [x for x in selected_features2 if x not in selected_features1] \n",
    "selected_features = list(selected_features1) + more_features"
   ]
  },
  {
   "cell_type": "code",
   "execution_count": 192,
   "metadata": {
    "collapsed": false,
    "deletable": true,
    "editable": true
   },
   "outputs": [
    {
     "data": {
      "text/plain": [
       "array(['v3', 'v10', 'v12', 'v13', 'v14', 'v21', 'v24', 'v33', 'v34', 'v38',\n",
       "       'v40', 'v47', 'v50', 'v55', 'v56', 'v58', 'v62', 'v66', 'v71',\n",
       "       'v72', 'v74', 'v83', 'v84', 'v85', 'v91', 'v100', 'v111', 'v112',\n",
       "       'v113', 'v114', 'v121', 'v129', 'v130', 'v22', 'v125', 'v52', 'v30',\n",
       "       'v5', 'v98', 'v87', 'v70', 'v6', 'v88', 'v57', 'v131', 'v102',\n",
       "       'v28', 'v120', 'v39', 'v1', 'v115', 'v16', 'v45', 'v99', 'v68',\n",
       "       'v126', 'v80', 'v90', 'v18', 'v78', 'v26', 'v2', 'v44', 'v69',\n",
       "       'v101', 'v127', 'v7', 'v35', 'v122', 'v97', 'v9', 'v27', 'v19',\n",
       "       'v20', 'v15', 'v86', 'v60', 'v103', 'v43', 'v4', 'v11', 'v104',\n",
       "       'v59', 'v42', 'v94', 'v61', 'v32', 'v93', 'v65', 'v49', 'v77',\n",
       "       'v48', 'v41'], \n",
       "      dtype='<U4')"
      ]
     },
     "execution_count": 192,
     "metadata": {},
     "output_type": "execute_result"
    }
   ],
   "source": [
    "np.array(selected_features) # 93"
   ]
  },
  {
   "cell_type": "code",
   "execution_count": 14,
   "metadata": {
    "collapsed": true,
    "deletable": true,
    "editable": true
   },
   "outputs": [],
   "source": [
    "selected_features = ['v3', 'v10', 'v12', 'v13', 'v14', 'v21', 'v24', 'v33', 'v34', 'v38',\n",
    "       'v40', 'v47', 'v50', 'v55', 'v56', 'v58', 'v62', 'v66', 'v71',\n",
    "       'v72', 'v74', 'v83', 'v84', 'v85', 'v91', 'v100', 'v111', 'v112',\n",
    "       'v113', 'v114', 'v121', 'v129', 'v130', 'v22', 'v125', 'v52', 'v30',\n",
    "       'v5', 'v98', 'v87', 'v70', 'v6', 'v88', 'v57', 'v131', 'v102',\n",
    "       'v28', 'v120', 'v39', 'v1', 'v115', 'v16', 'v45', 'v99', 'v68',\n",
    "       'v126', 'v80', 'v90', 'v18', 'v78', 'v26', 'v2', 'v44', 'v69',\n",
    "       'v101', 'v127', 'v7', 'v35', 'v122', 'v97', 'v9', 'v27', 'v19',\n",
    "       'v20', 'v15', 'v86', 'v60', 'v103', 'v43', 'v4', 'v11', 'v104',\n",
    "       'v59', 'v42', 'v94', 'v61', 'v32', 'v93', 'v65', 'v49', 'v77',\n",
    "       'v48', 'v41']"
   ]
  },
  {
   "cell_type": "markdown",
   "metadata": {
    "deletable": true,
    "editable": true
   },
   "source": [
    "### Model Training"
   ]
  },
  {
   "cell_type": "code",
   "execution_count": 19,
   "metadata": {
    "collapsed": false,
    "deletable": true,
    "editable": true
   },
   "outputs": [],
   "source": [
    "RF = ensemble.RandomForestClassifier(n_estimators=1000,criterion='entropy',n_jobs=-1,random_state=123)"
   ]
  },
  {
   "cell_type": "code",
   "execution_count": 20,
   "metadata": {
    "collapsed": false,
    "deletable": true,
    "editable": true
   },
   "outputs": [
    {
     "data": {
      "text/plain": [
       "RandomForestClassifier(bootstrap=True, class_weight=None, criterion='entropy',\n",
       "            max_depth=None, max_features='auto', max_leaf_nodes=None,\n",
       "            min_impurity_split=1e-07, min_samples_leaf=1,\n",
       "            min_samples_split=2, min_weight_fraction_leaf=0.0,\n",
       "            n_estimators=1000, n_jobs=-1, oob_score=False,\n",
       "            random_state=123, verbose=0, warm_start=False)"
      ]
     },
     "execution_count": 20,
     "metadata": {},
     "output_type": "execute_result"
    }
   ],
   "source": [
    "RF.fit(x_train[selected_features],y_train)"
   ]
  },
  {
   "cell_type": "code",
   "execution_count": 15,
   "metadata": {
    "collapsed": false,
    "deletable": true,
    "editable": true
   },
   "outputs": [],
   "source": [
    "EXT1 = ensemble.ExtraTreesClassifier(n_estimators=1200, max_features= 30, criterion= 'entropy',min_samples_split= 2,\n",
    "                            max_depth= 30, min_samples_leaf= 2, n_jobs = -1,random_state=1)    "
   ]
  },
  {
   "cell_type": "code",
   "execution_count": 16,
   "metadata": {
    "collapsed": false,
    "deletable": true,
    "editable": true
   },
   "outputs": [
    {
     "data": {
      "text/plain": [
       "ExtraTreesClassifier(bootstrap=False, class_weight=None, criterion='entropy',\n",
       "           max_depth=30, max_features=30, max_leaf_nodes=None,\n",
       "           min_impurity_split=1e-07, min_samples_leaf=2,\n",
       "           min_samples_split=2, min_weight_fraction_leaf=0.0,\n",
       "           n_estimators=1200, n_jobs=-1, oob_score=False, random_state=1,\n",
       "           verbose=0, warm_start=False)"
      ]
     },
     "execution_count": 16,
     "metadata": {},
     "output_type": "execute_result"
    }
   ],
   "source": [
    "EXT1.fit(x_train[selected_features],y_train)"
   ]
  },
  {
   "cell_type": "code",
   "execution_count": 190,
   "metadata": {
    "collapsed": true,
    "deletable": true,
    "editable": true
   },
   "outputs": [],
   "source": [
    "EXT2 = ensemble.ExtraTreesClassifier(n_estimators=1200, max_features= 20, criterion= 'entropy',min_samples_split= 2,\n",
    "                            max_depth= 30, min_samples_leaf= 2, n_jobs = -1,random_state=6)    "
   ]
  },
  {
   "cell_type": "code",
   "execution_count": 194,
   "metadata": {
    "collapsed": false,
    "deletable": true,
    "editable": true
   },
   "outputs": [
    {
     "data": {
      "text/plain": [
       "ExtraTreesClassifier(bootstrap=False, class_weight=None, criterion='entropy',\n",
       "           max_depth=30, max_features=20, max_leaf_nodes=None,\n",
       "           min_samples_leaf=2, min_samples_split=2,\n",
       "           min_weight_fraction_leaf=0.0, n_estimators=1200, n_jobs=-1,\n",
       "           oob_score=False, random_state=3, verbose=0, warm_start=False)"
      ]
     },
     "execution_count": 194,
     "metadata": {},
     "output_type": "execute_result"
    }
   ],
   "source": [
    "EXT2.fit(x_train[selected_features],y_train)"
   ]
  },
  {
   "cell_type": "code",
   "execution_count": 13,
   "metadata": {
    "collapsed": false,
    "deletable": true,
    "editable": true
   },
   "outputs": [],
   "source": [
    "xgboost_params = { \n",
    "    \"objective\": \"binary:logistic\",\n",
    "    \"booster\": \"gbtree\", \n",
    "    \"eval_metric\": \"logloss\", \n",
    "    \"eta\": 0.01, \n",
    "    \"subsample\": 0.8,\n",
    "    \"colsample_bytree\": 0.8, \n",
    "    \"max_depth\": 8,\n",
    "    \"seed\":1\n",
    "}"
   ]
  },
  {
   "cell_type": "code",
   "execution_count": 28,
   "metadata": {
    "collapsed": true,
    "deletable": true,
    "editable": true
   },
   "outputs": [],
   "source": [
    "xgtrain = xgb.DMatrix(x_train[selected_features].values, y_train.values)\n",
    "xgeval = xgb.DMatrix(x_eval[selected_features].values)"
   ]
  },
  {
   "cell_type": "code",
   "execution_count": 38,
   "metadata": {
    "collapsed": true,
    "deletable": true,
    "editable": true
   },
   "outputs": [],
   "source": [
    "boost_round = 2000"
   ]
  },
  {
   "cell_type": "code",
   "execution_count": 39,
   "metadata": {
    "collapsed": true,
    "deletable": true,
    "editable": true
   },
   "outputs": [],
   "source": [
    "XGB = xgb.train(xgboost_params, xgtrain, num_boost_round=boost_round, verbose_eval=True)\n"
   ]
  },
  {
   "cell_type": "code",
   "execution_count": 40,
   "metadata": {
    "collapsed": false,
    "deletable": true,
    "editable": true
   },
   "outputs": [],
   "source": [
    "Prob_xgb = XGB.predict(xgeval, ntree_limit=XGB.best_iteration)"
   ]
  },
  {
   "cell_type": "code",
   "execution_count": 14,
   "metadata": {
    "collapsed": false,
    "deletable": true,
    "editable": true
   },
   "outputs": [],
   "source": [
    "nfolds=10"
   ]
  },
  {
   "cell_type": "code",
   "execution_count": 34,
   "metadata": {
    "collapsed": false,
    "deletable": true,
    "editable": true
   },
   "outputs": [
    {
     "name": "stderr",
     "output_type": "stream",
     "text": [
      "C:\\Users\\Chang Yen-hsiu\\Anaconda3\\lib\\site-packages\\sklearn\\cross_validation.py:516: Warning: The least populated class in y has only 1 members, which is too few. The minimum number of labels for any class cannot be less than n_folds=10.\n",
      "  % (min_labels, self.n_folds)), Warning)\n"
     ]
    }
   ],
   "source": [
    "stf = list(StratifiedKFold(y_train.index, nfolds))"
   ]
  },
  {
   "cell_type": "code",
   "execution_count": 54,
   "metadata": {
    "collapsed": true,
    "deletable": true,
    "editable": true
   },
   "outputs": [],
   "source": [
    "XGB1 = XGBClassifier(learning_rate =0.01, n_estimators=2000, max_depth=8,\n",
    " min_child_weight=1.5, gamma=0, reg_alpha=0.01, subsample=0.8, colsample_bytree=0.8, objective= 'binary:logistic',\n",
    " nthread=4, scale_pos_weight=1, seed=1)\n",
    "XGB2 = XGBClassifier(learning_rate =0.01, n_estimators=2000, max_depth=8,\n",
    " min_child_weight=1.5, gamma=0, reg_alpha=0.01, subsample=0.8, colsample_bytree=0.8, objective= 'binary:logistic',\n",
    " nthread=4, scale_pos_weight=1, seed=1)\n",
    "XGB3 = XGBClassifier(learning_rate =0.01, n_estimators=2000, max_depth=8,\n",
    " min_child_weight=1.5, gamma=0, reg_alpha=0.01, subsample=0.8, colsample_bytree=0.8, objective= 'binary:logistic',\n",
    " nthread=4, scale_pos_weight=1, seed=1)"
   ]
  },
  {
   "cell_type": "code",
   "execution_count": 44,
   "metadata": {
    "collapsed": false,
    "deletable": true,
    "editable": true
   },
   "outputs": [
    {
     "data": {
      "text/plain": [
       "XGBClassifier(base_score=0.5, colsample_bylevel=1, colsample_bytree=0.8,\n",
       "       gamma=0, learning_rate=0.01, max_delta_step=0, max_depth=8,\n",
       "       min_child_weight=1.5, missing=None, n_estimators=2000, nthread=4,\n",
       "       objective='binary:logistic', reg_alpha=0.01, reg_lambda=1,\n",
       "       scale_pos_weight=1, seed=1, silent=True, subsample=0.8)"
      ]
     },
     "execution_count": 44,
     "metadata": {},
     "output_type": "execute_result"
    }
   ],
   "source": [
    "XGB1.fit(x_train[selected_features].iloc[:70000,:], y_train[:70000],eval_metric='logloss')"
   ]
  },
  {
   "cell_type": "code",
   "execution_count": 45,
   "metadata": {
    "collapsed": true,
    "deletable": true,
    "editable": true
   },
   "outputs": [],
   "source": [
    "Prob_xgb1 = XGB1.predict_proba(x_eval[selected_features])[:,1]"
   ]
  },
  {
   "cell_type": "code",
   "execution_count": 47,
   "metadata": {
    "collapsed": false,
    "deletable": true,
    "editable": true
   },
   "outputs": [
    {
     "data": {
      "text/plain": [
       "XGBClassifier(base_score=0.5, colsample_bylevel=1, colsample_bytree=0.8,\n",
       "       gamma=0, learning_rate=0.01, max_delta_step=0, max_depth=8,\n",
       "       min_child_weight=1.5, missing=None, n_estimators=2000, nthread=4,\n",
       "       objective='binary:logistic', reg_alpha=0.01, reg_lambda=1,\n",
       "       scale_pos_weight=1, seed=1, silent=True, subsample=0.8)"
      ]
     },
     "execution_count": 47,
     "metadata": {},
     "output_type": "execute_result"
    }
   ],
   "source": [
    "XGB2.fit(x_train[selected_features].iloc[-70000:,:], y_train[-70000:],eval_metric='logloss')"
   ]
  },
  {
   "cell_type": "code",
   "execution_count": 48,
   "metadata": {
    "collapsed": true,
    "deletable": true,
    "editable": true
   },
   "outputs": [],
   "source": [
    "Prob_xgb2 = XGB2.predict_proba(x_eval[selected_features])[:,1]"
   ]
  },
  {
   "cell_type": "code",
   "execution_count": 58,
   "metadata": {
    "collapsed": false,
    "deletable": true,
    "editable": true
   },
   "outputs": [
    {
     "data": {
      "text/plain": [
       "XGBClassifier(base_score=0.5, colsample_bylevel=1, colsample_bytree=0.8,\n",
       "       gamma=0, learning_rate=0.01, max_delta_step=0, max_depth=8,\n",
       "       min_child_weight=1.5, missing=None, n_estimators=2000, nthread=4,\n",
       "       objective='binary:logistic', reg_alpha=0.01, reg_lambda=1,\n",
       "       scale_pos_weight=1, seed=1, silent=True, subsample=0.8)"
      ]
     },
     "execution_count": 58,
     "metadata": {},
     "output_type": "execute_result"
    }
   ],
   "source": [
    "XGB3.fit(x_train[selected_features].iloc[10000:80000,:], y_train[10000:80000],eval_metric='logloss')"
   ]
  },
  {
   "cell_type": "code",
   "execution_count": 63,
   "metadata": {
    "collapsed": true,
    "deletable": true,
    "editable": true
   },
   "outputs": [],
   "source": [
    "Prob_xgb3 = XGB3.predict_proba(x_eval[selected_features])[:,1]"
   ]
  },
  {
   "cell_type": "code",
   "execution_count": 73,
   "metadata": {
    "collapsed": false,
    "deletable": true,
    "editable": true
   },
   "outputs": [],
   "source": [
    "pp = 1/3*(Prob_xgb1+Prob_xgb2+Prob_xgb3)"
   ]
  },
  {
   "cell_type": "code",
   "execution_count": 74,
   "metadata": {
    "collapsed": false,
    "deletable": true,
    "editable": true
   },
   "outputs": [
    {
     "name": "stdout",
     "output_type": "stream",
     "text": [
      "0.463086361467\n"
     ]
    }
   ],
   "source": [
    "print(metrics.log_loss(y_eval, pp))"
   ]
  },
  {
   "cell_type": "markdown",
   "metadata": {
    "deletable": true,
    "editable": true
   },
   "source": [
    "#### Evaluation"
   ]
  },
  {
   "cell_type": "code",
   "execution_count": 21,
   "metadata": {
    "collapsed": false,
    "deletable": true,
    "editable": true
   },
   "outputs": [],
   "source": [
    "Prob_rf = RF.predict_proba(x_eval[selected_features])[:,1]"
   ]
  },
  {
   "cell_type": "code",
   "execution_count": 17,
   "metadata": {
    "collapsed": false,
    "deletable": true,
    "editable": true
   },
   "outputs": [],
   "source": [
    "Prob_ext1 = EXT1.predict_proba(x_eval[selected_features])[:,1]"
   ]
  },
  {
   "cell_type": "code",
   "execution_count": 195,
   "metadata": {
    "collapsed": false,
    "deletable": true,
    "editable": true
   },
   "outputs": [],
   "source": [
    "Prob_ext2 = EXT2.predict_proba(x_eval[selected_features])[:,1]"
   ]
  },
  {
   "cell_type": "code",
   "execution_count": 103,
   "metadata": {
    "collapsed": true,
    "deletable": true,
    "editable": true
   },
   "outputs": [],
   "source": [
    "Prob_xgb1 = XGB1.predict_proba(x_eval[selected_features])[:,1]"
   ]
  },
  {
   "cell_type": "code",
   "execution_count": 207,
   "metadata": {
    "collapsed": true,
    "deletable": true,
    "editable": true
   },
   "outputs": [],
   "source": [
    "Prob_xgb2 = XGB2.predict_proba(x_eval[selected_features])[:,1]"
   ]
  },
  {
   "cell_type": "code",
   "execution_count": 156,
   "metadata": {
    "collapsed": false,
    "deletable": true,
    "editable": true
   },
   "outputs": [
    {
     "name": "stdout",
     "output_type": "stream",
     "text": [
      "0.467575158768\n",
      "0.459134466627\n",
      "0.46489938548\n"
     ]
    }
   ],
   "source": [
    "print(metrics.log_loss(y_eval, Prob_rf))"
   ]
  },
  {
   "cell_type": "code",
   "execution_count": 22,
   "metadata": {
    "collapsed": false,
    "deletable": true,
    "editable": true
   },
   "outputs": [
    {
     "name": "stdout",
     "output_type": "stream",
     "text": [
      "0.467562991128\n"
     ]
    }
   ],
   "source": [
    "print(metrics.log_loss(y_eval, Prob_rf)) # 0.467562991128"
   ]
  },
  {
   "cell_type": "code",
   "execution_count": 18,
   "metadata": {
    "collapsed": false,
    "deletable": true,
    "editable": true
   },
   "outputs": [
    {
     "name": "stdout",
     "output_type": "stream",
     "text": [
      "0.458669333061\n"
     ]
    }
   ],
   "source": [
    "print(metrics.log_loss(y_eval, Prob_ext1)) # 0.458669333061"
   ]
  },
  {
   "cell_type": "code",
   "execution_count": 198,
   "metadata": {
    "collapsed": false,
    "deletable": true,
    "editable": true
   },
   "outputs": [
    {
     "name": "stdout",
     "output_type": "stream",
     "text": [
      "0.461548874465\n"
     ]
    }
   ],
   "source": [
    "print(metrics.log_loss(y_eval, Prob_ext2)) # 0.461548874465"
   ]
  },
  {
   "cell_type": "code",
   "execution_count": 104,
   "metadata": {
    "collapsed": false,
    "deletable": true,
    "editable": true
   },
   "outputs": [
    {
     "name": "stdout",
     "output_type": "stream",
     "text": [
      "0.462242613464\n"
     ]
    }
   ],
   "source": [
    "print(metrics.log_loss(y_eval, Prob_xgb1)) # 0.462485055814"
   ]
  },
  {
   "cell_type": "code",
   "execution_count": 75,
   "metadata": {
    "collapsed": false,
    "deletable": true,
    "editable": true
   },
   "outputs": [
    {
     "ename": "NameError",
     "evalue": "name 'Prob_ext1' is not defined",
     "output_type": "error",
     "traceback": [
      "\u001b[1;31m---------------------------------------------------------------------------\u001b[0m",
      "\u001b[1;31mNameError\u001b[0m                                 Traceback (most recent call last)",
      "\u001b[1;32m<ipython-input-75-3d3cb1b01984>\u001b[0m in \u001b[0;36m<module>\u001b[1;34m()\u001b[0m\n\u001b[1;32m----> 1\u001b[1;33m \u001b[0mProb\u001b[0m \u001b[1;33m=\u001b[0m \u001b[1;36m1\u001b[0m\u001b[1;33m/\u001b[0m\u001b[1;36m2\u001b[0m \u001b[1;33m*\u001b[0m \u001b[1;33m(\u001b[0m\u001b[0mProb_ext1\u001b[0m \u001b[1;33m+\u001b[0m \u001b[0mProb_xgb\u001b[0m\u001b[1;33m)\u001b[0m\u001b[1;33m\u001b[0m\u001b[0m\n\u001b[0m",
      "\u001b[1;31mNameError\u001b[0m: name 'Prob_ext1' is not defined"
     ]
    }
   ],
   "source": [
    "Prob = 1/2 * (Prob_ext1 + Prob_xgb)"
   ]
  },
  {
   "cell_type": "code",
   "execution_count": 82,
   "metadata": {
    "collapsed": false,
    "deletable": true,
    "editable": true
   },
   "outputs": [
    {
     "name": "stdout",
     "output_type": "stream",
     "text": [
      "0.456997963019\n"
     ]
    }
   ],
   "source": [
    "print(metrics.log_loss(y_eval, Prob)) # 0.456993773837"
   ]
  },
  {
   "cell_type": "code",
   "execution_count": 94,
   "metadata": {
    "collapsed": false,
    "deletable": true,
    "editable": true
   },
   "outputs": [
    {
     "data": {
      "text/plain": [
       "array([[ 1.        ,  0.91883161],\n",
       "       [ 0.91883161,  1.        ]])"
      ]
     },
     "execution_count": 94,
     "metadata": {},
     "output_type": "execute_result"
    }
   ],
   "source": [
    "np.corrcoef(Prob_xgb,Prob_rf)"
   ]
  }
 ],
 "metadata": {
  "kernelspec": {
   "display_name": "Python 3",
   "language": "python",
   "name": "python3"
  },
  "language_info": {
   "codemirror_mode": {
    "name": "ipython",
    "version": 3
   },
   "file_extension": ".py",
   "mimetype": "text/x-python",
   "name": "python",
   "nbconvert_exporter": "python",
   "pygments_lexer": "ipython3",
   "version": "3.5.3"
  }
 },
 "nbformat": 4,
 "nbformat_minor": 0
}
