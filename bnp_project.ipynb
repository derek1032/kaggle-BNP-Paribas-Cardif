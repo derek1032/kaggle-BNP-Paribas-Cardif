{
 "cells": [
  {
   "cell_type": "markdown",
   "metadata": {},
   "source": [
    "This notebook contains the codes for data cleaning and model training"
   ]
  },
  {
   "cell_type": "code",
   "execution_count": 48,
   "metadata": {
    "collapsed": false,
    "deletable": true,
    "editable": true
   },
   "outputs": [],
   "source": [
    "from __future__ import print_function, division\n",
    "import pandas as pd\n",
    "import numpy as np\n",
    "import matplotlib.pyplot as plt\n",
    "import seaborn as sns\n",
    "import xgboost as xgb\n",
    "from xgboost.sklearn import XGBClassifier\n",
    "from collections import Counter\n",
    "from sklearn import preprocessing, metrics,cross_validation\n",
    "from sklearn import ensemble\n",
    "from sklearn import linear_model\n",
    "from sklearn.grid_search import GridSearchCV \n",
    "from sklearn.cross_validation import train_test_split\n",
    "from sklearn.cross_validation import StratifiedKFold\n",
    "from sklearn import neighbors\n",
    "from sklearn import svm\n",
    "from sklearn import linear_model \n",
    "%matplotlib inline"
   ]
  },
  {
   "cell_type": "code",
   "execution_count": 3,
   "metadata": {
    "collapsed": false,
    "deletable": true,
    "editable": true
   },
   "outputs": [],
   "source": [
    "train = pd.read_csv('train.csv')\n",
    "test= pd.read_csv('test.csv')"
   ]
  },
  {
   "cell_type": "code",
   "execution_count": 4,
   "metadata": {
    "collapsed": false,
    "scrolled": false
   },
   "outputs": [
    {
     "name": "stdout",
     "output_type": "stream",
     "text": [
      "114321 observations and 131 features\n"
     ]
    }
   ],
   "source": [
    "print(\"{} observations and {} features\".format(train.shape[0], train.shape[1] - 2)) "
   ]
  },
  {
   "cell_type": "markdown",
   "metadata": {},
   "source": [
    "### Data Cleaning"
   ]
  },
  {
   "cell_type": "code",
   "execution_count": 10,
   "metadata": {
    "collapsed": false
   },
   "outputs": [
    {
     "data": {
      "text/plain": [
       "0"
      ]
     },
     "execution_count": 10,
     "metadata": {},
     "output_type": "execute_result"
    }
   ],
   "source": [
    "# Check duplicates\n",
    "sum(train.duplicated())"
   ]
  },
  {
   "cell_type": "code",
   "execution_count": 74,
   "metadata": {
    "collapsed": false
   },
   "outputs": [],
   "source": [
    "# Drop v34, v75, v107, v129\n",
    "train_X = train.drop(['ID', 'v34', 'v75', 'v107', 'v129'], axis=1)\n",
    "train_y = train.target"
   ]
  },
  {
   "cell_type": "code",
   "execution_count": 75,
   "metadata": {
    "collapsed": true
   },
   "outputs": [],
   "source": [
    "train_X = train_X.fillna(train_X.mean())"
   ]
  },
  {
   "cell_type": "code",
   "execution_count": 23,
   "metadata": {
    "collapsed": false
   },
   "outputs": [],
   "source": [
    "test_X = test.drop(['ID', 'v34', 'v75', 'v107', 'v129'], axis=1)"
   ]
  },
  {
   "cell_type": "code",
   "execution_count": 30,
   "metadata": {
    "collapsed": false
   },
   "outputs": [],
   "source": [
    "categorical_cols = train_X.select_dtypes(include=['O']).columns\n",
    "numerical_cols = train_X.select_dtypes(include=['int', 'float']).columns"
   ]
  },
  {
   "cell_type": "code",
   "execution_count": 73,
   "metadata": {
    "collapsed": false
   },
   "outputs": [
    {
     "data": {
      "text/plain": [
       "0.92414181997875655"
      ]
     },
     "execution_count": 73,
     "metadata": {},
     "output_type": "execute_result"
    }
   ],
   "source": [
    "def beta(n, k, f):\n",
    "    return 1 / (1 + np.exp(-(n-k)/f))\n",
    "beta(1000, 500, 200)"
   ]
  },
  {
   "cell_type": "code",
   "execution_count": 76,
   "metadata": {
    "collapsed": false
   },
   "outputs": [
    {
     "data": {
      "text/html": [
       "<div>\n",
       "<table border=\"1\" class=\"dataframe\">\n",
       "  <thead>\n",
       "    <tr style=\"text-align: right;\">\n",
       "      <th></th>\n",
       "      <th>target</th>\n",
       "      <th>v1</th>\n",
       "      <th>v2</th>\n",
       "      <th>v3</th>\n",
       "      <th>v4</th>\n",
       "      <th>v5</th>\n",
       "      <th>v6</th>\n",
       "      <th>v7</th>\n",
       "      <th>v8</th>\n",
       "      <th>v9</th>\n",
       "      <th>...</th>\n",
       "      <th>v121</th>\n",
       "      <th>v122</th>\n",
       "      <th>v123</th>\n",
       "      <th>v124</th>\n",
       "      <th>v125</th>\n",
       "      <th>v126</th>\n",
       "      <th>v127</th>\n",
       "      <th>v128</th>\n",
       "      <th>v130</th>\n",
       "      <th>v131</th>\n",
       "    </tr>\n",
       "  </thead>\n",
       "  <tbody>\n",
       "    <tr>\n",
       "      <th>0</th>\n",
       "      <td>1</td>\n",
       "      <td>1.335739e+00</td>\n",
       "      <td>8.727474</td>\n",
       "      <td>C</td>\n",
       "      <td>3.921026</td>\n",
       "      <td>7.915266</td>\n",
       "      <td>2.599278</td>\n",
       "      <td>3.176895</td>\n",
       "      <td>0.012941</td>\n",
       "      <td>9.999999</td>\n",
       "      <td>...</td>\n",
       "      <td>0.803572</td>\n",
       "      <td>8.000000</td>\n",
       "      <td>1.989780</td>\n",
       "      <td>3.575369e-02</td>\n",
       "      <td>AU</td>\n",
       "      <td>1.804126</td>\n",
       "      <td>3.113719</td>\n",
       "      <td>2.024285</td>\n",
       "      <td>0.636365</td>\n",
       "      <td>2.857144e+00</td>\n",
       "    </tr>\n",
       "    <tr>\n",
       "      <th>1</th>\n",
       "      <td>1</td>\n",
       "      <td>1.630686e+00</td>\n",
       "      <td>7.464411</td>\n",
       "      <td>C</td>\n",
       "      <td>4.145098</td>\n",
       "      <td>9.191265</td>\n",
       "      <td>2.436402</td>\n",
       "      <td>2.483921</td>\n",
       "      <td>2.301630</td>\n",
       "      <td>9.031859</td>\n",
       "      <td>...</td>\n",
       "      <td>2.737596</td>\n",
       "      <td>6.822439</td>\n",
       "      <td>3.549938</td>\n",
       "      <td>5.988956e-01</td>\n",
       "      <td>AF</td>\n",
       "      <td>1.672658</td>\n",
       "      <td>3.239542</td>\n",
       "      <td>1.957825</td>\n",
       "      <td>1.925763</td>\n",
       "      <td>1.739389e+00</td>\n",
       "    </tr>\n",
       "    <tr>\n",
       "      <th>2</th>\n",
       "      <td>1</td>\n",
       "      <td>9.438769e-01</td>\n",
       "      <td>5.310079</td>\n",
       "      <td>C</td>\n",
       "      <td>4.410969</td>\n",
       "      <td>5.326159</td>\n",
       "      <td>3.979592</td>\n",
       "      <td>3.928571</td>\n",
       "      <td>0.019645</td>\n",
       "      <td>12.666667</td>\n",
       "      <td>...</td>\n",
       "      <td>2.238806</td>\n",
       "      <td>9.333333</td>\n",
       "      <td>2.477596</td>\n",
       "      <td>1.345191e-02</td>\n",
       "      <td>AE</td>\n",
       "      <td>1.773709</td>\n",
       "      <td>3.922193</td>\n",
       "      <td>1.120468</td>\n",
       "      <td>0.883118</td>\n",
       "      <td>1.176472e+00</td>\n",
       "    </tr>\n",
       "    <tr>\n",
       "      <th>3</th>\n",
       "      <td>1</td>\n",
       "      <td>7.974146e-01</td>\n",
       "      <td>8.304757</td>\n",
       "      <td>C</td>\n",
       "      <td>4.225930</td>\n",
       "      <td>11.627438</td>\n",
       "      <td>2.097700</td>\n",
       "      <td>1.987549</td>\n",
       "      <td>0.171947</td>\n",
       "      <td>8.965516</td>\n",
       "      <td>...</td>\n",
       "      <td>1.956521</td>\n",
       "      <td>7.018256</td>\n",
       "      <td>1.812795</td>\n",
       "      <td>2.267384e-03</td>\n",
       "      <td>CJ</td>\n",
       "      <td>1.415230</td>\n",
       "      <td>2.954381</td>\n",
       "      <td>1.990847</td>\n",
       "      <td>1.677108</td>\n",
       "      <td>1.034483e+00</td>\n",
       "    </tr>\n",
       "    <tr>\n",
       "      <th>4</th>\n",
       "      <td>1</td>\n",
       "      <td>1.630686e+00</td>\n",
       "      <td>7.464411</td>\n",
       "      <td>C</td>\n",
       "      <td>4.145098</td>\n",
       "      <td>8.742359</td>\n",
       "      <td>2.436402</td>\n",
       "      <td>2.483921</td>\n",
       "      <td>1.496569</td>\n",
       "      <td>9.031859</td>\n",
       "      <td>...</td>\n",
       "      <td>2.737596</td>\n",
       "      <td>6.822439</td>\n",
       "      <td>3.549938</td>\n",
       "      <td>9.198120e-01</td>\n",
       "      <td>Z</td>\n",
       "      <td>1.672658</td>\n",
       "      <td>3.239542</td>\n",
       "      <td>2.030373</td>\n",
       "      <td>1.925763</td>\n",
       "      <td>1.739389e+00</td>\n",
       "    </tr>\n",
       "    <tr>\n",
       "      <th>5</th>\n",
       "      <td>0</td>\n",
       "      <td>1.630686e+00</td>\n",
       "      <td>7.464411</td>\n",
       "      <td>C</td>\n",
       "      <td>4.145098</td>\n",
       "      <td>8.856791</td>\n",
       "      <td>2.436402</td>\n",
       "      <td>2.483921</td>\n",
       "      <td>0.359993</td>\n",
       "      <td>9.031859</td>\n",
       "      <td>...</td>\n",
       "      <td>2.737596</td>\n",
       "      <td>6.822439</td>\n",
       "      <td>3.549938</td>\n",
       "      <td>4.986116e-02</td>\n",
       "      <td>X</td>\n",
       "      <td>1.672658</td>\n",
       "      <td>3.239542</td>\n",
       "      <td>1.536222</td>\n",
       "      <td>1.925763</td>\n",
       "      <td>1.739389e+00</td>\n",
       "    </tr>\n",
       "    <tr>\n",
       "      <th>6</th>\n",
       "      <td>0</td>\n",
       "      <td>8.998057e-01</td>\n",
       "      <td>7.312995</td>\n",
       "      <td>C</td>\n",
       "      <td>3.494148</td>\n",
       "      <td>9.946200</td>\n",
       "      <td>1.926070</td>\n",
       "      <td>1.770427</td>\n",
       "      <td>0.066251</td>\n",
       "      <td>5.011287</td>\n",
       "      <td>...</td>\n",
       "      <td>2.232558</td>\n",
       "      <td>3.476299</td>\n",
       "      <td>1.992594</td>\n",
       "      <td>8.375832e-02</td>\n",
       "      <td>BJ</td>\n",
       "      <td>3.276100</td>\n",
       "      <td>1.623298</td>\n",
       "      <td>2.266575</td>\n",
       "      <td>2.263736</td>\n",
       "      <td>9.708730e-01</td>\n",
       "    </tr>\n",
       "    <tr>\n",
       "      <th>7</th>\n",
       "      <td>1</td>\n",
       "      <td>1.630686e+00</td>\n",
       "      <td>7.464411</td>\n",
       "      <td>C</td>\n",
       "      <td>4.145098</td>\n",
       "      <td>8.742359</td>\n",
       "      <td>2.436402</td>\n",
       "      <td>2.483921</td>\n",
       "      <td>1.496569</td>\n",
       "      <td>9.031859</td>\n",
       "      <td>...</td>\n",
       "      <td>2.737596</td>\n",
       "      <td>6.822439</td>\n",
       "      <td>3.549938</td>\n",
       "      <td>9.198120e-01</td>\n",
       "      <td>BY</td>\n",
       "      <td>1.672658</td>\n",
       "      <td>3.239542</td>\n",
       "      <td>2.030373</td>\n",
       "      <td>1.925763</td>\n",
       "      <td>1.739389e+00</td>\n",
       "    </tr>\n",
       "    <tr>\n",
       "      <th>8</th>\n",
       "      <td>0</td>\n",
       "      <td>2.078651e+00</td>\n",
       "      <td>8.462619</td>\n",
       "      <td>NaN</td>\n",
       "      <td>3.739030</td>\n",
       "      <td>5.265636</td>\n",
       "      <td>1.573033</td>\n",
       "      <td>2.303371</td>\n",
       "      <td>0.015869</td>\n",
       "      <td>11.111111</td>\n",
       "      <td>...</td>\n",
       "      <td>1.276595</td>\n",
       "      <td>8.148148</td>\n",
       "      <td>1.875560</td>\n",
       "      <td>1.865950e-02</td>\n",
       "      <td>S</td>\n",
       "      <td>1.159637</td>\n",
       "      <td>5.582865</td>\n",
       "      <td>1.105283</td>\n",
       "      <td>1.170731</td>\n",
       "      <td>3.333334e+00</td>\n",
       "    </tr>\n",
       "    <tr>\n",
       "      <th>9</th>\n",
       "      <td>1</td>\n",
       "      <td>1.144802e+00</td>\n",
       "      <td>5.880606</td>\n",
       "      <td>C</td>\n",
       "      <td>3.244469</td>\n",
       "      <td>9.538384</td>\n",
       "      <td>2.500001</td>\n",
       "      <td>1.559405</td>\n",
       "      <td>0.412610</td>\n",
       "      <td>9.977529</td>\n",
       "      <td>...</td>\n",
       "      <td>2.715964</td>\n",
       "      <td>7.325843</td>\n",
       "      <td>4.896617</td>\n",
       "      <td>8.943653e-03</td>\n",
       "      <td>E</td>\n",
       "      <td>1.344550</td>\n",
       "      <td>1.601176</td>\n",
       "      <td>1.928009</td>\n",
       "      <td>3.174603</td>\n",
       "      <td>1.000000e+00</td>\n",
       "    </tr>\n",
       "    <tr>\n",
       "      <th>10</th>\n",
       "      <td>1</td>\n",
       "      <td>1.630686e+00</td>\n",
       "      <td>7.464411</td>\n",
       "      <td>C</td>\n",
       "      <td>4.145098</td>\n",
       "      <td>8.742359</td>\n",
       "      <td>2.436402</td>\n",
       "      <td>2.483921</td>\n",
       "      <td>1.496569</td>\n",
       "      <td>9.031859</td>\n",
       "      <td>...</td>\n",
       "      <td>2.737596</td>\n",
       "      <td>6.822439</td>\n",
       "      <td>3.549938</td>\n",
       "      <td>9.198120e-01</td>\n",
       "      <td>AR</td>\n",
       "      <td>1.672658</td>\n",
       "      <td>3.239542</td>\n",
       "      <td>2.030373</td>\n",
       "      <td>1.925763</td>\n",
       "      <td>1.739389e+00</td>\n",
       "    </tr>\n",
       "    <tr>\n",
       "      <th>11</th>\n",
       "      <td>1</td>\n",
       "      <td>1.630686e+00</td>\n",
       "      <td>7.464411</td>\n",
       "      <td>C</td>\n",
       "      <td>4.145098</td>\n",
       "      <td>8.742359</td>\n",
       "      <td>2.436402</td>\n",
       "      <td>2.483921</td>\n",
       "      <td>1.496569</td>\n",
       "      <td>9.031859</td>\n",
       "      <td>...</td>\n",
       "      <td>2.737596</td>\n",
       "      <td>6.822439</td>\n",
       "      <td>3.549938</td>\n",
       "      <td>9.198120e-01</td>\n",
       "      <td>AM</td>\n",
       "      <td>1.672658</td>\n",
       "      <td>3.239542</td>\n",
       "      <td>2.030373</td>\n",
       "      <td>1.925763</td>\n",
       "      <td>1.739389e+00</td>\n",
       "    </tr>\n",
       "    <tr>\n",
       "      <th>12</th>\n",
       "      <td>0</td>\n",
       "      <td>1.630686e+00</td>\n",
       "      <td>7.464411</td>\n",
       "      <td>C</td>\n",
       "      <td>4.145098</td>\n",
       "      <td>8.742359</td>\n",
       "      <td>2.436402</td>\n",
       "      <td>2.483921</td>\n",
       "      <td>1.496569</td>\n",
       "      <td>9.031859</td>\n",
       "      <td>...</td>\n",
       "      <td>2.737596</td>\n",
       "      <td>6.822439</td>\n",
       "      <td>3.549938</td>\n",
       "      <td>9.198120e-01</td>\n",
       "      <td>Z</td>\n",
       "      <td>1.672658</td>\n",
       "      <td>3.239542</td>\n",
       "      <td>2.030373</td>\n",
       "      <td>1.925763</td>\n",
       "      <td>1.739389e+00</td>\n",
       "    </tr>\n",
       "    <tr>\n",
       "      <th>13</th>\n",
       "      <td>1</td>\n",
       "      <td>1.400267e+00</td>\n",
       "      <td>5.367204</td>\n",
       "      <td>C</td>\n",
       "      <td>4.122155</td>\n",
       "      <td>8.137188</td>\n",
       "      <td>2.983080</td>\n",
       "      <td>2.640249</td>\n",
       "      <td>0.211851</td>\n",
       "      <td>11.021506</td>\n",
       "      <td>...</td>\n",
       "      <td>2.314931</td>\n",
       "      <td>8.817203</td>\n",
       "      <td>2.096062</td>\n",
       "      <td>5.459061e-07</td>\n",
       "      <td>AQ</td>\n",
       "      <td>1.731656</td>\n",
       "      <td>6.102516</td>\n",
       "      <td>1.388117</td>\n",
       "      <td>1.220911</td>\n",
       "      <td>1.878453e+00</td>\n",
       "    </tr>\n",
       "    <tr>\n",
       "      <th>14</th>\n",
       "      <td>1</td>\n",
       "      <td>2.260036e+00</td>\n",
       "      <td>14.693263</td>\n",
       "      <td>C</td>\n",
       "      <td>5.150750</td>\n",
       "      <td>8.554136</td>\n",
       "      <td>1.954626</td>\n",
       "      <td>2.931936</td>\n",
       "      <td>0.041446</td>\n",
       "      <td>7.022901</td>\n",
       "      <td>...</td>\n",
       "      <td>1.505377</td>\n",
       "      <td>5.038168</td>\n",
       "      <td>1.836667</td>\n",
       "      <td>5.973979e-03</td>\n",
       "      <td>Z</td>\n",
       "      <td>3.242128</td>\n",
       "      <td>0.818063</td>\n",
       "      <td>2.400050</td>\n",
       "      <td>1.166666</td>\n",
       "      <td>2.857143e+00</td>\n",
       "    </tr>\n",
       "    <tr>\n",
       "      <th>15</th>\n",
       "      <td>1</td>\n",
       "      <td>1.630686e+00</td>\n",
       "      <td>7.464411</td>\n",
       "      <td>C</td>\n",
       "      <td>4.145098</td>\n",
       "      <td>8.742359</td>\n",
       "      <td>2.436402</td>\n",
       "      <td>2.483921</td>\n",
       "      <td>1.496569</td>\n",
       "      <td>9.031859</td>\n",
       "      <td>...</td>\n",
       "      <td>2.737596</td>\n",
       "      <td>6.822439</td>\n",
       "      <td>3.549938</td>\n",
       "      <td>9.198120e-01</td>\n",
       "      <td>BY</td>\n",
       "      <td>1.672658</td>\n",
       "      <td>3.239542</td>\n",
       "      <td>2.030373</td>\n",
       "      <td>1.925763</td>\n",
       "      <td>1.739389e+00</td>\n",
       "    </tr>\n",
       "    <tr>\n",
       "      <th>16</th>\n",
       "      <td>1</td>\n",
       "      <td>6.228961e-01</td>\n",
       "      <td>7.024732</td>\n",
       "      <td>C</td>\n",
       "      <td>4.193688</td>\n",
       "      <td>6.288177</td>\n",
       "      <td>2.132436</td>\n",
       "      <td>3.198654</td>\n",
       "      <td>0.407525</td>\n",
       "      <td>10.434782</td>\n",
       "      <td>...</td>\n",
       "      <td>2.515245</td>\n",
       "      <td>6.086957</td>\n",
       "      <td>2.812624</td>\n",
       "      <td>2.474223e-01</td>\n",
       "      <td>BJ</td>\n",
       "      <td>1.865530</td>\n",
       "      <td>3.345960</td>\n",
       "      <td>0.796533</td>\n",
       "      <td>1.389474</td>\n",
       "      <td>6.060615e-01</td>\n",
       "    </tr>\n",
       "    <tr>\n",
       "      <th>17</th>\n",
       "      <td>1</td>\n",
       "      <td>1.630686e+00</td>\n",
       "      <td>7.464411</td>\n",
       "      <td>C</td>\n",
       "      <td>4.145098</td>\n",
       "      <td>8.742359</td>\n",
       "      <td>2.436402</td>\n",
       "      <td>2.483921</td>\n",
       "      <td>1.496569</td>\n",
       "      <td>9.031859</td>\n",
       "      <td>...</td>\n",
       "      <td>2.737596</td>\n",
       "      <td>6.822439</td>\n",
       "      <td>3.549938</td>\n",
       "      <td>9.198120e-01</td>\n",
       "      <td>Z</td>\n",
       "      <td>1.672658</td>\n",
       "      <td>3.239542</td>\n",
       "      <td>2.030373</td>\n",
       "      <td>1.925763</td>\n",
       "      <td>1.739389e+00</td>\n",
       "    </tr>\n",
       "    <tr>\n",
       "      <th>18</th>\n",
       "      <td>1</td>\n",
       "      <td>1.630686e+00</td>\n",
       "      <td>7.464411</td>\n",
       "      <td>C</td>\n",
       "      <td>4.145098</td>\n",
       "      <td>8.742359</td>\n",
       "      <td>2.436402</td>\n",
       "      <td>2.483921</td>\n",
       "      <td>1.496569</td>\n",
       "      <td>9.031859</td>\n",
       "      <td>...</td>\n",
       "      <td>2.737596</td>\n",
       "      <td>6.822439</td>\n",
       "      <td>3.549938</td>\n",
       "      <td>9.198120e-01</td>\n",
       "      <td>E</td>\n",
       "      <td>1.672658</td>\n",
       "      <td>3.239542</td>\n",
       "      <td>2.030373</td>\n",
       "      <td>1.925763</td>\n",
       "      <td>1.739389e+00</td>\n",
       "    </tr>\n",
       "    <tr>\n",
       "      <th>19</th>\n",
       "      <td>1</td>\n",
       "      <td>1.630686e+00</td>\n",
       "      <td>7.464411</td>\n",
       "      <td>C</td>\n",
       "      <td>4.145098</td>\n",
       "      <td>8.742359</td>\n",
       "      <td>2.436402</td>\n",
       "      <td>2.483921</td>\n",
       "      <td>1.496569</td>\n",
       "      <td>9.031859</td>\n",
       "      <td>...</td>\n",
       "      <td>2.737596</td>\n",
       "      <td>6.822439</td>\n",
       "      <td>3.549938</td>\n",
       "      <td>9.198120e-01</td>\n",
       "      <td>AZ</td>\n",
       "      <td>1.672658</td>\n",
       "      <td>3.239542</td>\n",
       "      <td>2.030373</td>\n",
       "      <td>1.925763</td>\n",
       "      <td>1.739389e+00</td>\n",
       "    </tr>\n",
       "    <tr>\n",
       "      <th>20</th>\n",
       "      <td>1</td>\n",
       "      <td>9.438780e-01</td>\n",
       "      <td>5.927194</td>\n",
       "      <td>C</td>\n",
       "      <td>4.404372</td>\n",
       "      <td>9.045057</td>\n",
       "      <td>2.551021</td>\n",
       "      <td>2.693878</td>\n",
       "      <td>0.085665</td>\n",
       "      <td>8.601036</td>\n",
       "      <td>...</td>\n",
       "      <td>1.840490</td>\n",
       "      <td>6.632125</td>\n",
       "      <td>2.419037</td>\n",
       "      <td>1.847926e-02</td>\n",
       "      <td>U</td>\n",
       "      <td>1.884567</td>\n",
       "      <td>2.602041</td>\n",
       "      <td>1.959776</td>\n",
       "      <td>1.121212</td>\n",
       "      <td>1.351351e+00</td>\n",
       "    </tr>\n",
       "    <tr>\n",
       "      <th>21</th>\n",
       "      <td>1</td>\n",
       "      <td>1.289841e+00</td>\n",
       "      <td>4.788645</td>\n",
       "      <td>C</td>\n",
       "      <td>4.283417</td>\n",
       "      <td>10.719571</td>\n",
       "      <td>3.107570</td>\n",
       "      <td>1.962151</td>\n",
       "      <td>0.080812</td>\n",
       "      <td>8.604652</td>\n",
       "      <td>...</td>\n",
       "      <td>2.023939</td>\n",
       "      <td>5.968993</td>\n",
       "      <td>2.169826</td>\n",
       "      <td>4.919843e-03</td>\n",
       "      <td>CD</td>\n",
       "      <td>1.460793</td>\n",
       "      <td>1.531375</td>\n",
       "      <td>1.964652</td>\n",
       "      <td>2.111675</td>\n",
       "      <td>1.346155e+00</td>\n",
       "    </tr>\n",
       "    <tr>\n",
       "      <th>22</th>\n",
       "      <td>1</td>\n",
       "      <td>7.288239e-01</td>\n",
       "      <td>4.073244</td>\n",
       "      <td>C</td>\n",
       "      <td>4.130054</td>\n",
       "      <td>9.032563</td>\n",
       "      <td>4.149705</td>\n",
       "      <td>1.917269</td>\n",
       "      <td>2.767934</td>\n",
       "      <td>6.149733</td>\n",
       "      <td>...</td>\n",
       "      <td>2.252322</td>\n",
       "      <td>3.903742</td>\n",
       "      <td>3.401924</td>\n",
       "      <td>7.107372e-01</td>\n",
       "      <td>AE</td>\n",
       "      <td>1.840384</td>\n",
       "      <td>3.779547</td>\n",
       "      <td>1.798435</td>\n",
       "      <td>1.986302</td>\n",
       "      <td>8.275852e-01</td>\n",
       "    </tr>\n",
       "    <tr>\n",
       "      <th>23</th>\n",
       "      <td>1</td>\n",
       "      <td>3.944563e+00</td>\n",
       "      <td>5.718516</td>\n",
       "      <td>C</td>\n",
       "      <td>2.205080</td>\n",
       "      <td>5.340648</td>\n",
       "      <td>2.010356</td>\n",
       "      <td>1.657021</td>\n",
       "      <td>3.233160</td>\n",
       "      <td>8.565814</td>\n",
       "      <td>...</td>\n",
       "      <td>3.937994</td>\n",
       "      <td>6.404715</td>\n",
       "      <td>10.691157</td>\n",
       "      <td>3.065766e+00</td>\n",
       "      <td>AU</td>\n",
       "      <td>1.813419</td>\n",
       "      <td>1.233628</td>\n",
       "      <td>0.626694</td>\n",
       "      <td>4.250001</td>\n",
       "      <td>2.422145e+00</td>\n",
       "    </tr>\n",
       "    <tr>\n",
       "      <th>24</th>\n",
       "      <td>1</td>\n",
       "      <td>4.045725e+00</td>\n",
       "      <td>3.992607</td>\n",
       "      <td>C</td>\n",
       "      <td>3.598096</td>\n",
       "      <td>7.946330</td>\n",
       "      <td>1.709742</td>\n",
       "      <td>2.365804</td>\n",
       "      <td>7.827175</td>\n",
       "      <td>9.849247</td>\n",
       "      <td>...</td>\n",
       "      <td>4.064040</td>\n",
       "      <td>5.226130</td>\n",
       "      <td>5.259272</td>\n",
       "      <td>2.690857e+00</td>\n",
       "      <td>BD</td>\n",
       "      <td>1.447090</td>\n",
       "      <td>2.559641</td>\n",
       "      <td>1.509052</td>\n",
       "      <td>3.260504</td>\n",
       "      <td>2.268042e+00</td>\n",
       "    </tr>\n",
       "    <tr>\n",
       "      <th>25</th>\n",
       "      <td>1</td>\n",
       "      <td>1.630686e+00</td>\n",
       "      <td>7.464411</td>\n",
       "      <td>C</td>\n",
       "      <td>4.145098</td>\n",
       "      <td>8.742359</td>\n",
       "      <td>2.436402</td>\n",
       "      <td>2.483921</td>\n",
       "      <td>1.496569</td>\n",
       "      <td>9.031859</td>\n",
       "      <td>...</td>\n",
       "      <td>2.737596</td>\n",
       "      <td>6.822439</td>\n",
       "      <td>3.549938</td>\n",
       "      <td>9.198120e-01</td>\n",
       "      <td>CG</td>\n",
       "      <td>1.672658</td>\n",
       "      <td>3.239542</td>\n",
       "      <td>2.030373</td>\n",
       "      <td>1.925763</td>\n",
       "      <td>1.739389e+00</td>\n",
       "    </tr>\n",
       "    <tr>\n",
       "      <th>26</th>\n",
       "      <td>1</td>\n",
       "      <td>1.630686e+00</td>\n",
       "      <td>7.464411</td>\n",
       "      <td>C</td>\n",
       "      <td>4.145098</td>\n",
       "      <td>8.742359</td>\n",
       "      <td>2.436402</td>\n",
       "      <td>2.483921</td>\n",
       "      <td>1.496569</td>\n",
       "      <td>9.031859</td>\n",
       "      <td>...</td>\n",
       "      <td>2.737596</td>\n",
       "      <td>6.822439</td>\n",
       "      <td>3.549938</td>\n",
       "      <td>9.198120e-01</td>\n",
       "      <td>J</td>\n",
       "      <td>1.672658</td>\n",
       "      <td>3.239542</td>\n",
       "      <td>2.030373</td>\n",
       "      <td>1.925763</td>\n",
       "      <td>1.739389e+00</td>\n",
       "    </tr>\n",
       "    <tr>\n",
       "      <th>27</th>\n",
       "      <td>1</td>\n",
       "      <td>2.920282e-01</td>\n",
       "      <td>12.715811</td>\n",
       "      <td>C</td>\n",
       "      <td>4.999724</td>\n",
       "      <td>5.998656</td>\n",
       "      <td>2.020520</td>\n",
       "      <td>2.620363</td>\n",
       "      <td>0.058548</td>\n",
       "      <td>8.983051</td>\n",
       "      <td>...</td>\n",
       "      <td>1.294117</td>\n",
       "      <td>7.796611</td>\n",
       "      <td>1.697821</td>\n",
       "      <td>7.351065e-03</td>\n",
       "      <td>N</td>\n",
       "      <td>1.491973</td>\n",
       "      <td>4.202842</td>\n",
       "      <td>1.306053</td>\n",
       "      <td>0.722892</td>\n",
       "      <td>6.666657e-01</td>\n",
       "    </tr>\n",
       "    <tr>\n",
       "      <th>28</th>\n",
       "      <td>1</td>\n",
       "      <td>5.172412e-01</td>\n",
       "      <td>8.528544</td>\n",
       "      <td>C</td>\n",
       "      <td>4.075372</td>\n",
       "      <td>5.726834</td>\n",
       "      <td>2.534949</td>\n",
       "      <td>3.643990</td>\n",
       "      <td>0.749568</td>\n",
       "      <td>6.981133</td>\n",
       "      <td>...</td>\n",
       "      <td>1.289198</td>\n",
       "      <td>5.188680</td>\n",
       "      <td>1.788132</td>\n",
       "      <td>8.594683e-02</td>\n",
       "      <td>AR</td>\n",
       "      <td>2.105971</td>\n",
       "      <td>0.524231</td>\n",
       "      <td>0.785667</td>\n",
       "      <td>0.603581</td>\n",
       "      <td>1.016950e+00</td>\n",
       "    </tr>\n",
       "    <tr>\n",
       "      <th>29</th>\n",
       "      <td>0</td>\n",
       "      <td>2.415670e+00</td>\n",
       "      <td>14.960392</td>\n",
       "      <td>C</td>\n",
       "      <td>4.356980</td>\n",
       "      <td>8.520510</td>\n",
       "      <td>2.132753</td>\n",
       "      <td>2.023938</td>\n",
       "      <td>0.035822</td>\n",
       "      <td>7.567568</td>\n",
       "      <td>...</td>\n",
       "      <td>1.582915</td>\n",
       "      <td>5.585586</td>\n",
       "      <td>2.451680</td>\n",
       "      <td>6.640126e-03</td>\n",
       "      <td>Z</td>\n",
       "      <td>1.442224</td>\n",
       "      <td>2.244287</td>\n",
       "      <td>2.373578</td>\n",
       "      <td>1.634408</td>\n",
       "      <td>3.157894e+00</td>\n",
       "    </tr>\n",
       "    <tr>\n",
       "      <th>...</th>\n",
       "      <td>...</td>\n",
       "      <td>...</td>\n",
       "      <td>...</td>\n",
       "      <td>...</td>\n",
       "      <td>...</td>\n",
       "      <td>...</td>\n",
       "      <td>...</td>\n",
       "      <td>...</td>\n",
       "      <td>...</td>\n",
       "      <td>...</td>\n",
       "      <td>...</td>\n",
       "      <td>...</td>\n",
       "      <td>...</td>\n",
       "      <td>...</td>\n",
       "      <td>...</td>\n",
       "      <td>...</td>\n",
       "      <td>...</td>\n",
       "      <td>...</td>\n",
       "      <td>...</td>\n",
       "      <td>...</td>\n",
       "      <td>...</td>\n",
       "    </tr>\n",
       "    <tr>\n",
       "      <th>114291</th>\n",
       "      <td>1</td>\n",
       "      <td>1.630686e+00</td>\n",
       "      <td>7.464411</td>\n",
       "      <td>C</td>\n",
       "      <td>4.145098</td>\n",
       "      <td>8.742359</td>\n",
       "      <td>2.436402</td>\n",
       "      <td>2.483921</td>\n",
       "      <td>1.496569</td>\n",
       "      <td>9.031859</td>\n",
       "      <td>...</td>\n",
       "      <td>2.737596</td>\n",
       "      <td>6.822439</td>\n",
       "      <td>3.549938</td>\n",
       "      <td>9.198120e-01</td>\n",
       "      <td>BM</td>\n",
       "      <td>1.672658</td>\n",
       "      <td>3.239542</td>\n",
       "      <td>2.030373</td>\n",
       "      <td>1.925763</td>\n",
       "      <td>1.739389e+00</td>\n",
       "    </tr>\n",
       "    <tr>\n",
       "      <th>114292</th>\n",
       "      <td>1</td>\n",
       "      <td>2.768086e-01</td>\n",
       "      <td>7.055455</td>\n",
       "      <td>C</td>\n",
       "      <td>3.823010</td>\n",
       "      <td>9.619069</td>\n",
       "      <td>2.194513</td>\n",
       "      <td>1.825436</td>\n",
       "      <td>0.328563</td>\n",
       "      <td>8.838952</td>\n",
       "      <td>...</td>\n",
       "      <td>1.768827</td>\n",
       "      <td>7.116105</td>\n",
       "      <td>3.000683</td>\n",
       "      <td>9.536287e-02</td>\n",
       "      <td>BM</td>\n",
       "      <td>1.528000</td>\n",
       "      <td>2.777432</td>\n",
       "      <td>1.985969</td>\n",
       "      <td>1.639345</td>\n",
       "      <td>3.999997e-01</td>\n",
       "    </tr>\n",
       "    <tr>\n",
       "      <th>114293</th>\n",
       "      <td>1</td>\n",
       "      <td>1.983914e+00</td>\n",
       "      <td>11.296659</td>\n",
       "      <td>C</td>\n",
       "      <td>6.459140</td>\n",
       "      <td>9.193006</td>\n",
       "      <td>1.849866</td>\n",
       "      <td>3.217159</td>\n",
       "      <td>0.055774</td>\n",
       "      <td>7.699531</td>\n",
       "      <td>...</td>\n",
       "      <td>1.264182</td>\n",
       "      <td>6.478874</td>\n",
       "      <td>1.535538</td>\n",
       "      <td>1.466965e-01</td>\n",
       "      <td>G</td>\n",
       "      <td>2.781526</td>\n",
       "      <td>1.131032</td>\n",
       "      <td>2.950252</td>\n",
       "      <td>0.800000</td>\n",
       "      <td>3.333334e+00</td>\n",
       "    </tr>\n",
       "    <tr>\n",
       "      <th>114294</th>\n",
       "      <td>1</td>\n",
       "      <td>1.630686e+00</td>\n",
       "      <td>7.464411</td>\n",
       "      <td>C</td>\n",
       "      <td>4.145098</td>\n",
       "      <td>8.742359</td>\n",
       "      <td>2.436402</td>\n",
       "      <td>2.483921</td>\n",
       "      <td>1.496569</td>\n",
       "      <td>9.031859</td>\n",
       "      <td>...</td>\n",
       "      <td>2.737596</td>\n",
       "      <td>6.822439</td>\n",
       "      <td>3.549938</td>\n",
       "      <td>9.198120e-01</td>\n",
       "      <td>X</td>\n",
       "      <td>1.672658</td>\n",
       "      <td>3.239542</td>\n",
       "      <td>2.030373</td>\n",
       "      <td>1.925763</td>\n",
       "      <td>1.739389e+00</td>\n",
       "    </tr>\n",
       "    <tr>\n",
       "      <th>114295</th>\n",
       "      <td>1</td>\n",
       "      <td>8.743610e-01</td>\n",
       "      <td>8.529843</td>\n",
       "      <td>C</td>\n",
       "      <td>4.391163</td>\n",
       "      <td>9.575062</td>\n",
       "      <td>2.646711</td>\n",
       "      <td>2.103190</td>\n",
       "      <td>1.300537</td>\n",
       "      <td>8.750001</td>\n",
       "      <td>...</td>\n",
       "      <td>2.203856</td>\n",
       "      <td>6.937500</td>\n",
       "      <td>3.171537</td>\n",
       "      <td>1.309991e+00</td>\n",
       "      <td>AR</td>\n",
       "      <td>1.386343</td>\n",
       "      <td>2.880071</td>\n",
       "      <td>2.140204</td>\n",
       "      <td>1.722846</td>\n",
       "      <td>1.043479e+00</td>\n",
       "    </tr>\n",
       "    <tr>\n",
       "      <th>114296</th>\n",
       "      <td>1</td>\n",
       "      <td>1.630686e+00</td>\n",
       "      <td>7.464411</td>\n",
       "      <td>C</td>\n",
       "      <td>4.145098</td>\n",
       "      <td>8.742359</td>\n",
       "      <td>2.436402</td>\n",
       "      <td>2.483921</td>\n",
       "      <td>1.496569</td>\n",
       "      <td>9.031859</td>\n",
       "      <td>...</td>\n",
       "      <td>2.737596</td>\n",
       "      <td>6.822439</td>\n",
       "      <td>3.549938</td>\n",
       "      <td>9.198120e-01</td>\n",
       "      <td>Z</td>\n",
       "      <td>1.672658</td>\n",
       "      <td>3.239542</td>\n",
       "      <td>2.030373</td>\n",
       "      <td>1.925763</td>\n",
       "      <td>1.739389e+00</td>\n",
       "    </tr>\n",
       "    <tr>\n",
       "      <th>114297</th>\n",
       "      <td>1</td>\n",
       "      <td>1.603274e+00</td>\n",
       "      <td>11.493653</td>\n",
       "      <td>C</td>\n",
       "      <td>4.328798</td>\n",
       "      <td>8.055434</td>\n",
       "      <td>1.848820</td>\n",
       "      <td>2.532499</td>\n",
       "      <td>0.171407</td>\n",
       "      <td>11.403508</td>\n",
       "      <td>...</td>\n",
       "      <td>2.478736</td>\n",
       "      <td>9.122806</td>\n",
       "      <td>2.250368</td>\n",
       "      <td>4.670769e-02</td>\n",
       "      <td>AF</td>\n",
       "      <td>1.527338</td>\n",
       "      <td>3.231824</td>\n",
       "      <td>1.246700</td>\n",
       "      <td>1.581749</td>\n",
       "      <td>1.730770e+00</td>\n",
       "    </tr>\n",
       "    <tr>\n",
       "      <th>114298</th>\n",
       "      <td>1</td>\n",
       "      <td>9.477454e-01</td>\n",
       "      <td>8.941986</td>\n",
       "      <td>C</td>\n",
       "      <td>4.578888</td>\n",
       "      <td>14.882313</td>\n",
       "      <td>2.868852</td>\n",
       "      <td>2.402663</td>\n",
       "      <td>0.157079</td>\n",
       "      <td>8.333333</td>\n",
       "      <td>...</td>\n",
       "      <td>1.535509</td>\n",
       "      <td>6.666667</td>\n",
       "      <td>1.856606</td>\n",
       "      <td>9.564098e-03</td>\n",
       "      <td>S</td>\n",
       "      <td>1.586184</td>\n",
       "      <td>2.737578</td>\n",
       "      <td>2.785707</td>\n",
       "      <td>1.049040</td>\n",
       "      <td>1.626015e+00</td>\n",
       "    </tr>\n",
       "    <tr>\n",
       "      <th>114299</th>\n",
       "      <td>1</td>\n",
       "      <td>9.688237e-07</td>\n",
       "      <td>6.163454</td>\n",
       "      <td>C</td>\n",
       "      <td>3.502739</td>\n",
       "      <td>7.202643</td>\n",
       "      <td>1.741765</td>\n",
       "      <td>2.165847</td>\n",
       "      <td>2.424658</td>\n",
       "      <td>11.241831</td>\n",
       "      <td>...</td>\n",
       "      <td>3.343283</td>\n",
       "      <td>6.339869</td>\n",
       "      <td>6.239218</td>\n",
       "      <td>3.054839e+00</td>\n",
       "      <td>V</td>\n",
       "      <td>1.291664</td>\n",
       "      <td>5.253692</td>\n",
       "      <td>1.026424</td>\n",
       "      <td>2.615385</td>\n",
       "      <td>5.482204e-07</td>\n",
       "    </tr>\n",
       "    <tr>\n",
       "      <th>114300</th>\n",
       "      <td>0</td>\n",
       "      <td>1.539335e+00</td>\n",
       "      <td>4.845475</td>\n",
       "      <td>C</td>\n",
       "      <td>4.445304</td>\n",
       "      <td>8.605211</td>\n",
       "      <td>1.906204</td>\n",
       "      <td>2.382753</td>\n",
       "      <td>1.142149</td>\n",
       "      <td>10.191572</td>\n",
       "      <td>...</td>\n",
       "      <td>2.690302</td>\n",
       "      <td>8.505747</td>\n",
       "      <td>2.364559</td>\n",
       "      <td>6.571835e-01</td>\n",
       "      <td>CG</td>\n",
       "      <td>1.380594</td>\n",
       "      <td>7.233358</td>\n",
       "      <td>1.495398</td>\n",
       "      <td>1.511110</td>\n",
       "      <td>1.848739e+00</td>\n",
       "    </tr>\n",
       "    <tr>\n",
       "      <th>114301</th>\n",
       "      <td>1</td>\n",
       "      <td>1.630686e+00</td>\n",
       "      <td>7.464411</td>\n",
       "      <td>C</td>\n",
       "      <td>4.145098</td>\n",
       "      <td>8.742359</td>\n",
       "      <td>2.436402</td>\n",
       "      <td>2.483921</td>\n",
       "      <td>1.496569</td>\n",
       "      <td>9.031859</td>\n",
       "      <td>...</td>\n",
       "      <td>2.737596</td>\n",
       "      <td>6.822439</td>\n",
       "      <td>3.549938</td>\n",
       "      <td>9.198120e-01</td>\n",
       "      <td>BJ</td>\n",
       "      <td>1.672658</td>\n",
       "      <td>3.239542</td>\n",
       "      <td>2.030373</td>\n",
       "      <td>1.925763</td>\n",
       "      <td>1.739389e+00</td>\n",
       "    </tr>\n",
       "    <tr>\n",
       "      <th>114302</th>\n",
       "      <td>1</td>\n",
       "      <td>2.093352e+00</td>\n",
       "      <td>5.696141</td>\n",
       "      <td>C</td>\n",
       "      <td>5.105297</td>\n",
       "      <td>8.836584</td>\n",
       "      <td>2.734559</td>\n",
       "      <td>2.772276</td>\n",
       "      <td>0.195443</td>\n",
       "      <td>8.904110</td>\n",
       "      <td>...</td>\n",
       "      <td>2.764127</td>\n",
       "      <td>6.986301</td>\n",
       "      <td>2.601368</td>\n",
       "      <td>1.805020e-02</td>\n",
       "      <td>AK</td>\n",
       "      <td>1.649315</td>\n",
       "      <td>3.818954</td>\n",
       "      <td>2.049363</td>\n",
       "      <td>1.469388</td>\n",
       "      <td>2.222222e+00</td>\n",
       "    </tr>\n",
       "    <tr>\n",
       "      <th>114303</th>\n",
       "      <td>1</td>\n",
       "      <td>1.630686e+00</td>\n",
       "      <td>7.464411</td>\n",
       "      <td>C</td>\n",
       "      <td>4.145098</td>\n",
       "      <td>8.742359</td>\n",
       "      <td>2.436402</td>\n",
       "      <td>2.483921</td>\n",
       "      <td>1.496569</td>\n",
       "      <td>9.031859</td>\n",
       "      <td>...</td>\n",
       "      <td>2.737596</td>\n",
       "      <td>6.822439</td>\n",
       "      <td>3.549938</td>\n",
       "      <td>9.198120e-01</td>\n",
       "      <td>J</td>\n",
       "      <td>1.672658</td>\n",
       "      <td>3.239542</td>\n",
       "      <td>2.030373</td>\n",
       "      <td>1.925763</td>\n",
       "      <td>1.739389e+00</td>\n",
       "    </tr>\n",
       "    <tr>\n",
       "      <th>114304</th>\n",
       "      <td>1</td>\n",
       "      <td>1.630686e+00</td>\n",
       "      <td>7.464411</td>\n",
       "      <td>C</td>\n",
       "      <td>4.145098</td>\n",
       "      <td>8.742359</td>\n",
       "      <td>2.436402</td>\n",
       "      <td>2.483921</td>\n",
       "      <td>1.496569</td>\n",
       "      <td>9.031859</td>\n",
       "      <td>...</td>\n",
       "      <td>2.737596</td>\n",
       "      <td>6.822439</td>\n",
       "      <td>3.549938</td>\n",
       "      <td>9.198120e-01</td>\n",
       "      <td>H</td>\n",
       "      <td>1.672658</td>\n",
       "      <td>3.239542</td>\n",
       "      <td>2.030373</td>\n",
       "      <td>1.925763</td>\n",
       "      <td>1.739389e+00</td>\n",
       "    </tr>\n",
       "    <tr>\n",
       "      <th>114305</th>\n",
       "      <td>1</td>\n",
       "      <td>1.030641e+00</td>\n",
       "      <td>13.003754</td>\n",
       "      <td>C</td>\n",
       "      <td>4.512371</td>\n",
       "      <td>8.928965</td>\n",
       "      <td>2.548746</td>\n",
       "      <td>2.583565</td>\n",
       "      <td>1.756440</td>\n",
       "      <td>7.988165</td>\n",
       "      <td>...</td>\n",
       "      <td>1.804308</td>\n",
       "      <td>6.331360</td>\n",
       "      <td>1.345799</td>\n",
       "      <td>2.027626e-01</td>\n",
       "      <td>BO</td>\n",
       "      <td>1.535785</td>\n",
       "      <td>2.950904</td>\n",
       "      <td>1.790912</td>\n",
       "      <td>1.110512</td>\n",
       "      <td>1.553399e+00</td>\n",
       "    </tr>\n",
       "    <tr>\n",
       "      <th>114306</th>\n",
       "      <td>1</td>\n",
       "      <td>2.051611e+00</td>\n",
       "      <td>8.259554</td>\n",
       "      <td>C</td>\n",
       "      <td>4.466166</td>\n",
       "      <td>11.291191</td>\n",
       "      <td>2.269140</td>\n",
       "      <td>3.510343</td>\n",
       "      <td>0.215781</td>\n",
       "      <td>8.632813</td>\n",
       "      <td>...</td>\n",
       "      <td>3.019086</td>\n",
       "      <td>5.898438</td>\n",
       "      <td>3.043102</td>\n",
       "      <td>7.758699e-03</td>\n",
       "      <td>BM</td>\n",
       "      <td>2.048144</td>\n",
       "      <td>3.214972</td>\n",
       "      <td>1.805540</td>\n",
       "      <td>1.307412</td>\n",
       "      <td>1.933085e+00</td>\n",
       "    </tr>\n",
       "    <tr>\n",
       "      <th>114307</th>\n",
       "      <td>1</td>\n",
       "      <td>1.630686e+00</td>\n",
       "      <td>7.464411</td>\n",
       "      <td>C</td>\n",
       "      <td>4.145098</td>\n",
       "      <td>8.742359</td>\n",
       "      <td>2.436402</td>\n",
       "      <td>2.483921</td>\n",
       "      <td>1.496569</td>\n",
       "      <td>9.031859</td>\n",
       "      <td>...</td>\n",
       "      <td>2.737596</td>\n",
       "      <td>6.822439</td>\n",
       "      <td>3.549938</td>\n",
       "      <td>9.198120e-01</td>\n",
       "      <td>CD</td>\n",
       "      <td>1.672658</td>\n",
       "      <td>3.239542</td>\n",
       "      <td>2.030373</td>\n",
       "      <td>1.925763</td>\n",
       "      <td>1.739389e+00</td>\n",
       "    </tr>\n",
       "    <tr>\n",
       "      <th>114308</th>\n",
       "      <td>1</td>\n",
       "      <td>1.630686e+00</td>\n",
       "      <td>7.464411</td>\n",
       "      <td>C</td>\n",
       "      <td>4.145098</td>\n",
       "      <td>8.742359</td>\n",
       "      <td>2.436402</td>\n",
       "      <td>2.483921</td>\n",
       "      <td>1.496569</td>\n",
       "      <td>9.031859</td>\n",
       "      <td>...</td>\n",
       "      <td>2.737596</td>\n",
       "      <td>6.822439</td>\n",
       "      <td>3.549938</td>\n",
       "      <td>9.198120e-01</td>\n",
       "      <td>BD</td>\n",
       "      <td>1.672658</td>\n",
       "      <td>3.239542</td>\n",
       "      <td>2.030373</td>\n",
       "      <td>1.925763</td>\n",
       "      <td>1.739389e+00</td>\n",
       "    </tr>\n",
       "    <tr>\n",
       "      <th>114309</th>\n",
       "      <td>0</td>\n",
       "      <td>1.630686e+00</td>\n",
       "      <td>7.464411</td>\n",
       "      <td>C</td>\n",
       "      <td>4.145098</td>\n",
       "      <td>8.742359</td>\n",
       "      <td>2.436402</td>\n",
       "      <td>2.483921</td>\n",
       "      <td>1.496569</td>\n",
       "      <td>9.031859</td>\n",
       "      <td>...</td>\n",
       "      <td>2.737596</td>\n",
       "      <td>6.822439</td>\n",
       "      <td>3.549938</td>\n",
       "      <td>9.198120e-01</td>\n",
       "      <td>A</td>\n",
       "      <td>1.672658</td>\n",
       "      <td>3.239542</td>\n",
       "      <td>2.030373</td>\n",
       "      <td>1.925763</td>\n",
       "      <td>1.739389e+00</td>\n",
       "    </tr>\n",
       "    <tr>\n",
       "      <th>114310</th>\n",
       "      <td>1</td>\n",
       "      <td>1.630686e+00</td>\n",
       "      <td>7.464411</td>\n",
       "      <td>C</td>\n",
       "      <td>4.145098</td>\n",
       "      <td>8.742359</td>\n",
       "      <td>2.436402</td>\n",
       "      <td>2.483921</td>\n",
       "      <td>1.496569</td>\n",
       "      <td>9.031859</td>\n",
       "      <td>...</td>\n",
       "      <td>2.737596</td>\n",
       "      <td>6.822439</td>\n",
       "      <td>3.549938</td>\n",
       "      <td>9.198120e-01</td>\n",
       "      <td>CB</td>\n",
       "      <td>1.672658</td>\n",
       "      <td>3.239542</td>\n",
       "      <td>2.030373</td>\n",
       "      <td>1.925763</td>\n",
       "      <td>1.739389e+00</td>\n",
       "    </tr>\n",
       "    <tr>\n",
       "      <th>114311</th>\n",
       "      <td>1</td>\n",
       "      <td>1.630686e+00</td>\n",
       "      <td>7.464411</td>\n",
       "      <td>C</td>\n",
       "      <td>4.145098</td>\n",
       "      <td>8.742359</td>\n",
       "      <td>2.436402</td>\n",
       "      <td>2.483921</td>\n",
       "      <td>1.496569</td>\n",
       "      <td>9.031859</td>\n",
       "      <td>...</td>\n",
       "      <td>2.737596</td>\n",
       "      <td>6.822439</td>\n",
       "      <td>3.549938</td>\n",
       "      <td>9.198120e-01</td>\n",
       "      <td>O</td>\n",
       "      <td>1.672658</td>\n",
       "      <td>3.239542</td>\n",
       "      <td>2.030373</td>\n",
       "      <td>1.925763</td>\n",
       "      <td>1.739389e+00</td>\n",
       "    </tr>\n",
       "    <tr>\n",
       "      <th>114312</th>\n",
       "      <td>1</td>\n",
       "      <td>1.142478e+00</td>\n",
       "      <td>8.477138</td>\n",
       "      <td>C</td>\n",
       "      <td>3.827255</td>\n",
       "      <td>8.539653</td>\n",
       "      <td>2.276136</td>\n",
       "      <td>1.905602</td>\n",
       "      <td>3.199958</td>\n",
       "      <td>9.625001</td>\n",
       "      <td>...</td>\n",
       "      <td>2.044654</td>\n",
       "      <td>7.437501</td>\n",
       "      <td>2.859732</td>\n",
       "      <td>3.258223e+00</td>\n",
       "      <td>AP</td>\n",
       "      <td>0.958445</td>\n",
       "      <td>2.382003</td>\n",
       "      <td>1.601009</td>\n",
       "      <td>1.851852</td>\n",
       "      <td>1.399999e+00</td>\n",
       "    </tr>\n",
       "    <tr>\n",
       "      <th>114313</th>\n",
       "      <td>1</td>\n",
       "      <td>1.364308e+00</td>\n",
       "      <td>9.621454</td>\n",
       "      <td>C</td>\n",
       "      <td>4.342517</td>\n",
       "      <td>8.648951</td>\n",
       "      <td>2.772861</td>\n",
       "      <td>3.480826</td>\n",
       "      <td>2.208724</td>\n",
       "      <td>9.531914</td>\n",
       "      <td>...</td>\n",
       "      <td>1.919740</td>\n",
       "      <td>8.170212</td>\n",
       "      <td>2.427557</td>\n",
       "      <td>5.664891e-01</td>\n",
       "      <td>CI</td>\n",
       "      <td>2.091074</td>\n",
       "      <td>4.300331</td>\n",
       "      <td>1.738246</td>\n",
       "      <td>0.855932</td>\n",
       "      <td>1.980199e+00</td>\n",
       "    </tr>\n",
       "    <tr>\n",
       "      <th>114314</th>\n",
       "      <td>0</td>\n",
       "      <td>3.633647e+00</td>\n",
       "      <td>3.052302</td>\n",
       "      <td>C</td>\n",
       "      <td>2.055147</td>\n",
       "      <td>7.770079</td>\n",
       "      <td>1.929975</td>\n",
       "      <td>2.459437</td>\n",
       "      <td>0.932377</td>\n",
       "      <td>9.210525</td>\n",
       "      <td>...</td>\n",
       "      <td>4.999999</td>\n",
       "      <td>6.842105</td>\n",
       "      <td>12.727869</td>\n",
       "      <td>5.673148e-01</td>\n",
       "      <td>CD</td>\n",
       "      <td>1.660675</td>\n",
       "      <td>3.074295</td>\n",
       "      <td>1.383798</td>\n",
       "      <td>2.958333</td>\n",
       "      <td>2.159624e+00</td>\n",
       "    </tr>\n",
       "    <tr>\n",
       "      <th>114315</th>\n",
       "      <td>1</td>\n",
       "      <td>1.630686e+00</td>\n",
       "      <td>7.464411</td>\n",
       "      <td>C</td>\n",
       "      <td>4.145098</td>\n",
       "      <td>8.742359</td>\n",
       "      <td>2.436402</td>\n",
       "      <td>2.483921</td>\n",
       "      <td>1.496569</td>\n",
       "      <td>9.031859</td>\n",
       "      <td>...</td>\n",
       "      <td>2.737596</td>\n",
       "      <td>6.822439</td>\n",
       "      <td>3.549938</td>\n",
       "      <td>9.198120e-01</td>\n",
       "      <td>AE</td>\n",
       "      <td>1.672658</td>\n",
       "      <td>3.239542</td>\n",
       "      <td>2.030373</td>\n",
       "      <td>1.925763</td>\n",
       "      <td>1.739389e+00</td>\n",
       "    </tr>\n",
       "    <tr>\n",
       "      <th>114316</th>\n",
       "      <td>1</td>\n",
       "      <td>1.630686e+00</td>\n",
       "      <td>7.464411</td>\n",
       "      <td>C</td>\n",
       "      <td>4.145098</td>\n",
       "      <td>8.742359</td>\n",
       "      <td>2.436402</td>\n",
       "      <td>2.483921</td>\n",
       "      <td>1.496569</td>\n",
       "      <td>9.031859</td>\n",
       "      <td>...</td>\n",
       "      <td>2.737596</td>\n",
       "      <td>6.822439</td>\n",
       "      <td>3.549938</td>\n",
       "      <td>9.198120e-01</td>\n",
       "      <td>AL</td>\n",
       "      <td>1.672658</td>\n",
       "      <td>3.239542</td>\n",
       "      <td>2.030373</td>\n",
       "      <td>1.925763</td>\n",
       "      <td>1.739389e+00</td>\n",
       "    </tr>\n",
       "    <tr>\n",
       "      <th>114317</th>\n",
       "      <td>1</td>\n",
       "      <td>1.630686e+00</td>\n",
       "      <td>7.464411</td>\n",
       "      <td>C</td>\n",
       "      <td>4.145098</td>\n",
       "      <td>8.742359</td>\n",
       "      <td>2.436402</td>\n",
       "      <td>2.483921</td>\n",
       "      <td>1.496569</td>\n",
       "      <td>9.031859</td>\n",
       "      <td>...</td>\n",
       "      <td>2.737596</td>\n",
       "      <td>6.822439</td>\n",
       "      <td>3.549938</td>\n",
       "      <td>9.198120e-01</td>\n",
       "      <td>E</td>\n",
       "      <td>1.672658</td>\n",
       "      <td>3.239542</td>\n",
       "      <td>2.030373</td>\n",
       "      <td>1.925763</td>\n",
       "      <td>1.739389e+00</td>\n",
       "    </tr>\n",
       "    <tr>\n",
       "      <th>114318</th>\n",
       "      <td>1</td>\n",
       "      <td>1.630686e+00</td>\n",
       "      <td>7.464411</td>\n",
       "      <td>C</td>\n",
       "      <td>4.145098</td>\n",
       "      <td>10.069277</td>\n",
       "      <td>2.436402</td>\n",
       "      <td>2.483921</td>\n",
       "      <td>0.323324</td>\n",
       "      <td>9.031859</td>\n",
       "      <td>...</td>\n",
       "      <td>2.737596</td>\n",
       "      <td>6.822439</td>\n",
       "      <td>3.549938</td>\n",
       "      <td>1.567642e-01</td>\n",
       "      <td>Q</td>\n",
       "      <td>1.672658</td>\n",
       "      <td>3.239542</td>\n",
       "      <td>2.417606</td>\n",
       "      <td>1.925763</td>\n",
       "      <td>1.739389e+00</td>\n",
       "    </tr>\n",
       "    <tr>\n",
       "      <th>114319</th>\n",
       "      <td>1</td>\n",
       "      <td>1.630686e+00</td>\n",
       "      <td>7.464411</td>\n",
       "      <td>C</td>\n",
       "      <td>4.145098</td>\n",
       "      <td>10.106144</td>\n",
       "      <td>2.436402</td>\n",
       "      <td>2.483921</td>\n",
       "      <td>0.309226</td>\n",
       "      <td>9.031859</td>\n",
       "      <td>...</td>\n",
       "      <td>2.737596</td>\n",
       "      <td>6.822439</td>\n",
       "      <td>3.549938</td>\n",
       "      <td>4.906576e-01</td>\n",
       "      <td>BW</td>\n",
       "      <td>1.672658</td>\n",
       "      <td>3.239542</td>\n",
       "      <td>3.526650</td>\n",
       "      <td>1.925763</td>\n",
       "      <td>1.739389e+00</td>\n",
       "    </tr>\n",
       "    <tr>\n",
       "      <th>114320</th>\n",
       "      <td>1</td>\n",
       "      <td>1.619763e+00</td>\n",
       "      <td>7.932978</td>\n",
       "      <td>C</td>\n",
       "      <td>4.640085</td>\n",
       "      <td>8.473141</td>\n",
       "      <td>2.351470</td>\n",
       "      <td>2.826766</td>\n",
       "      <td>3.479754</td>\n",
       "      <td>9.629630</td>\n",
       "      <td>...</td>\n",
       "      <td>4.016948</td>\n",
       "      <td>7.936508</td>\n",
       "      <td>2.944285</td>\n",
       "      <td>3.135205e+00</td>\n",
       "      <td>V</td>\n",
       "      <td>1.943149</td>\n",
       "      <td>4.385553</td>\n",
       "      <td>1.604493</td>\n",
       "      <td>1.787610</td>\n",
       "      <td>1.386138e+00</td>\n",
       "    </tr>\n",
       "  </tbody>\n",
       "</table>\n",
       "<p>114321 rows × 128 columns</p>\n",
       "</div>"
      ],
      "text/plain": [
       "        target            v1         v2   v3        v4         v5        v6  \\\n",
       "0            1  1.335739e+00   8.727474    C  3.921026   7.915266  2.599278   \n",
       "1            1  1.630686e+00   7.464411    C  4.145098   9.191265  2.436402   \n",
       "2            1  9.438769e-01   5.310079    C  4.410969   5.326159  3.979592   \n",
       "3            1  7.974146e-01   8.304757    C  4.225930  11.627438  2.097700   \n",
       "4            1  1.630686e+00   7.464411    C  4.145098   8.742359  2.436402   \n",
       "5            0  1.630686e+00   7.464411    C  4.145098   8.856791  2.436402   \n",
       "6            0  8.998057e-01   7.312995    C  3.494148   9.946200  1.926070   \n",
       "7            1  1.630686e+00   7.464411    C  4.145098   8.742359  2.436402   \n",
       "8            0  2.078651e+00   8.462619  NaN  3.739030   5.265636  1.573033   \n",
       "9            1  1.144802e+00   5.880606    C  3.244469   9.538384  2.500001   \n",
       "10           1  1.630686e+00   7.464411    C  4.145098   8.742359  2.436402   \n",
       "11           1  1.630686e+00   7.464411    C  4.145098   8.742359  2.436402   \n",
       "12           0  1.630686e+00   7.464411    C  4.145098   8.742359  2.436402   \n",
       "13           1  1.400267e+00   5.367204    C  4.122155   8.137188  2.983080   \n",
       "14           1  2.260036e+00  14.693263    C  5.150750   8.554136  1.954626   \n",
       "15           1  1.630686e+00   7.464411    C  4.145098   8.742359  2.436402   \n",
       "16           1  6.228961e-01   7.024732    C  4.193688   6.288177  2.132436   \n",
       "17           1  1.630686e+00   7.464411    C  4.145098   8.742359  2.436402   \n",
       "18           1  1.630686e+00   7.464411    C  4.145098   8.742359  2.436402   \n",
       "19           1  1.630686e+00   7.464411    C  4.145098   8.742359  2.436402   \n",
       "20           1  9.438780e-01   5.927194    C  4.404372   9.045057  2.551021   \n",
       "21           1  1.289841e+00   4.788645    C  4.283417  10.719571  3.107570   \n",
       "22           1  7.288239e-01   4.073244    C  4.130054   9.032563  4.149705   \n",
       "23           1  3.944563e+00   5.718516    C  2.205080   5.340648  2.010356   \n",
       "24           1  4.045725e+00   3.992607    C  3.598096   7.946330  1.709742   \n",
       "25           1  1.630686e+00   7.464411    C  4.145098   8.742359  2.436402   \n",
       "26           1  1.630686e+00   7.464411    C  4.145098   8.742359  2.436402   \n",
       "27           1  2.920282e-01  12.715811    C  4.999724   5.998656  2.020520   \n",
       "28           1  5.172412e-01   8.528544    C  4.075372   5.726834  2.534949   \n",
       "29           0  2.415670e+00  14.960392    C  4.356980   8.520510  2.132753   \n",
       "...        ...           ...        ...  ...       ...        ...       ...   \n",
       "114291       1  1.630686e+00   7.464411    C  4.145098   8.742359  2.436402   \n",
       "114292       1  2.768086e-01   7.055455    C  3.823010   9.619069  2.194513   \n",
       "114293       1  1.983914e+00  11.296659    C  6.459140   9.193006  1.849866   \n",
       "114294       1  1.630686e+00   7.464411    C  4.145098   8.742359  2.436402   \n",
       "114295       1  8.743610e-01   8.529843    C  4.391163   9.575062  2.646711   \n",
       "114296       1  1.630686e+00   7.464411    C  4.145098   8.742359  2.436402   \n",
       "114297       1  1.603274e+00  11.493653    C  4.328798   8.055434  1.848820   \n",
       "114298       1  9.477454e-01   8.941986    C  4.578888  14.882313  2.868852   \n",
       "114299       1  9.688237e-07   6.163454    C  3.502739   7.202643  1.741765   \n",
       "114300       0  1.539335e+00   4.845475    C  4.445304   8.605211  1.906204   \n",
       "114301       1  1.630686e+00   7.464411    C  4.145098   8.742359  2.436402   \n",
       "114302       1  2.093352e+00   5.696141    C  5.105297   8.836584  2.734559   \n",
       "114303       1  1.630686e+00   7.464411    C  4.145098   8.742359  2.436402   \n",
       "114304       1  1.630686e+00   7.464411    C  4.145098   8.742359  2.436402   \n",
       "114305       1  1.030641e+00  13.003754    C  4.512371   8.928965  2.548746   \n",
       "114306       1  2.051611e+00   8.259554    C  4.466166  11.291191  2.269140   \n",
       "114307       1  1.630686e+00   7.464411    C  4.145098   8.742359  2.436402   \n",
       "114308       1  1.630686e+00   7.464411    C  4.145098   8.742359  2.436402   \n",
       "114309       0  1.630686e+00   7.464411    C  4.145098   8.742359  2.436402   \n",
       "114310       1  1.630686e+00   7.464411    C  4.145098   8.742359  2.436402   \n",
       "114311       1  1.630686e+00   7.464411    C  4.145098   8.742359  2.436402   \n",
       "114312       1  1.142478e+00   8.477138    C  3.827255   8.539653  2.276136   \n",
       "114313       1  1.364308e+00   9.621454    C  4.342517   8.648951  2.772861   \n",
       "114314       0  3.633647e+00   3.052302    C  2.055147   7.770079  1.929975   \n",
       "114315       1  1.630686e+00   7.464411    C  4.145098   8.742359  2.436402   \n",
       "114316       1  1.630686e+00   7.464411    C  4.145098   8.742359  2.436402   \n",
       "114317       1  1.630686e+00   7.464411    C  4.145098   8.742359  2.436402   \n",
       "114318       1  1.630686e+00   7.464411    C  4.145098  10.069277  2.436402   \n",
       "114319       1  1.630686e+00   7.464411    C  4.145098  10.106144  2.436402   \n",
       "114320       1  1.619763e+00   7.932978    C  4.640085   8.473141  2.351470   \n",
       "\n",
       "              v7        v8         v9      ...           v121      v122  \\\n",
       "0       3.176895  0.012941   9.999999      ...       0.803572  8.000000   \n",
       "1       2.483921  2.301630   9.031859      ...       2.737596  6.822439   \n",
       "2       3.928571  0.019645  12.666667      ...       2.238806  9.333333   \n",
       "3       1.987549  0.171947   8.965516      ...       1.956521  7.018256   \n",
       "4       2.483921  1.496569   9.031859      ...       2.737596  6.822439   \n",
       "5       2.483921  0.359993   9.031859      ...       2.737596  6.822439   \n",
       "6       1.770427  0.066251   5.011287      ...       2.232558  3.476299   \n",
       "7       2.483921  1.496569   9.031859      ...       2.737596  6.822439   \n",
       "8       2.303371  0.015869  11.111111      ...       1.276595  8.148148   \n",
       "9       1.559405  0.412610   9.977529      ...       2.715964  7.325843   \n",
       "10      2.483921  1.496569   9.031859      ...       2.737596  6.822439   \n",
       "11      2.483921  1.496569   9.031859      ...       2.737596  6.822439   \n",
       "12      2.483921  1.496569   9.031859      ...       2.737596  6.822439   \n",
       "13      2.640249  0.211851  11.021506      ...       2.314931  8.817203   \n",
       "14      2.931936  0.041446   7.022901      ...       1.505377  5.038168   \n",
       "15      2.483921  1.496569   9.031859      ...       2.737596  6.822439   \n",
       "16      3.198654  0.407525  10.434782      ...       2.515245  6.086957   \n",
       "17      2.483921  1.496569   9.031859      ...       2.737596  6.822439   \n",
       "18      2.483921  1.496569   9.031859      ...       2.737596  6.822439   \n",
       "19      2.483921  1.496569   9.031859      ...       2.737596  6.822439   \n",
       "20      2.693878  0.085665   8.601036      ...       1.840490  6.632125   \n",
       "21      1.962151  0.080812   8.604652      ...       2.023939  5.968993   \n",
       "22      1.917269  2.767934   6.149733      ...       2.252322  3.903742   \n",
       "23      1.657021  3.233160   8.565814      ...       3.937994  6.404715   \n",
       "24      2.365804  7.827175   9.849247      ...       4.064040  5.226130   \n",
       "25      2.483921  1.496569   9.031859      ...       2.737596  6.822439   \n",
       "26      2.483921  1.496569   9.031859      ...       2.737596  6.822439   \n",
       "27      2.620363  0.058548   8.983051      ...       1.294117  7.796611   \n",
       "28      3.643990  0.749568   6.981133      ...       1.289198  5.188680   \n",
       "29      2.023938  0.035822   7.567568      ...       1.582915  5.585586   \n",
       "...          ...       ...        ...      ...            ...       ...   \n",
       "114291  2.483921  1.496569   9.031859      ...       2.737596  6.822439   \n",
       "114292  1.825436  0.328563   8.838952      ...       1.768827  7.116105   \n",
       "114293  3.217159  0.055774   7.699531      ...       1.264182  6.478874   \n",
       "114294  2.483921  1.496569   9.031859      ...       2.737596  6.822439   \n",
       "114295  2.103190  1.300537   8.750001      ...       2.203856  6.937500   \n",
       "114296  2.483921  1.496569   9.031859      ...       2.737596  6.822439   \n",
       "114297  2.532499  0.171407  11.403508      ...       2.478736  9.122806   \n",
       "114298  2.402663  0.157079   8.333333      ...       1.535509  6.666667   \n",
       "114299  2.165847  2.424658  11.241831      ...       3.343283  6.339869   \n",
       "114300  2.382753  1.142149  10.191572      ...       2.690302  8.505747   \n",
       "114301  2.483921  1.496569   9.031859      ...       2.737596  6.822439   \n",
       "114302  2.772276  0.195443   8.904110      ...       2.764127  6.986301   \n",
       "114303  2.483921  1.496569   9.031859      ...       2.737596  6.822439   \n",
       "114304  2.483921  1.496569   9.031859      ...       2.737596  6.822439   \n",
       "114305  2.583565  1.756440   7.988165      ...       1.804308  6.331360   \n",
       "114306  3.510343  0.215781   8.632813      ...       3.019086  5.898438   \n",
       "114307  2.483921  1.496569   9.031859      ...       2.737596  6.822439   \n",
       "114308  2.483921  1.496569   9.031859      ...       2.737596  6.822439   \n",
       "114309  2.483921  1.496569   9.031859      ...       2.737596  6.822439   \n",
       "114310  2.483921  1.496569   9.031859      ...       2.737596  6.822439   \n",
       "114311  2.483921  1.496569   9.031859      ...       2.737596  6.822439   \n",
       "114312  1.905602  3.199958   9.625001      ...       2.044654  7.437501   \n",
       "114313  3.480826  2.208724   9.531914      ...       1.919740  8.170212   \n",
       "114314  2.459437  0.932377   9.210525      ...       4.999999  6.842105   \n",
       "114315  2.483921  1.496569   9.031859      ...       2.737596  6.822439   \n",
       "114316  2.483921  1.496569   9.031859      ...       2.737596  6.822439   \n",
       "114317  2.483921  1.496569   9.031859      ...       2.737596  6.822439   \n",
       "114318  2.483921  0.323324   9.031859      ...       2.737596  6.822439   \n",
       "114319  2.483921  0.309226   9.031859      ...       2.737596  6.822439   \n",
       "114320  2.826766  3.479754   9.629630      ...       4.016948  7.936508   \n",
       "\n",
       "             v123          v124  v125      v126      v127      v128      v130  \\\n",
       "0        1.989780  3.575369e-02    AU  1.804126  3.113719  2.024285  0.636365   \n",
       "1        3.549938  5.988956e-01    AF  1.672658  3.239542  1.957825  1.925763   \n",
       "2        2.477596  1.345191e-02    AE  1.773709  3.922193  1.120468  0.883118   \n",
       "3        1.812795  2.267384e-03    CJ  1.415230  2.954381  1.990847  1.677108   \n",
       "4        3.549938  9.198120e-01     Z  1.672658  3.239542  2.030373  1.925763   \n",
       "5        3.549938  4.986116e-02     X  1.672658  3.239542  1.536222  1.925763   \n",
       "6        1.992594  8.375832e-02    BJ  3.276100  1.623298  2.266575  2.263736   \n",
       "7        3.549938  9.198120e-01    BY  1.672658  3.239542  2.030373  1.925763   \n",
       "8        1.875560  1.865950e-02     S  1.159637  5.582865  1.105283  1.170731   \n",
       "9        4.896617  8.943653e-03     E  1.344550  1.601176  1.928009  3.174603   \n",
       "10       3.549938  9.198120e-01    AR  1.672658  3.239542  2.030373  1.925763   \n",
       "11       3.549938  9.198120e-01    AM  1.672658  3.239542  2.030373  1.925763   \n",
       "12       3.549938  9.198120e-01     Z  1.672658  3.239542  2.030373  1.925763   \n",
       "13       2.096062  5.459061e-07    AQ  1.731656  6.102516  1.388117  1.220911   \n",
       "14       1.836667  5.973979e-03     Z  3.242128  0.818063  2.400050  1.166666   \n",
       "15       3.549938  9.198120e-01    BY  1.672658  3.239542  2.030373  1.925763   \n",
       "16       2.812624  2.474223e-01    BJ  1.865530  3.345960  0.796533  1.389474   \n",
       "17       3.549938  9.198120e-01     Z  1.672658  3.239542  2.030373  1.925763   \n",
       "18       3.549938  9.198120e-01     E  1.672658  3.239542  2.030373  1.925763   \n",
       "19       3.549938  9.198120e-01    AZ  1.672658  3.239542  2.030373  1.925763   \n",
       "20       2.419037  1.847926e-02     U  1.884567  2.602041  1.959776  1.121212   \n",
       "21       2.169826  4.919843e-03    CD  1.460793  1.531375  1.964652  2.111675   \n",
       "22       3.401924  7.107372e-01    AE  1.840384  3.779547  1.798435  1.986302   \n",
       "23      10.691157  3.065766e+00    AU  1.813419  1.233628  0.626694  4.250001   \n",
       "24       5.259272  2.690857e+00    BD  1.447090  2.559641  1.509052  3.260504   \n",
       "25       3.549938  9.198120e-01    CG  1.672658  3.239542  2.030373  1.925763   \n",
       "26       3.549938  9.198120e-01     J  1.672658  3.239542  2.030373  1.925763   \n",
       "27       1.697821  7.351065e-03     N  1.491973  4.202842  1.306053  0.722892   \n",
       "28       1.788132  8.594683e-02    AR  2.105971  0.524231  0.785667  0.603581   \n",
       "29       2.451680  6.640126e-03     Z  1.442224  2.244287  2.373578  1.634408   \n",
       "...           ...           ...   ...       ...       ...       ...       ...   \n",
       "114291   3.549938  9.198120e-01    BM  1.672658  3.239542  2.030373  1.925763   \n",
       "114292   3.000683  9.536287e-02    BM  1.528000  2.777432  1.985969  1.639345   \n",
       "114293   1.535538  1.466965e-01     G  2.781526  1.131032  2.950252  0.800000   \n",
       "114294   3.549938  9.198120e-01     X  1.672658  3.239542  2.030373  1.925763   \n",
       "114295   3.171537  1.309991e+00    AR  1.386343  2.880071  2.140204  1.722846   \n",
       "114296   3.549938  9.198120e-01     Z  1.672658  3.239542  2.030373  1.925763   \n",
       "114297   2.250368  4.670769e-02    AF  1.527338  3.231824  1.246700  1.581749   \n",
       "114298   1.856606  9.564098e-03     S  1.586184  2.737578  2.785707  1.049040   \n",
       "114299   6.239218  3.054839e+00     V  1.291664  5.253692  1.026424  2.615385   \n",
       "114300   2.364559  6.571835e-01    CG  1.380594  7.233358  1.495398  1.511110   \n",
       "114301   3.549938  9.198120e-01    BJ  1.672658  3.239542  2.030373  1.925763   \n",
       "114302   2.601368  1.805020e-02    AK  1.649315  3.818954  2.049363  1.469388   \n",
       "114303   3.549938  9.198120e-01     J  1.672658  3.239542  2.030373  1.925763   \n",
       "114304   3.549938  9.198120e-01     H  1.672658  3.239542  2.030373  1.925763   \n",
       "114305   1.345799  2.027626e-01    BO  1.535785  2.950904  1.790912  1.110512   \n",
       "114306   3.043102  7.758699e-03    BM  2.048144  3.214972  1.805540  1.307412   \n",
       "114307   3.549938  9.198120e-01    CD  1.672658  3.239542  2.030373  1.925763   \n",
       "114308   3.549938  9.198120e-01    BD  1.672658  3.239542  2.030373  1.925763   \n",
       "114309   3.549938  9.198120e-01     A  1.672658  3.239542  2.030373  1.925763   \n",
       "114310   3.549938  9.198120e-01    CB  1.672658  3.239542  2.030373  1.925763   \n",
       "114311   3.549938  9.198120e-01     O  1.672658  3.239542  2.030373  1.925763   \n",
       "114312   2.859732  3.258223e+00    AP  0.958445  2.382003  1.601009  1.851852   \n",
       "114313   2.427557  5.664891e-01    CI  2.091074  4.300331  1.738246  0.855932   \n",
       "114314  12.727869  5.673148e-01    CD  1.660675  3.074295  1.383798  2.958333   \n",
       "114315   3.549938  9.198120e-01    AE  1.672658  3.239542  2.030373  1.925763   \n",
       "114316   3.549938  9.198120e-01    AL  1.672658  3.239542  2.030373  1.925763   \n",
       "114317   3.549938  9.198120e-01     E  1.672658  3.239542  2.030373  1.925763   \n",
       "114318   3.549938  1.567642e-01     Q  1.672658  3.239542  2.417606  1.925763   \n",
       "114319   3.549938  4.906576e-01    BW  1.672658  3.239542  3.526650  1.925763   \n",
       "114320   2.944285  3.135205e+00     V  1.943149  4.385553  1.604493  1.787610   \n",
       "\n",
       "                v131  \n",
       "0       2.857144e+00  \n",
       "1       1.739389e+00  \n",
       "2       1.176472e+00  \n",
       "3       1.034483e+00  \n",
       "4       1.739389e+00  \n",
       "5       1.739389e+00  \n",
       "6       9.708730e-01  \n",
       "7       1.739389e+00  \n",
       "8       3.333334e+00  \n",
       "9       1.000000e+00  \n",
       "10      1.739389e+00  \n",
       "11      1.739389e+00  \n",
       "12      1.739389e+00  \n",
       "13      1.878453e+00  \n",
       "14      2.857143e+00  \n",
       "15      1.739389e+00  \n",
       "16      6.060615e-01  \n",
       "17      1.739389e+00  \n",
       "18      1.739389e+00  \n",
       "19      1.739389e+00  \n",
       "20      1.351351e+00  \n",
       "21      1.346155e+00  \n",
       "22      8.275852e-01  \n",
       "23      2.422145e+00  \n",
       "24      2.268042e+00  \n",
       "25      1.739389e+00  \n",
       "26      1.739389e+00  \n",
       "27      6.666657e-01  \n",
       "28      1.016950e+00  \n",
       "29      3.157894e+00  \n",
       "...              ...  \n",
       "114291  1.739389e+00  \n",
       "114292  3.999997e-01  \n",
       "114293  3.333334e+00  \n",
       "114294  1.739389e+00  \n",
       "114295  1.043479e+00  \n",
       "114296  1.739389e+00  \n",
       "114297  1.730770e+00  \n",
       "114298  1.626015e+00  \n",
       "114299  5.482204e-07  \n",
       "114300  1.848739e+00  \n",
       "114301  1.739389e+00  \n",
       "114302  2.222222e+00  \n",
       "114303  1.739389e+00  \n",
       "114304  1.739389e+00  \n",
       "114305  1.553399e+00  \n",
       "114306  1.933085e+00  \n",
       "114307  1.739389e+00  \n",
       "114308  1.739389e+00  \n",
       "114309  1.739389e+00  \n",
       "114310  1.739389e+00  \n",
       "114311  1.739389e+00  \n",
       "114312  1.399999e+00  \n",
       "114313  1.980199e+00  \n",
       "114314  2.159624e+00  \n",
       "114315  1.739389e+00  \n",
       "114316  1.739389e+00  \n",
       "114317  1.739389e+00  \n",
       "114318  1.739389e+00  \n",
       "114319  1.739389e+00  \n",
       "114320  1.386138e+00  \n",
       "\n",
       "[114321 rows x 128 columns]"
      ]
     },
     "execution_count": 76,
     "metadata": {},
     "output_type": "execute_result"
    }
   ],
   "source": [
    "train_X"
   ]
  },
  {
   "cell_type": "code",
   "execution_count": 17,
   "metadata": {
    "collapsed": false,
    "deletable": true,
    "editable": true,
    "scrolled": false
   },
   "outputs": [],
   "source": [
    "grouped = train.groupby(['v22', train.v40-train.v50])"
   ]
  },
  {
   "cell_type": "code",
   "execution_count": 3,
   "metadata": {
    "collapsed": false,
    "deletable": true,
    "editable": true
   },
   "outputs": [],
   "source": [
    "# variables to remove(based on Kaggle's script)\n",
    "removal = ['ID','target','v8','v23','v25','v31','v36','v37','v46','v51','v53','v54','v63','v73','v75','v79','v81','v82',\n",
    "           'v89','v92','v95','v105','v107','v108','v109','v110','v116','v117','v118','v119','v123','v124','v128']"
   ]
  },
  {
   "cell_type": "code",
   "execution_count": 4,
   "metadata": {
    "collapsed": false,
    "deletable": true,
    "editable": true
   },
   "outputs": [],
   "source": [
    "test_id = test.ID"
   ]
  },
  {
   "cell_type": "code",
   "execution_count": 5,
   "metadata": {
    "collapsed": true,
    "deletable": true,
    "editable": true
   },
   "outputs": [],
   "source": [
    "Y_train = train.target"
   ]
  },
  {
   "cell_type": "code",
   "execution_count": 6,
   "metadata": {
    "collapsed": true,
    "deletable": true,
    "editable": true
   },
   "outputs": [],
   "source": [
    "X_train = train.drop(removal,axis=1)"
   ]
  },
  {
   "cell_type": "code",
   "execution_count": 7,
   "metadata": {
    "collapsed": false,
    "deletable": true,
    "editable": true
   },
   "outputs": [],
   "source": [
    "removal.remove('target')"
   ]
  },
  {
   "cell_type": "code",
   "execution_count": 8,
   "metadata": {
    "collapsed": false,
    "deletable": true,
    "editable": true
   },
   "outputs": [],
   "source": [
    "X_test = test.drop(removal,axis=1)"
   ]
  },
  {
   "cell_type": "code",
   "execution_count": 9,
   "metadata": {
    "collapsed": false,
    "deletable": true,
    "editable": true
   },
   "outputs": [],
   "source": [
    "# categorical columns \n",
    "cat = ['v3','v22','v24','v30','v47','v52','v56','v66','v71','v74','v91','v112','v113','v125'] \n",
    "# numerical columns\n",
    "num = [v for v in list(X_train.columns.values) if v not in cat] "
   ]
  },
  {
   "cell_type": "code",
   "execution_count": 10,
   "metadata": {
    "collapsed": false,
    "deletable": true,
    "editable": true,
    "scrolled": true
   },
   "outputs": [],
   "source": [
    "for c in cat:\n",
    "    X_train[c].replace(np.nan,' ', regex=True, inplace= True)\n",
    "    X_test[c].replace(np.nan,' ', regex=True, inplace= True)"
   ]
  },
  {
   "cell_type": "code",
   "execution_count": 11,
   "metadata": {
    "collapsed": true,
    "deletable": true,
    "editable": true
   },
   "outputs": [],
   "source": [
    "X_train.fillna(-1, inplace = True)\n",
    "X_test.fillna(-1, inplace = True)"
   ]
  },
  {
   "cell_type": "code",
   "execution_count": 12,
   "metadata": {
    "collapsed": false,
    "deletable": true,
    "editable": true,
    "scrolled": true
   },
   "outputs": [],
   "source": [
    "# label encode the categorical variables\n",
    "for s in cat:\n",
    "    lbl = preprocessing.LabelEncoder()\n",
    "    lbl.fit(list(X_train[s])+list(X_test[s]))\n",
    "    X_train[s] = lbl.transform(X_train[s])\n",
    "    X_test[s] = lbl.transform(X_test[s])"
   ]
  },
  {
   "cell_type": "markdown",
   "metadata": {
    "deletable": true,
    "editable": true
   },
   "source": [
    "### Feature Selection"
   ]
  },
  {
   "cell_type": "markdown",
   "metadata": {
    "deletable": true,
    "editable": true
   },
   "source": [
    "#### Randomized Logistic Regression  "
   ]
  },
  {
   "cell_type": "code",
   "execution_count": 106,
   "metadata": {
    "collapsed": true,
    "deletable": true,
    "editable": true
   },
   "outputs": [],
   "source": [
    "randomized_logistic = linear_model.RandomizedLogisticRegression(n_jobs=1,n_resampling=200,selection_threshold=0.000001,random_state=123)"
   ]
  },
  {
   "cell_type": "code",
   "execution_count": 107,
   "metadata": {
    "collapsed": false,
    "deletable": true,
    "editable": true
   },
   "outputs": [
    {
     "data": {
      "text/plain": [
       "RandomizedLogisticRegression(C=1, fit_intercept=True,\n",
       "               memory=Memory(cachedir=None), n_jobs=1, n_resampling=200,\n",
       "               normalize=True, pre_dispatch='3*n_jobs', random_state=123,\n",
       "               sample_fraction=0.75, scaling=0.5,\n",
       "               selection_threshold=1e-06, tol=0.001, verbose=False)"
      ]
     },
     "execution_count": 107,
     "metadata": {},
     "output_type": "execute_result"
    }
   ],
   "source": [
    "randomized_logistic.fit(X_train,Y_train)"
   ]
  },
  {
   "cell_type": "code",
   "execution_count": 108,
   "metadata": {
    "collapsed": false,
    "deletable": true,
    "editable": true
   },
   "outputs": [],
   "source": [
    "idx = randomized_logistic.get_support(indices=False)\n",
    "selected_features1 = X_train.columns.values[idx] # 32 variables"
   ]
  },
  {
   "cell_type": "markdown",
   "metadata": {
    "deletable": true,
    "editable": true
   },
   "source": [
    "#### Random Forest"
   ]
  },
  {
   "cell_type": "code",
   "execution_count": 110,
   "metadata": {
    "collapsed": false,
    "deletable": true,
    "editable": true
   },
   "outputs": [],
   "source": [
    "rf = ensemble.RandomForestClassifier(n_estimators=50,criterion='entropy',n_jobs=-1,random_state=123)"
   ]
  },
  {
   "cell_type": "code",
   "execution_count": 111,
   "metadata": {
    "collapsed": false,
    "deletable": true,
    "editable": true
   },
   "outputs": [
    {
     "name": "stdout",
     "output_type": "stream",
     "text": [
      "Features sorted by their score:\n"
     ]
    }
   ],
   "source": [
    "rf.fit(X_train,Y_train)\n",
    "print (\"Features sorted by their score:\")\n",
    "importance = sorted(zip(map(lambda x: round(x, 8), rf.feature_importances_), X_train.columns.values),reverse=True)"
   ]
  },
  {
   "cell_type": "code",
   "execution_count": 112,
   "metadata": {
    "collapsed": false,
    "deletable": true,
    "editable": true
   },
   "outputs": [],
   "source": [
    "# select the features with importance greater than 0.005\n",
    "selected_features2 = [importance[i][1] for i in  range(X_train.shape[1]) if importance[i][0] > 0.005] # 90 variables "
   ]
  },
  {
   "cell_type": "code",
   "execution_count": 114,
   "metadata": {
    "collapsed": true,
    "deletable": true,
    "editable": true
   },
   "outputs": [],
   "source": [
    "more_features = [x for x in selected_features2 if x not in selected_features1] \n",
    "selected_features = list(selected_features1) + more_features"
   ]
  },
  {
   "cell_type": "code",
   "execution_count": 115,
   "metadata": {
    "collapsed": false,
    "deletable": true,
    "editable": true
   },
   "outputs": [
    {
     "data": {
      "text/plain": [
       "array(['v3', 'v10', 'v12', 'v14', 'v21', 'v24', 'v33', 'v34', 'v38', 'v39',\n",
       "       'v40', 'v47', 'v50', 'v55', 'v56', 'v58', 'v62', 'v66', 'v71',\n",
       "       'v72', 'v74', 'v83', 'v85', 'v88', 'v100', 'v111', 'v112', 'v113',\n",
       "       'v114', 'v121', 'v129', 'v130', 'v22', 'v125', 'v52', 'v91', 'v30',\n",
       "       'v98', 'v5', 'v87', 'v70', 'v6', 'v120', 'v1', 'v131', 'v28', 'v57',\n",
       "       'v16', 'v99', 'v102', 'v78', 'v69', 'v126', 'v18', 'v45', 'v90',\n",
       "       'v127', 'v115', 'v35', 'v68', 'v122', 'v27', 'v2', 'v103', 'v11',\n",
       "       'v104', 'v97', 'v4', 'v9', 'v7', 'v43', 'v20', 'v80', 'v19', 'v86',\n",
       "       'v84', 'v15', 'v42', 'v101', 'v13', 'v44', 'v26', 'v32', 'v60',\n",
       "       'v49', 'v94', 'v77', 'v59', 'v93', 'v65', 'v61', 'v76', 'v67'], \n",
       "      dtype='<U4')"
      ]
     },
     "execution_count": 115,
     "metadata": {},
     "output_type": "execute_result"
    }
   ],
   "source": [
    "np.array(selected_features) # 93"
   ]
  },
  {
   "cell_type": "code",
   "execution_count": 13,
   "metadata": {
    "collapsed": true,
    "deletable": true,
    "editable": true
   },
   "outputs": [],
   "source": [
    "selected_features =['v3', 'v10', 'v12', 'v14', 'v21', 'v24', 'v33', 'v34', 'v38', 'v39',\n",
    "       'v40', 'v47', 'v50', 'v55', 'v56', 'v58', 'v62', 'v66', 'v71',\n",
    "       'v72', 'v74', 'v83', 'v85', 'v88', 'v100', 'v111', 'v112', 'v113',\n",
    "       'v114', 'v121', 'v129', 'v130', 'v22', 'v125', 'v52', 'v91', 'v30',\n",
    "       'v98', 'v5', 'v87', 'v70', 'v6', 'v120', 'v1', 'v131', 'v28', 'v57',\n",
    "       'v16', 'v99', 'v102', 'v78', 'v69', 'v126', 'v18', 'v45', 'v90',\n",
    "       'v127', 'v115', 'v35', 'v68', 'v122', 'v27', 'v2', 'v103', 'v11',\n",
    "       'v104', 'v97', 'v4', 'v9', 'v7', 'v43', 'v20', 'v80', 'v19', 'v86',\n",
    "       'v84', 'v15', 'v42', 'v101', 'v13', 'v44', 'v26', 'v32', 'v60',\n",
    "       'v49', 'v94', 'v77', 'v59', 'v93', 'v65', 'v61', 'v76', 'v67']"
   ]
  },
  {
   "cell_type": "markdown",
   "metadata": {
    "deletable": true,
    "editable": true
   },
   "source": [
    "### Ensembling"
   ]
  },
  {
   "cell_type": "code",
   "execution_count": 15,
   "metadata": {
    "collapsed": true,
    "deletable": true,
    "editable": true
   },
   "outputs": [],
   "source": [
    "np.random.seed(0)"
   ]
  },
  {
   "cell_type": "code",
   "execution_count": 22,
   "metadata": {
    "collapsed": true,
    "deletable": true,
    "editable": true
   },
   "outputs": [],
   "source": [
    "nfolds = 10"
   ]
  },
  {
   "cell_type": "code",
   "execution_count": 20,
   "metadata": {
    "collapsed": true,
    "deletable": true,
    "editable": true
   },
   "outputs": [],
   "source": [
    "clfs = [XGBClassifier(learning_rate =0.01, n_estimators=2000, max_depth=8, min_child_weight=1.5, gamma=0, reg_alpha=0.01,\n",
    "                      subsample=0.8, colsample_bytree=0.8, objective= 'binary:logistic', nthread=4, scale_pos_weight=1),\n",
    "        ensemble.ExtraTreesClassifier(n_estimators=1000, max_features= 40, criterion= 'entropy',min_samples_split= 4,\n",
    "                                      max_depth= 35, min_samples_leaf= 2, n_jobs = -1)]\n"
   ]
  },
  {
   "cell_type": "code",
   "execution_count": null,
   "metadata": {
    "collapsed": true,
    "deletable": true,
    "editable": true
   },
   "outputs": [],
   "source": [
    "stf = list(StratifiedKFold(Y_train, nfolds))"
   ]
  },
  {
   "cell_type": "code",
   "execution_count": 21,
   "metadata": {
    "collapsed": false,
    "deletable": true,
    "editable": true
   },
   "outputs": [
    {
     "name": "stdout",
     "output_type": "stream",
     "text": [
      "Creating train and test sets for blending.\n"
     ]
    }
   ],
   "source": [
    "print (\"Creating train and test sets for blending.\")\n",
    "    \n",
    "train_blend = np.zeros((X_train.shape[0], len(clfs)))\n",
    "test_blend = np.zeros((X_test.shape[0], len(clfs)))"
   ]
  },
  {
   "cell_type": "code",
   "execution_count": 23,
   "metadata": {
    "collapsed": false,
    "deletable": true,
    "editable": true
   },
   "outputs": [
    {
     "name": "stdout",
     "output_type": "stream",
     "text": [
      "0 XGBClassifier(base_score=0.5, colsample_bylevel=1, colsample_bytree=0.8,\n",
      "       gamma=0, learning_rate=0.01, max_delta_step=0, max_depth=8,\n",
      "       min_child_weight=1.5, missing=None, n_estimators=1800, nthread=4,\n",
      "       objective='binary:logistic', reg_alpha=0.01, reg_lambda=1,\n",
      "       scale_pos_weight=1, seed=0, silent=True, subsample=0.8)\n",
      "Fold 0\n",
      "Fold 1\n",
      "Fold 2\n",
      "Fold 3\n",
      "Fold 4\n",
      "1 ExtraTreesClassifier(bootstrap=False, class_weight=None, criterion='entropy',\n",
      "           max_depth=35, max_features=45, max_leaf_nodes=None,\n",
      "           min_samples_leaf=2, min_samples_split=4,\n",
      "           min_weight_fraction_leaf=0.0, n_estimators=1000, n_jobs=-1,\n",
      "           oob_score=False, random_state=None, verbose=0, warm_start=False)\n",
      "Fold 0\n",
      "Fold 1\n",
      "Fold 2\n",
      "Fold 3\n",
      "Fold 4\n"
     ]
    }
   ],
   "source": [
    "for j, clf in enumerate(clfs):\n",
    "    print (j, clf)\n",
    "    test_blend_j = np.zeros((X_test.shape[0], len(stf)))\n",
    "    for i, (train, test) in enumerate(stf):\n",
    "        print (\"Fold\", i)\n",
    "        x_train = X_train[selected_features].iloc[train,:]\n",
    "        y_train = Y_train[train]\n",
    "        x_test = X_train[selected_features].iloc[test,:]\n",
    "        y_test = Y_train[test]\n",
    "        if j == 0: \n",
    "            clf.fit(x_train, y_train,eval_metric='logloss')\n",
    "        else:\n",
    "            clf.fit(x_train, y_train)\n",
    "        y_prob = clf.predict_proba(x_test)[:,1]\n",
    "        train_blend[test, j] = y_prob\n",
    "        test_blend_j[:, i] = clf.predict_proba(X_test[selected_features])[:,1]\n",
    "    test_blend[:,j] = test_blend_j.mean(1)"
   ]
  },
  {
   "cell_type": "code",
   "execution_count": 33,
   "metadata": {
    "collapsed": false,
    "deletable": true,
    "editable": true
   },
   "outputs": [
    {
     "name": "stdout",
     "output_type": "stream",
     "text": [
      "Blending...\n"
     ]
    }
   ],
   "source": [
    "print (\"Blending...\")\n",
    "#clf = linear_model.LogisticRegression()\n",
    "clf = XGBClassifier(learning_rate =0.1, n_estimators=150, max_depth=8,\n",
    "                    min_child_weight=1.5, gamma=0, reg_alpha=0.01, subsample=0.8, \n",
    "                    colsample_bytree=0.8, objective= 'binary:logistic',\n",
    "                    nthread=4, scale_pos_weight=1)\n",
    "clf.fit(train_blend, Y_train,eval_metric='logloss')\n",
    "y_submission = clf.predict_proba(test_blend)[:,1]"
   ]
  },
  {
   "cell_type": "code",
   "execution_count": 34,
   "metadata": {
    "collapsed": false,
    "deletable": true,
    "editable": true
   },
   "outputs": [
    {
     "data": {
      "text/plain": [
       "array([ 0.24433048,  0.92933369,  0.80345118, ...,  0.91320717,\n",
       "        0.95779061,  0.52396667], dtype=float32)"
      ]
     },
     "execution_count": 34,
     "metadata": {},
     "output_type": "execute_result"
    }
   ],
   "source": [
    "y_submission"
   ]
  },
  {
   "cell_type": "code",
   "execution_count": 28,
   "metadata": {
    "collapsed": false,
    "deletable": true,
    "editable": true
   },
   "outputs": [
    {
     "data": {
      "text/plain": [
       "array([ 0.30858418,  0.90845704,  0.82227165, ...,  0.91441107,\n",
       "        0.95158339,  0.44549522], dtype=float32)"
      ]
     },
     "execution_count": 28,
     "metadata": {},
     "output_type": "execute_result"
    }
   ],
   "source": [
    "y_submission"
   ]
  },
  {
   "cell_type": "markdown",
   "metadata": {
    "deletable": true,
    "editable": true
   },
   "source": [
    "### Logistic "
   ]
  },
  {
   "cell_type": "code",
   "execution_count": 115,
   "metadata": {
    "collapsed": true,
    "deletable": true,
    "editable": true
   },
   "outputs": [],
   "source": [
    "LOG  = linear_model.LogisticRegression(C=0.1,n_jobs=-1)"
   ]
  },
  {
   "cell_type": "code",
   "execution_count": 116,
   "metadata": {
    "collapsed": false,
    "deletable": true,
    "editable": true
   },
   "outputs": [
    {
     "data": {
      "text/plain": [
       "LogisticRegression(C=0.1, class_weight=None, dual=False, fit_intercept=True,\n",
       "          intercept_scaling=1, max_iter=100, multi_class='ovr', n_jobs=-1,\n",
       "          penalty='l2', random_state=None, solver='liblinear', tol=0.0001,\n",
       "          verbose=0, warm_start=False)"
      ]
     },
     "execution_count": 116,
     "metadata": {},
     "output_type": "execute_result"
    }
   ],
   "source": [
    "LOG.fit(X_train[selected_features],Y_train)"
   ]
  },
  {
   "cell_type": "code",
   "execution_count": 117,
   "metadata": {
    "collapsed": true,
    "deletable": true,
    "editable": true
   },
   "outputs": [],
   "source": [
    "Prob_log = LOG.predict_proba(X_test[selected_features])[:,1]"
   ]
  },
  {
   "cell_type": "code",
   "execution_count": 174,
   "metadata": {
    "collapsed": true,
    "deletable": true,
    "editable": true
   },
   "outputs": [],
   "source": [
    "pb_log = LOG.predict_proba(X_train[selected_features])[:,1]"
   ]
  },
  {
   "cell_type": "markdown",
   "metadata": {
    "deletable": true,
    "editable": true
   },
   "source": [
    "### KNN"
   ]
  },
  {
   "cell_type": "code",
   "execution_count": 191,
   "metadata": {
    "collapsed": false,
    "deletable": true,
    "editable": true
   },
   "outputs": [],
   "source": [
    "KNN = neighbors.KNeighborsClassifier(n_neighbors=500, weights='distance',n_jobs=-1)"
   ]
  },
  {
   "cell_type": "code",
   "execution_count": 241,
   "metadata": {
    "collapsed": false,
    "deletable": true,
    "editable": true,
    "scrolled": true
   },
   "outputs": [
    {
     "ename": "TypeError",
     "evalue": "fit() missing 1 required positional argument: 'y'",
     "output_type": "error",
     "traceback": [
      "\u001b[1;31m---------------------------------------------------------------------------\u001b[0m",
      "\u001b[1;31mTypeError\u001b[0m                                 Traceback (most recent call last)",
      "\u001b[1;32m<ipython-input-241-b99860a30fab>\u001b[0m in \u001b[0;36m<module>\u001b[1;34m()\u001b[0m\n\u001b[1;32m----> 1\u001b[1;33m \u001b[0mKNN\u001b[0m\u001b[1;33m.\u001b[0m\u001b[0mfit\u001b[0m\u001b[1;33m(\u001b[0m\u001b[0mX_train\u001b[0m\u001b[1;33m[\u001b[0m\u001b[0mselected_features\u001b[0m\u001b[1;33m]\u001b[0m\u001b[1;33m)\u001b[0m\u001b[1;33m\u001b[0m\u001b[0m\n\u001b[0m",
      "\u001b[1;31mTypeError\u001b[0m: fit() missing 1 required positional argument: 'y'"
     ]
    }
   ],
   "source": [
    "KNN.fit(X_train[selected_features],Y_train)"
   ]
  },
  {
   "cell_type": "code",
   "execution_count": 193,
   "metadata": {
    "collapsed": false,
    "deletable": true,
    "editable": true
   },
   "outputs": [],
   "source": [
    "Prob_knn = KNN.predict_proba(X_test[selected_features])[:,1]"
   ]
  },
  {
   "cell_type": "code",
   "execution_count": 195,
   "metadata": {
    "collapsed": false,
    "deletable": true,
    "editable": true
   },
   "outputs": [],
   "source": [
    "pb_knn = KNN.predict(X_train[selected_features])[:,1]"
   ]
  },
  {
   "cell_type": "code",
   "execution_count": 240,
   "metadata": {
    "collapsed": false,
    "deletable": true,
    "editable": true
   },
   "outputs": [
    {
     "name": "stdout",
     "output_type": "stream",
     "text": [
      "Help on method fit in module sklearn.neighbors.base:\n",
      "\n",
      "fit(X, y) method of sklearn.neighbors.classification.KNeighborsClassifier instance\n",
      "    Fit the model using X as training data and y as target values\n",
      "    \n",
      "    Parameters\n",
      "    ----------\n",
      "    X : {array-like, sparse matrix, BallTree, KDTree}\n",
      "        Training data. If array or matrix, shape [n_samples, n_features],\n",
      "        or [n_samples, n_samples] if metric='precomputed'.\n",
      "    \n",
      "    y : {array-like, sparse matrix}\n",
      "        Target values of shape = [n_samples] or [n_samples, n_outputs]\n",
      "\n"
     ]
    }
   ],
   "source": [
    "help(KNN.fit)"
   ]
  },
  {
   "cell_type": "markdown",
   "metadata": {
    "deletable": true,
    "editable": true
   },
   "source": [
    "### XGBoost"
   ]
  },
  {
   "cell_type": "code",
   "execution_count": 103,
   "metadata": {
    "collapsed": false,
    "deletable": true,
    "editable": true
   },
   "outputs": [],
   "source": [
    "XGB = XGBClassifier(learning_rate =0.01, n_estimators=2000, max_depth=8,\n",
    " min_child_weight=1.5, gamma=0, reg_alpha=0.01, subsample=0.8, colsample_bytree=0.8, objective= 'binary:logistic',\n",
    " nthread=4, scale_pos_weight=1)"
   ]
  },
  {
   "cell_type": "code",
   "execution_count": 104,
   "metadata": {
    "collapsed": false,
    "deletable": true,
    "editable": true
   },
   "outputs": [
    {
     "data": {
      "text/plain": [
       "XGBClassifier(base_score=0.5, colsample_bylevel=1, colsample_bytree=0.8,\n",
       "       gamma=0, learning_rate=0.01, max_delta_step=0, max_depth=8,\n",
       "       min_child_weight=1.5, missing=None, n_estimators=2000, nthread=4,\n",
       "       objective='binary:logistic', reg_alpha=0.01, reg_lambda=1,\n",
       "       scale_pos_weight=1, seed=0, silent=True, subsample=0.8)"
      ]
     },
     "execution_count": 104,
     "metadata": {},
     "output_type": "execute_result"
    }
   ],
   "source": [
    "XGB.fit(X_train[selected_features], Y_train,eval_metric='logloss')"
   ]
  },
  {
   "cell_type": "code",
   "execution_count": 105,
   "metadata": {
    "collapsed": false,
    "deletable": true,
    "editable": true
   },
   "outputs": [],
   "source": [
    "Prob_xgb = XGB.predict_proba(X_test[selected_features])[:,1]"
   ]
  },
  {
   "cell_type": "code",
   "execution_count": 176,
   "metadata": {
    "collapsed": true,
    "deletable": true,
    "editable": true
   },
   "outputs": [],
   "source": [
    "pb_xgb = XGB.predict_proba(X_train[selected_features])[:,1]"
   ]
  },
  {
   "cell_type": "markdown",
   "metadata": {
    "deletable": true,
    "editable": true
   },
   "source": [
    "### ExtraTreesClassifier"
   ]
  },
  {
   "cell_type": "code",
   "execution_count": 106,
   "metadata": {
    "collapsed": true,
    "deletable": true,
    "editable": true
   },
   "outputs": [],
   "source": [
    "EXT = ensemble.ExtraTreesClassifier(n_estimators=1000, max_features= 45, criterion= 'entropy',min_samples_split= 4, \n",
    "                                    max_depth= 35, min_samples_leaf= 2, n_jobs = -1)"
   ]
  },
  {
   "cell_type": "code",
   "execution_count": 107,
   "metadata": {
    "collapsed": false,
    "deletable": true,
    "editable": true
   },
   "outputs": [
    {
     "data": {
      "text/plain": [
       "ExtraTreesClassifier(bootstrap=False, class_weight=None, criterion='entropy',\n",
       "           max_depth=35, max_features=45, max_leaf_nodes=None,\n",
       "           min_samples_leaf=2, min_samples_split=4,\n",
       "           min_weight_fraction_leaf=0.0, n_estimators=1000, n_jobs=-1,\n",
       "           oob_score=False, random_state=None, verbose=0, warm_start=False)"
      ]
     },
     "execution_count": 107,
     "metadata": {},
     "output_type": "execute_result"
    }
   ],
   "source": [
    "EXT.fit(X_train[selected_features], Y_train)"
   ]
  },
  {
   "cell_type": "code",
   "execution_count": 108,
   "metadata": {
    "collapsed": true,
    "deletable": true,
    "editable": true
   },
   "outputs": [],
   "source": [
    "Prob_ext = EXT.predict_proba(X_test[selected_features])[:,1]"
   ]
  },
  {
   "cell_type": "code",
   "execution_count": 177,
   "metadata": {
    "collapsed": true,
    "deletable": true,
    "editable": true
   },
   "outputs": [],
   "source": [
    "pb_ext = EXT.predict_proba(X_train[selected_features])[:,1]"
   ]
  },
  {
   "cell_type": "markdown",
   "metadata": {
    "deletable": true,
    "editable": true
   },
   "source": [
    "### Random Forest"
   ]
  },
  {
   "cell_type": "code",
   "execution_count": 109,
   "metadata": {
    "collapsed": true,
    "deletable": true,
    "editable": true
   },
   "outputs": [],
   "source": [
    "RF = ensemble.RandomForestClassifier(n_estimators=1000,criterion='entropy',n_jobs=-1)"
   ]
  },
  {
   "cell_type": "code",
   "execution_count": 110,
   "metadata": {
    "collapsed": false,
    "deletable": true,
    "editable": true
   },
   "outputs": [
    {
     "data": {
      "text/plain": [
       "RandomForestClassifier(bootstrap=True, class_weight=None, criterion='entropy',\n",
       "            max_depth=None, max_features='auto', max_leaf_nodes=None,\n",
       "            min_samples_leaf=1, min_samples_split=2,\n",
       "            min_weight_fraction_leaf=0.0, n_estimators=800, n_jobs=-1,\n",
       "            oob_score=False, random_state=None, verbose=0,\n",
       "            warm_start=False)"
      ]
     },
     "execution_count": 110,
     "metadata": {},
     "output_type": "execute_result"
    }
   ],
   "source": [
    "RF.fit(X_train[selected_features],Y_train)"
   ]
  },
  {
   "cell_type": "code",
   "execution_count": 111,
   "metadata": {
    "collapsed": true,
    "deletable": true,
    "editable": true
   },
   "outputs": [],
   "source": [
    "Prob_rf = RF.predict_proba(X_test[selected_features])[:,1]"
   ]
  },
  {
   "cell_type": "code",
   "execution_count": 178,
   "metadata": {
    "collapsed": true,
    "deletable": true,
    "editable": true
   },
   "outputs": [],
   "source": [
    "pb_rf = RF.predict_proba(X_train[selected_features])[:,1]"
   ]
  },
  {
   "cell_type": "markdown",
   "metadata": {
    "deletable": true,
    "editable": true
   },
   "source": [
    "### GBM"
   ]
  },
  {
   "cell_type": "code",
   "execution_count": 112,
   "metadata": {
    "collapsed": true,
    "deletable": true,
    "editable": true
   },
   "outputs": [],
   "source": [
    "GBM = ensemble.GradientBoostingClassifier(learning_rate=0.01, n_estimators=2000,loss='deviance')"
   ]
  },
  {
   "cell_type": "code",
   "execution_count": 113,
   "metadata": {
    "collapsed": false,
    "deletable": true,
    "editable": true
   },
   "outputs": [
    {
     "data": {
      "text/plain": [
       "GradientBoostingClassifier(init=None, learning_rate=0.01, loss='deviance',\n",
       "              max_depth=3, max_features=None, max_leaf_nodes=None,\n",
       "              min_samples_leaf=1, min_samples_split=2,\n",
       "              min_weight_fraction_leaf=0.0, n_estimators=2000,\n",
       "              presort='auto', random_state=None, subsample=1.0, verbose=0,\n",
       "              warm_start=False)"
      ]
     },
     "execution_count": 113,
     "metadata": {},
     "output_type": "execute_result"
    }
   ],
   "source": [
    "GBM.fit(X_train[selected_features],Y_train)"
   ]
  },
  {
   "cell_type": "code",
   "execution_count": 114,
   "metadata": {
    "collapsed": true,
    "deletable": true,
    "editable": true
   },
   "outputs": [],
   "source": [
    "Prob_gbm = GBM.predict_proba(X_test[selected_features])[:,1]"
   ]
  },
  {
   "cell_type": "code",
   "execution_count": 179,
   "metadata": {
    "collapsed": true,
    "deletable": true,
    "editable": true
   },
   "outputs": [],
   "source": [
    "pb_gbm = GBM.predict_proba(X_train[selected_features])[:,1]"
   ]
  },
  {
   "cell_type": "markdown",
   "metadata": {
    "deletable": true,
    "editable": true
   },
   "source": [
    "### ExtraTreesRegressor"
   ]
  },
  {
   "cell_type": "code",
   "execution_count": 118,
   "metadata": {
    "collapsed": true,
    "deletable": true,
    "editable": true
   },
   "outputs": [],
   "source": [
    "ETR = ensemble.ExtraTreesRegressor(n_estimators=1000, min_samples_split= 4, min_samples_leaf= 2, n_jobs =-1)"
   ]
  },
  {
   "cell_type": "code",
   "execution_count": 119,
   "metadata": {
    "collapsed": false,
    "deletable": true,
    "editable": true
   },
   "outputs": [
    {
     "data": {
      "text/plain": [
       "ExtraTreesRegressor(bootstrap=False, criterion='mse', max_depth=None,\n",
       "          max_features='auto', max_leaf_nodes=None, min_samples_leaf=2,\n",
       "          min_samples_split=4, min_weight_fraction_leaf=0.0,\n",
       "          n_estimators=1000, n_jobs=-1, oob_score=False, random_state=None,\n",
       "          verbose=0, warm_start=False)"
      ]
     },
     "execution_count": 119,
     "metadata": {},
     "output_type": "execute_result"
    }
   ],
   "source": [
    "ETR.fit(X_train[selected_features],Y_train)"
   ]
  },
  {
   "cell_type": "code",
   "execution_count": 120,
   "metadata": {
    "collapsed": false,
    "deletable": true,
    "editable": true
   },
   "outputs": [],
   "source": [
    "Prob_etr = ETR.predict(X_test[selected_features])"
   ]
  },
  {
   "cell_type": "code",
   "execution_count": 180,
   "metadata": {
    "collapsed": true,
    "deletable": true,
    "editable": true
   },
   "outputs": [],
   "source": [
    "pb_etr = ETR.predict(X_train[selected_features])"
   ]
  },
  {
   "cell_type": "markdown",
   "metadata": {
    "deletable": true,
    "editable": true
   },
   "source": [
    "### RandomForestRegressor"
   ]
  },
  {
   "cell_type": "code",
   "execution_count": 121,
   "metadata": {
    "collapsed": true,
    "deletable": true,
    "editable": true
   },
   "outputs": [],
   "source": [
    "RFR= ensemble.RandomForestRegressor(n_estimators=1000,  min_samples_split= 4, min_samples_leaf= 2, n_jobs =-1)"
   ]
  },
  {
   "cell_type": "code",
   "execution_count": 122,
   "metadata": {
    "collapsed": false,
    "deletable": true,
    "editable": true
   },
   "outputs": [
    {
     "data": {
      "text/plain": [
       "RandomForestRegressor(bootstrap=True, criterion='mse', max_depth=None,\n",
       "           max_features='auto', max_leaf_nodes=None, min_samples_leaf=2,\n",
       "           min_samples_split=4, min_weight_fraction_leaf=0.0,\n",
       "           n_estimators=1000, n_jobs=-1, oob_score=False,\n",
       "           random_state=None, verbose=0, warm_start=False)"
      ]
     },
     "execution_count": 122,
     "metadata": {},
     "output_type": "execute_result"
    }
   ],
   "source": [
    "RFR.fit(X_train[selected_features],Y_train)"
   ]
  },
  {
   "cell_type": "code",
   "execution_count": 123,
   "metadata": {
    "collapsed": true,
    "deletable": true,
    "editable": true
   },
   "outputs": [],
   "source": [
    "Prob_rfr = RFR.predict(X_test[selected_features])"
   ]
  },
  {
   "cell_type": "code",
   "execution_count": 169,
   "metadata": {
    "collapsed": false,
    "deletable": true,
    "editable": true
   },
   "outputs": [],
   "source": [
    "pb_rfr = RFR.predict_prob(X_train[selected_features])"
   ]
  },
  {
   "cell_type": "code",
   "execution_count": 200,
   "metadata": {
    "collapsed": true,
    "deletable": true,
    "editable": true
   },
   "outputs": [],
   "source": [
    "meta_features = pd.DataFrame({'LOG':pb_log,'XGB':pb_xgb,'EXT':pb_ext,'RF':pb_rf,'GBM':pb_gbm,'ETR':pb_etr,'RFR':pb_rfr})"
   ]
  },
  {
   "cell_type": "code",
   "execution_count": 231,
   "metadata": {
    "collapsed": true,
    "deletable": true,
    "editable": true
   },
   "outputs": [],
   "source": [
    "test_features = pd.DataFrame({'XGB':Prob_xgb,'EXT':Prob_ext,'RF':Prob_rf,'GBM':Prob_gbm,'ETR':Prob_etr,'RFR':Prob_rfr})"
   ]
  },
  {
   "cell_type": "code",
   "execution_count": 217,
   "metadata": {
    "collapsed": false,
    "deletable": true,
    "editable": true
   },
   "outputs": [],
   "source": [
    "clf = XGBClassifier(learning_rate =0.01, n_estimators=1500, max_depth=8,\n",
    " min_child_weight=1.5, gamma=0, reg_alpha=0.01, subsample=0.8, colsample_bytree=0.8, objective= 'binary:logistic',\n",
    " nthread=4, scale_pos_weight=1)"
   ]
  },
  {
   "cell_type": "code",
   "execution_count": 218,
   "metadata": {
    "collapsed": false,
    "deletable": true,
    "editable": true
   },
   "outputs": [
    {
     "data": {
      "text/plain": [
       "XGBClassifier(base_score=0.5, colsample_bylevel=1, colsample_bytree=0.8,\n",
       "       gamma=0, learning_rate=0.01, max_delta_step=0, max_depth=8,\n",
       "       min_child_weight=1.5, missing=None, n_estimators=1500, nthread=4,\n",
       "       objective='binary:logistic', reg_alpha=0.01, reg_lambda=1,\n",
       "       scale_pos_weight=1, seed=0, silent=True, subsample=0.8)"
      ]
     },
     "execution_count": 218,
     "metadata": {},
     "output_type": "execute_result"
    }
   ],
   "source": [
    "clf.fit(meta_features, Y_train,eval_metric='logloss')"
   ]
  },
  {
   "cell_type": "code",
   "execution_count": 219,
   "metadata": {
    "collapsed": false,
    "deletable": true,
    "editable": true
   },
   "outputs": [],
   "source": [
    "Prob = clf.predict_proba(test_features)[:,1]"
   ]
  },
  {
   "cell_type": "code",
   "execution_count": 234,
   "metadata": {
    "collapsed": true,
    "deletable": true,
    "editable": true
   },
   "outputs": [],
   "source": [
    "AVG = 1/6*( Prob_xgb + Prob_ext + Prob_rf + Prob_gbm + Prob_etr + Prob_rfr)"
   ]
  },
  {
   "cell_type": "code",
   "execution_count": 166,
   "metadata": {
    "collapsed": true,
    "deletable": true,
    "editable": true
   },
   "outputs": [],
   "source": [
    "test_features.to_csv('testfeatures.csv', index = False)"
   ]
  },
  {
   "cell_type": "code",
   "execution_count": 237,
   "metadata": {
    "collapsed": true,
    "deletable": true,
    "editable": true
   },
   "outputs": [],
   "source": [
    "submission = pd.DataFrame({'ID':test_id, 'PredictedProb':AVG})"
   ]
  },
  {
   "cell_type": "code",
   "execution_count": 238,
   "metadata": {
    "collapsed": true,
    "deletable": true,
    "editable": true
   },
   "outputs": [],
   "source": [
    "submission.to_csv('submission32.csv', index = False)"
   ]
  },
  {
   "cell_type": "code",
   "execution_count": 226,
   "metadata": {
    "collapsed": false,
    "deletable": true,
    "editable": true
   },
   "outputs": [
    {
     "data": {
      "text/plain": [
       "array([[ 1.        ,  0.16503597],\n",
       "       [ 0.16503597,  1.        ]])"
      ]
     },
     "execution_count": 226,
     "metadata": {},
     "output_type": "execute_result"
    }
   ],
   "source": [
    "np.corrcoef(Prob_log,Prob_knn) "
   ]
  }
 ],
 "metadata": {
  "anaconda-cloud": {},
  "kernelspec": {
   "display_name": "Python 3",
   "language": "python",
   "name": "python3"
  },
  "language_info": {
   "codemirror_mode": {
    "name": "ipython",
    "version": 3
   },
   "file_extension": ".py",
   "mimetype": "text/x-python",
   "name": "python",
   "nbconvert_exporter": "python",
   "pygments_lexer": "ipython3",
   "version": "3.5.3"
  }
 },
 "nbformat": 4,
 "nbformat_minor": 0
}
